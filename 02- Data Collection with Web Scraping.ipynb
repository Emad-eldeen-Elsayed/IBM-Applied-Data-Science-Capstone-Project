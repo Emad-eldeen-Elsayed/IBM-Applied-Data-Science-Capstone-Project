





<!DOCTYPE html>
<html lang="en" data-color-mode="auto" data-light-theme="light" data-dark-theme="dark" data-a11y-animated-images="system">
  <head>
    <meta charset="utf-8">
  <link rel="dns-prefetch" href="https://github.githubassets.com">
  <link rel="dns-prefetch" href="https://avatars.githubusercontent.com">
  <link rel="dns-prefetch" href="https://github-cloud.s3.amazonaws.com">
  <link rel="dns-prefetch" href="https://user-images.githubusercontent.com/">
  <link rel="preconnect" href="https://github.githubassets.com" crossorigin>
  <link rel="preconnect" href="https://avatars.githubusercontent.com">

  


  <link crossorigin="anonymous" media="all" rel="stylesheet" href="https://github.githubassets.com/assets/light-0946cdc16f15.css" /><link crossorigin="anonymous" media="all" rel="stylesheet" href="https://github.githubassets.com/assets/dark-3946c959759a.css" /><link data-color-theme="dark_dimmed" crossorigin="anonymous" media="all" rel="stylesheet" data-href="https://github.githubassets.com/assets/dark_dimmed-9b9a8c91acc5.css" /><link data-color-theme="dark_high_contrast" crossorigin="anonymous" media="all" rel="stylesheet" data-href="https://github.githubassets.com/assets/dark_high_contrast-11302a585e33.css" /><link data-color-theme="dark_colorblind" crossorigin="anonymous" media="all" rel="stylesheet" data-href="https://github.githubassets.com/assets/dark_colorblind-1a4564ab0fbf.css" /><link data-color-theme="light_colorblind" crossorigin="anonymous" media="all" rel="stylesheet" data-href="https://github.githubassets.com/assets/light_colorblind-12a8b2aa9101.css" /><link data-color-theme="light_high_contrast" crossorigin="anonymous" media="all" rel="stylesheet" data-href="https://github.githubassets.com/assets/light_high_contrast-5924a648f3e7.css" /><link data-color-theme="light_tritanopia" crossorigin="anonymous" media="all" rel="stylesheet" data-href="https://github.githubassets.com/assets/light_tritanopia-05358496cb79.css" /><link data-color-theme="dark_tritanopia" crossorigin="anonymous" media="all" rel="stylesheet" data-href="https://github.githubassets.com/assets/dark_tritanopia-aad6b801a158.css" />
    <link crossorigin="anonymous" media="all" rel="stylesheet" href="https://github.githubassets.com/assets/primer-primitives-fb1d51d1ef66.css" />
    <link crossorigin="anonymous" media="all" rel="stylesheet" href="https://github.githubassets.com/assets/primer-0e3420bbec16.css" />
    <link crossorigin="anonymous" media="all" rel="stylesheet" href="https://github.githubassets.com/assets/global-f0dd479818fb.css" />
    <link crossorigin="anonymous" media="all" rel="stylesheet" href="https://github.githubassets.com/assets/github-a69d72a5a7a6.css" />
  <link crossorigin="anonymous" media="all" rel="stylesheet" href="https://github.githubassets.com/assets/code-bca84018cba2.css" />



  <script crossorigin="anonymous" defer="defer" type="application/javascript" src="https://github.githubassets.com/assets/wp-runtime-a2ded9fe951e.js"></script>
<script crossorigin="anonymous" defer="defer" type="application/javascript" src="https://github.githubassets.com/assets/vendors-node_modules_stacktrace-parser_dist_stack-trace-parser_esm_js-node_modules_github_bro-a4c183-ae93d3fba59c.js"></script>
<script crossorigin="anonymous" defer="defer" type="application/javascript" src="https://github.githubassets.com/assets/ui_packages_soft-nav_soft-nav_ts-899d6d5b0d82.js"></script>
<script crossorigin="anonymous" defer="defer" type="application/javascript" src="https://github.githubassets.com/assets/environment-07edc14d05eb.js"></script>
<script crossorigin="anonymous" defer="defer" type="application/javascript" src="https://github.githubassets.com/assets/vendors-node_modules_github_selector-observer_dist_index_esm_js-2646a2c533e3.js"></script>
<script crossorigin="anonymous" defer="defer" type="application/javascript" src="https://github.githubassets.com/assets/vendors-node_modules_github_relative-time-element_dist_index_js-99e288659d4f.js"></script>
<script crossorigin="anonymous" defer="defer" type="application/javascript" src="https://github.githubassets.com/assets/vendors-node_modules_github_markdown-toolbar-element_dist_index_js-496d76cca51c.js"></script>
<script crossorigin="anonymous" defer="defer" type="application/javascript" src="https://github.githubassets.com/assets/vendors-node_modules_delegated-events_dist_index_js-node_modules_github_auto-complete-element-5b3870-ff38694180c6.js"></script>
<script crossorigin="anonymous" defer="defer" type="application/javascript" src="https://github.githubassets.com/assets/vendors-node_modules_github_file-attachment-element_dist_index_js-node_modules_github_text-ex-3415a8-7ecc10fb88d0.js"></script>
<script crossorigin="anonymous" defer="defer" type="application/javascript" src="https://github.githubassets.com/assets/vendors-node_modules_github_filter-input-element_dist_index_js-node_modules_github_remote-inp-d1569f-eb0e0c1e5438.js"></script>
<script crossorigin="anonymous" defer="defer" type="application/javascript" src="https://github.githubassets.com/assets/vendors-node_modules_primer_view-components_app_components_primer_primer_js-node_modules_gith-3af896-d8cf3e5f5813.js"></script>
<script crossorigin="anonymous" defer="defer" type="application/javascript" src="https://github.githubassets.com/assets/github-elements-895dc242ef37.js"></script>
<script crossorigin="anonymous" defer="defer" type="application/javascript" src="https://github.githubassets.com/assets/element-registry-2b4c6cb03489.js"></script>
<script crossorigin="anonymous" defer="defer" type="application/javascript" src="https://github.githubassets.com/assets/vendors-node_modules_lit-html_lit-html_js-9d9fe1859ce5.js"></script>
<script crossorigin="anonymous" defer="defer" type="application/javascript" src="https://github.githubassets.com/assets/vendors-node_modules_github_mini-throttle_dist_index_js-node_modules_github_alive-client_dist-bf5aa2-424aa982deef.js"></script>
<script crossorigin="anonymous" defer="defer" type="application/javascript" src="https://github.githubassets.com/assets/vendors-node_modules_github_turbo_dist_turbo_es2017-esm_js-ba0e4d5b3207.js"></script>
<script crossorigin="anonymous" defer="defer" type="application/javascript" src="https://github.githubassets.com/assets/vendors-node_modules_color-convert_index_js-node_modules_github_jtml_lib_index_js-40bf234a19dc.js"></script>
<script crossorigin="anonymous" defer="defer" type="application/javascript" src="https://github.githubassets.com/assets/vendors-node_modules_github_remote-form_dist_index_js-node_modules_scroll-anchoring_dist_scro-52dc4b-e1e33bfc0b7e.js"></script>
<script crossorigin="anonymous" defer="defer" type="application/javascript" src="https://github.githubassets.com/assets/vendors-node_modules_github_paste-markdown_dist_index_esm_js-node_modules_github_quote-select-0ea842-0c42838a12e3.js"></script>
<script crossorigin="anonymous" defer="defer" type="application/javascript" src="https://github.githubassets.com/assets/app_assets_modules_github_updatable-content_ts-dadb69f79923.js"></script>
<script crossorigin="anonymous" defer="defer" type="application/javascript" src="https://github.githubassets.com/assets/app_assets_modules_github_behaviors_keyboard-shortcuts-helper_ts-app_assets_modules_github_be-f5afdb-3a77a772cd4d.js"></script>
<script crossorigin="anonymous" defer="defer" type="application/javascript" src="https://github.githubassets.com/assets/app_assets_modules_github_sticky-scroll-into-view_ts-050ad6637d58.js"></script>
<script crossorigin="anonymous" defer="defer" type="application/javascript" src="https://github.githubassets.com/assets/app_assets_modules_github_behaviors_ajax-error_ts-app_assets_modules_github_behaviors_include-2e2258-7effad8d88d4.js"></script>
<script crossorigin="anonymous" defer="defer" type="application/javascript" src="https://github.githubassets.com/assets/app_assets_modules_github_behaviors_commenting_edit_ts-app_assets_modules_github_behaviors_ht-83c235-c97eacdef68a.js"></script>
<script crossorigin="anonymous" defer="defer" type="application/javascript" src="https://github.githubassets.com/assets/app_assets_modules_github_blob-anchor_ts-app_assets_modules_github_filter-sort_ts-app_assets_-e5f169-c54621d9e188.js"></script>
<script crossorigin="anonymous" defer="defer" type="application/javascript" src="https://github.githubassets.com/assets/behaviors-64e2c8665c6a.js"></script>
<script crossorigin="anonymous" defer="defer" type="application/javascript" src="https://github.githubassets.com/assets/vendors-node_modules_delegated-events_dist_index_js-node_modules_github_catalyst_lib_index_js-623425af41e1.js"></script>
<script crossorigin="anonymous" defer="defer" type="application/javascript" src="https://github.githubassets.com/assets/notifications-global-0104a8043aa4.js"></script>
<script crossorigin="anonymous" defer="defer" type="application/javascript" src="https://github.githubassets.com/assets/code-menu-7dfb8cccdca1.js"></script>
  
  <script crossorigin="anonymous" defer="defer" type="application/javascript" src="https://github.githubassets.com/assets/react-lib-210c4b5934c3.js"></script>
<script crossorigin="anonymous" defer="defer" type="application/javascript" src="https://github.githubassets.com/assets/vendors-node_modules_primer_octicons-react_dist_index_esm_js-node_modules_primer_react_lib-es-ca6dae-3877a32f03c0.js"></script>
<script crossorigin="anonymous" defer="defer" type="application/javascript" src="https://github.githubassets.com/assets/vendors-node_modules_primer_react_lib-esm_Button_Button_js-node_modules_primer_react_lib-esm_-1523be-44ddafc1a22a.js"></script>
<script crossorigin="anonymous" defer="defer" type="application/javascript" src="https://github.githubassets.com/assets/vendors-node_modules_primer_react_lib-esm_ActionList_index_js-node_modules_primer_react_lib-e-d264d6-c8762646a0bc.js"></script>
<script crossorigin="anonymous" defer="defer" type="application/javascript" src="https://github.githubassets.com/assets/vendors-node_modules_dompurify_dist_purify_js-64d590970fa6.js"></script>
<script crossorigin="anonymous" defer="defer" type="application/javascript" src="https://github.githubassets.com/assets/vendors-node_modules_primer_react_lib-esm_deprecated_ActionList_index_js-node_modules_primer_-fed12b-aab66293925c.js"></script>
<script crossorigin="anonymous" defer="defer" type="application/javascript" src="https://github.githubassets.com/assets/vendors-node_modules_primer_react_lib-esm_FormControl_FormControl_js-785e3d3ff3f3.js"></script>
<script crossorigin="anonymous" defer="defer" type="application/javascript" src="https://github.githubassets.com/assets/vendors-node_modules_primer_react_lib-esm_ActionMenu_js-node_modules_primer_react_lib-esm_Sty-aa3149-e33bed59a504.js"></script>
<script crossorigin="anonymous" defer="defer" type="application/javascript" src="https://github.githubassets.com/assets/vendors-node_modules_primer_react_lib-esm_Heading_Heading_js-node_modules_primer_react_lib-es-20c766-2f73d206e824.js"></script>
<script crossorigin="anonymous" defer="defer" type="application/javascript" src="https://github.githubassets.com/assets/vendors-node_modules_primer_react_lib-esm_Dialog_ConfirmationDialog_js-87d8bd9c967a.js"></script>
<script crossorigin="anonymous" defer="defer" type="application/javascript" src="https://github.githubassets.com/assets/vendors-node_modules_primer_behaviors_dist_esm_focus-zone_js-e11d55a242ff.js"></script>
<script crossorigin="anonymous" defer="defer" type="application/javascript" src="https://github.githubassets.com/assets/vendors-node_modules_primer_react_lib-esm_TreeView_TreeView_js-7165830dc4a6.js"></script>
<script crossorigin="anonymous" defer="defer" type="application/javascript" src="https://github.githubassets.com/assets/vendors-node_modules_primer_react_lib-esm_Avatar_Avatar_js-node_modules_primer_react_lib-esm_-e50dd0-010c6c426684.js"></script>
<script crossorigin="anonymous" defer="defer" type="application/javascript" src="https://github.githubassets.com/assets/vendors-node_modules_primer_react_lib-esm_BranchName_BranchName_js-node_modules_primer_react_-46257e-5b5057dc510b.js"></script>
<script crossorigin="anonymous" defer="defer" type="application/javascript" src="https://github.githubassets.com/assets/vendors-node_modules_github_blackbird-parser_dist_blackbird_js-fcd9d30e9b7e.js"></script>
<script crossorigin="anonymous" defer="defer" type="application/javascript" src="https://github.githubassets.com/assets/vendors-node_modules_primer_react_lib-esm_Button_LinkButton_js-node_modules_primer_react_lib--78707d-699fdb92ee9f.js"></script>
<script crossorigin="anonymous" defer="defer" type="application/javascript" src="https://github.githubassets.com/assets/vendors-node_modules_primer_react_lib-esm_NavList_NavList_js-node_modules_primer_react_lib-es-ff3f14-8c5958c1d74b.js"></script>
<script crossorigin="anonymous" defer="defer" type="application/javascript" src="https://github.githubassets.com/assets/vendors-node_modules_primer_behaviors_dist_esm_anchored-position_js-node_modules_primer_react-ed87f1-7f78e689b3aa.js"></script>
<script crossorigin="anonymous" defer="defer" type="application/javascript" src="https://github.githubassets.com/assets/vendors-node_modules_primer_behaviors_dist_esm_scroll-into-view_js-node_modules_primer_react_-6e9ceb-c48d22163509.js"></script>
<script crossorigin="anonymous" defer="defer" type="application/javascript" src="https://github.githubassets.com/assets/ui_packages_react-core_deferred-registry_ts-ui_packages_react-core_AppContextProvider_tsx-ui_-ffd985-0c6c86cde0a6.js"></script>
<script crossorigin="anonymous" defer="defer" type="application/javascript" src="https://github.githubassets.com/assets/ui_packages_react-core_Entry_tsx-fb91e5830a2a.js"></script>
<script crossorigin="anonymous" defer="defer" type="application/javascript" src="https://github.githubassets.com/assets/ui_packages_paths_path_ts-ui_packages_verified-fetch_verified-fetch_ts-ui_packages_safe-html_-d7e3f1-16d318bde543.js"></script>
<script crossorigin="anonymous" defer="defer" type="application/javascript" src="https://github.githubassets.com/assets/ui_packages_use-navigate_use-navigate_ts-ui_packages_ref-selector_RefSelector_tsx-8ee43a3ee61b.js"></script>
<script crossorigin="anonymous" defer="defer" type="application/javascript" src="https://github.githubassets.com/assets/app_assets_modules_blackbird-monolith_hooks_use-navigate-to-query_ts-app_assets_modules_black-acda4b-0e9eb2be5491.js"></script>
<script crossorigin="anonymous" defer="defer" type="application/javascript" src="https://github.githubassets.com/assets/app_assets_modules_react-code-view_pages_CodeView_tsx-1b43c199bd2f.js"></script>
<script crossorigin="anonymous" defer="defer" type="application/javascript" src="https://github.githubassets.com/assets/react-code-view-76d5797f4850.js"></script>


  <title>IBM-Applied-Data-Science-Capstone-Project/2_Data Collection with Web Scraping.ipynb at main · EveThan/IBM-Applied-Data-Science-Capstone-Project</title>



  <meta name="route-pattern" content="/:user_id/:repository/blob/*name(/*path)">

    
  <meta name="current-catalog-service-hash" content="82c569b93da5c18ed649ebd4c2c79437db4611a6a1373e805a3cb001c64130b7">


  <meta name="request-id" content="CDE1:1C37:132BFF55:1375BBDA:64856FC8" data-turbo-transient="true" /><meta name="html-safe-nonce" content="c8863175d0694f4a49db4eaef50f961627bf03a4afaf09d4c8ffa67991bf3870" data-turbo-transient="true" /><meta name="visitor-payload" content="eyJyZWZlcnJlciI6Imh0dHBzOi8vZ2l0aHViLmNvbS9FdmVUaGFuL0lCTS1BcHBsaWVkLURhdGEtU2NpZW5jZS1DYXBzdG9uZS1Qcm9qZWN0L3RyZWUvbWFpbiIsInJlcXVlc3RfaWQiOiJDREUxOjFDMzc6MTMyQkZGNTU6MTM3NUJCREE6NjQ4NTZGQzgiLCJ2aXNpdG9yX2lkIjoiODUxODkzMjM3NjE4Mzg4MDMxNCIsInJlZ2lvbl9lZGdlIjoiZnJhIiwicmVnaW9uX3JlbmRlciI6ImlhZCJ9" data-turbo-transient="true" /><meta name="visitor-hmac" content="62fe20feae64b87942762a7048d3bf8658d75770417e2db5a3754149cef3886c" data-turbo-transient="true" />


    <meta name="hovercard-subject-tag" content="repository:456360803" data-turbo-transient>


  <meta name="github-keyboard-shortcuts" content="repository,source-code,file-tree" data-turbo-transient="true" />
  

  <meta name="selected-link" value="repo_source" data-turbo-transient>
  <link rel="assets" href="https://github.githubassets.com/">

    <meta name="google-site-verification" content="c1kuD-K2HIVF635lypcsWPoD4kilo5-jA_wBFyT4uMY">
  <meta name="google-site-verification" content="KT5gs8h0wvaagLKAVWq8bbeNwnZZK1r1XQysX3xurLU">
  <meta name="google-site-verification" content="ZzhVyEFwb7w3e0-uOTltm8Jsck2F5StVihD0exw2fsA">
  <meta name="google-site-verification" content="GXs5KoUUkNCoaAZn7wPN-t01Pywp9M3sEjnt_3_ZWPc">
  <meta name="google-site-verification" content="Apib7-x98H0j5cPqHWwSMm6dNU4GmODRoqxLiDzdx9I">

<meta name="octolytics-url" content="https://collector.github.com/github/collect" /><meta name="octolytics-actor-id" content="122600696" /><meta name="octolytics-actor-login" content="Emad-eldeen-Elsayed" /><meta name="octolytics-actor-hash" content="e65a30a31c0c9f0d5a1dd75172d44f98ab352f9fc3d32c860ee70daa8a5cb69d" />

  <meta name="analytics-location" content="/&lt;user-name&gt;/&lt;repo-name&gt;/blob/show" data-turbo-transient="true" />

  




  

    <meta name="user-login" content="Emad-eldeen-Elsayed">

  <link rel="sudo-modal" href="/sessions/sudo_modal">

    <meta name="viewport" content="width=device-width">
    
      <meta name="description" content="Contribute to EveThan/IBM-Applied-Data-Science-Capstone-Project development by creating an account on GitHub.">
      <link rel="search" type="application/opensearchdescription+xml" href="/opensearch.xml" title="GitHub">
    <link rel="fluid-icon" href="https://github.com/fluidicon.png" title="GitHub">
    <meta property="fb:app_id" content="1401488693436528">
    <meta name="apple-itunes-app" content="app-id=1477376905" />
      <meta name="twitter:image:src" content="https://opengraph.githubassets.com/e7611cd91c65e8ba9611967be8b919b646f11b660be82c3dcdbdfc359c781e0b/EveThan/IBM-Applied-Data-Science-Capstone-Project" /><meta name="twitter:site" content="@github" /><meta name="twitter:card" content="summary_large_image" /><meta name="twitter:title" content="IBM-Applied-Data-Science-Capstone-Project/2_Data Collection with Web Scraping.ipynb at main · EveThan/IBM-Applied-Data-Science-Capstone-Project" /><meta name="twitter:description" content="Contribute to EveThan/IBM-Applied-Data-Science-Capstone-Project development by creating an account on GitHub." />
      <meta property="og:image" content="https://opengraph.githubassets.com/e7611cd91c65e8ba9611967be8b919b646f11b660be82c3dcdbdfc359c781e0b/EveThan/IBM-Applied-Data-Science-Capstone-Project" /><meta property="og:image:alt" content="Contribute to EveThan/IBM-Applied-Data-Science-Capstone-Project development by creating an account on GitHub." /><meta property="og:image:width" content="1200" /><meta property="og:image:height" content="600" /><meta property="og:site_name" content="GitHub" /><meta property="og:type" content="object" /><meta property="og:title" content="IBM-Applied-Data-Science-Capstone-Project/2_Data Collection with Web Scraping.ipynb at main · EveThan/IBM-Applied-Data-Science-Capstone-Project" /><meta property="og:url" content="https://github.com/EveThan/IBM-Applied-Data-Science-Capstone-Project" /><meta property="og:description" content="Contribute to EveThan/IBM-Applied-Data-Science-Capstone-Project development by creating an account on GitHub." />
      

      <link rel="shared-web-socket" href="wss://alive.github.com/_sockets/u/122600696/ws?session=eyJ2IjoiVjMiLCJ1IjoxMjI2MDA2OTYsInMiOjEwOTgyMTE0NjcsImMiOjE4NjE4NzcyNzcsInQiOjE2ODY0NjY1Mjd9--1d59b809bbfd6d34bb92e99630e9a6ed639ea74351ce31b17185fa4c099ab945" data-refresh-url="/_alive" data-session-id="c8039c146860c3f15087dd8660219dc7ce082345e075a6a7485084ff84ba39d8">
      <link rel="shared-web-socket-src" href="/assets-cdn/worker/socket-worker-71e98f781d79.js">


        <meta name="hostname" content="github.com">


      <meta name="keyboard-shortcuts-preference" content="all">

        <meta name="expected-hostname" content="github.com">

    <meta name="enabled-features" content="TURBO_EXPERIMENT_RISKY,IMAGE_METRIC_TRACKING,GEOJSON_AZURE_MAPS,SUDO_MODAL_FOCUS">


  <meta http-equiv="x-pjax-version" content="ea7f9507c0820c4d4555bda116cee0036ef07b2b0f8f7ad5054aee719cfdec59" data-turbo-track="reload">
  <meta http-equiv="x-pjax-csp-version" content="0db263f9a873141d8256f783c35f244c06d490aacc3b680f99794dd8fd59fb59" data-turbo-track="reload">
  <meta http-equiv="x-pjax-css-version" content="fac0cbfa02da0fad60736ce8a4111028023715b9e3c4389bdd7aaa8b4cbec925" data-turbo-track="reload">
  <meta http-equiv="x-pjax-js-version" content="58c89d9a8f5f8adbb20863bfc8bf6eafe679e7cb4713ada86e10cff97a54fb5e" data-turbo-track="reload">

  <meta name="turbo-cache-control" content="no-preview" data-turbo-transient="">

      <meta name="turbo-cache-control" content="no-cache" data-turbo-transient>
    <meta data-hydrostats="publish">

  <meta name="go-import" content="github.com/EveThan/IBM-Applied-Data-Science-Capstone-Project git https://github.com/EveThan/IBM-Applied-Data-Science-Capstone-Project.git">

  <meta name="octolytics-dimension-user_id" content="46462603" /><meta name="octolytics-dimension-user_login" content="EveThan" /><meta name="octolytics-dimension-repository_id" content="456360803" /><meta name="octolytics-dimension-repository_nwo" content="EveThan/IBM-Applied-Data-Science-Capstone-Project" /><meta name="octolytics-dimension-repository_public" content="true" /><meta name="octolytics-dimension-repository_is_fork" content="false" /><meta name="octolytics-dimension-repository_network_root_id" content="456360803" /><meta name="octolytics-dimension-repository_network_root_nwo" content="EveThan/IBM-Applied-Data-Science-Capstone-Project" />



  <meta name="turbo-body-classes" content="logged-in env-production page-responsive">


  <meta name="browser-stats-url" content="https://api.github.com/_private/browser/stats">

  <meta name="browser-errors-url" content="https://api.github.com/_private/browser/errors">

  <meta name="browser-optimizely-client-errors-url" content="https://api.github.com/_private/browser/optimizely_client/errors">

  <link rel="mask-icon" href="https://github.githubassets.com/pinned-octocat.svg" color="#000000">
  <link rel="alternate icon" class="js-site-favicon" type="image/png" href="https://github.githubassets.com/favicons/favicon.png">
  <link rel="icon" class="js-site-favicon" type="image/svg+xml" href="https://github.githubassets.com/favicons/favicon.svg">

<meta name="theme-color" content="#1e2327">
<meta name="color-scheme" content="light dark" />


  <link rel="manifest" href="/manifest.json" crossOrigin="use-credentials">

  </head>

  <body class="logged-in env-production page-responsive" style="word-wrap: break-word;">
    <div data-turbo-body class="logged-in env-production page-responsive" style="word-wrap: break-word;">
      


    <div class="position-relative js-header-wrapper ">
      <a href="#start-of-content" class="p-3 color-bg-accent-emphasis color-fg-on-emphasis show-on-focus js-skip-to-content">Skip to content</a>
      <span data-view-component="true" class="progress-pjax-loader Progress position-fixed width-full">
    <span style="width: 0%;" data-view-component="true" class="Progress-item progress-pjax-loader-bar left-0 top-0 color-bg-accent-emphasis"></span>
</span>      
      


        <script crossorigin="anonymous" defer="defer" type="application/javascript" src="https://github.githubassets.com/assets/vendors-node_modules_allex_crc32_lib_crc32_esm_js-node_modules_github_mini-throttle_dist_deco-26fa0f-02e7ed68dae1.js"></script>
<script crossorigin="anonymous" defer="defer" type="application/javascript" src="https://github.githubassets.com/assets/vendors-node_modules_github_clipboard-copy-element_dist_index_esm_js-node_modules_delegated-e-b37f7d-a9177ba414f2.js"></script>
<script crossorigin="anonymous" defer="defer" type="application/javascript" src="https://github.githubassets.com/assets/app_assets_modules_github_command-palette_items_help-item_ts-app_assets_modules_github_comman-48ad9d-f882e479ad2f.js"></script>
<script crossorigin="anonymous" defer="defer" type="application/javascript" src="https://github.githubassets.com/assets/command-palette-13bd844fa1c6.js"></script>

            <header class="Header js-details-container Details px-3 px-md-4 px-lg-5 flex-wrap flex-md-nowrap" role="banner">

    <div class="Header-item mt-n1 mb-n1  d-none d-md-flex">
      <a
  class="Header-link"
  href="https://github.com/"
  data-hotkey="g d"
  aria-label="Homepage "
  data-turbo="false"
  data-analytics-event="{&quot;category&quot;:&quot;Header&quot;,&quot;action&quot;:&quot;go to dashboard&quot;,&quot;label&quot;:&quot;icon:logo&quot;}"
>
  <svg height="32" aria-hidden="true" viewBox="0 0 16 16" version="1.1" width="32" data-view-component="true" class="octicon octicon-mark-github v-align-middle">
    <path d="M8 0c4.42 0 8 3.58 8 8a8.013 8.013 0 0 1-5.45 7.59c-.4.08-.55-.17-.55-.38 0-.27.01-1.13.01-2.2 0-.75-.25-1.23-.54-1.48 1.78-.2 3.65-.88 3.65-3.95 0-.88-.31-1.59-.82-2.15.08-.2.36-1.02-.08-2.12 0 0-.67-.22-2.2.82-.64-.18-1.32-.27-2-.27-.68 0-1.36.09-2 .27-1.53-1.03-2.2-.82-2.2-.82-.44 1.1-.16 1.92-.08 2.12-.51.56-.82 1.28-.82 2.15 0 3.06 1.86 3.75 3.64 3.95-.23.2-.44.55-.51 1.07-.46.21-1.61.55-2.33-.66-.15-.24-.6-.83-1.23-.82-.67.01-.27.38.01.53.34.19.73.9.82 1.13.16.45.68 1.31 2.69.94 0 .67.01 1.3.01 1.49 0 .21-.15.45-.55.38A7.995 7.995 0 0 1 0 8c0-4.42 3.58-8 8-8Z"></path>
</svg>
</a>

    </div>

    <div class="Header-item d-md-none">
        <button aria-label="Toggle navigation" aria-expanded="false" type="button" data-view-component="true" class="Header-link js-details-target btn-link">    <svg aria-hidden="true" height="24" viewBox="0 0 16 16" version="1.1" width="24" data-view-component="true" class="octicon octicon-three-bars">
    <path d="M1 2.75A.75.75 0 0 1 1.75 2h12.5a.75.75 0 0 1 0 1.5H1.75A.75.75 0 0 1 1 2.75Zm0 5A.75.75 0 0 1 1.75 7h12.5a.75.75 0 0 1 0 1.5H1.75A.75.75 0 0 1 1 7.75ZM1.75 12h12.5a.75.75 0 0 1 0 1.5H1.75a.75.75 0 0 1 0-1.5Z"></path>
</svg>
</button>    </div>

    <div class="Header-item Header-item--full flex-column flex-md-row width-full flex-order-2 flex-md-order-none mr-0 mt-3 mt-md-0 Details-content--hidden-not-important d-md-flex">
              


<template id="search-icon">
  <svg aria-hidden="true" height="16" viewBox="0 0 16 16" version="1.1" width="16" data-view-component="true" class="octicon octicon-search">
    <path d="M10.68 11.74a6 6 0 0 1-7.922-8.982 6 6 0 0 1 8.982 7.922l3.04 3.04a.749.749 0 0 1-.326 1.275.749.749 0 0 1-.734-.215ZM11.5 7a4.499 4.499 0 1 0-8.997 0A4.499 4.499 0 0 0 11.5 7Z"></path>
</svg>
</template>

<template id="code-icon">
  <svg aria-hidden="true" height="16" viewBox="0 0 16 16" version="1.1" width="16" data-view-component="true" class="octicon octicon-code">
    <path d="m11.28 3.22 4.25 4.25a.75.75 0 0 1 0 1.06l-4.25 4.25a.749.749 0 0 1-1.275-.326.749.749 0 0 1 .215-.734L13.94 8l-3.72-3.72a.749.749 0 0 1 .326-1.275.749.749 0 0 1 .734.215Zm-6.56 0a.751.751 0 0 1 1.042.018.751.751 0 0 1 .018 1.042L2.06 8l3.72 3.72a.749.749 0 0 1-.326 1.275.749.749 0 0 1-.734-.215L.47 8.53a.75.75 0 0 1 0-1.06Z"></path>
</svg>
</template>

<template id="file-code-icon">
  <svg aria-hidden="true" height="16" viewBox="0 0 16 16" version="1.1" width="16" data-view-component="true" class="octicon octicon-file-code">
    <path d="M4 1.75C4 .784 4.784 0 5.75 0h5.586c.464 0 .909.184 1.237.513l2.914 2.914c.329.328.513.773.513 1.237v8.586A1.75 1.75 0 0 1 14.25 15h-9a.75.75 0 0 1 0-1.5h9a.25.25 0 0 0 .25-.25V6h-2.75A1.75 1.75 0 0 1 10 4.25V1.5H5.75a.25.25 0 0 0-.25.25v2.5a.75.75 0 0 1-1.5 0Zm1.72 4.97a.75.75 0 0 1 1.06 0l2 2a.75.75 0 0 1 0 1.06l-2 2a.749.749 0 0 1-1.275-.326.749.749 0 0 1 .215-.734l1.47-1.47-1.47-1.47a.75.75 0 0 1 0-1.06ZM3.28 7.78 1.81 9.25l1.47 1.47a.751.751 0 0 1-.018 1.042.751.751 0 0 1-1.042.018l-2-2a.75.75 0 0 1 0-1.06l2-2a.751.751 0 0 1 1.042.018.751.751 0 0 1 .018 1.042Zm8.22-6.218V4.25c0 .138.112.25.25.25h2.688l-.011-.013-2.914-2.914-.013-.011Z"></path>
</svg>
</template>

<template id="history-icon">
  <svg aria-hidden="true" height="16" viewBox="0 0 16 16" version="1.1" width="16" data-view-component="true" class="octicon octicon-history">
    <path d="m.427 1.927 1.215 1.215a8.002 8.002 0 1 1-1.6 5.685.75.75 0 1 1 1.493-.154 6.5 6.5 0 1 0 1.18-4.458l1.358 1.358A.25.25 0 0 1 3.896 6H.25A.25.25 0 0 1 0 5.75V2.104a.25.25 0 0 1 .427-.177ZM7.75 4a.75.75 0 0 1 .75.75v2.992l2.028.812a.75.75 0 0 1-.557 1.392l-2.5-1A.751.751 0 0 1 7 8.25v-3.5A.75.75 0 0 1 7.75 4Z"></path>
</svg>
</template>

<template id="repo-icon">
  <svg aria-hidden="true" height="16" viewBox="0 0 16 16" version="1.1" width="16" data-view-component="true" class="octicon octicon-repo">
    <path d="M2 2.5A2.5 2.5 0 0 1 4.5 0h8.75a.75.75 0 0 1 .75.75v12.5a.75.75 0 0 1-.75.75h-2.5a.75.75 0 0 1 0-1.5h1.75v-2h-8a1 1 0 0 0-.714 1.7.75.75 0 1 1-1.072 1.05A2.495 2.495 0 0 1 2 11.5Zm10.5-1h-8a1 1 0 0 0-1 1v6.708A2.486 2.486 0 0 1 4.5 9h8ZM5 12.25a.25.25 0 0 1 .25-.25h3.5a.25.25 0 0 1 .25.25v3.25a.25.25 0 0 1-.4.2l-1.45-1.087a.249.249 0 0 0-.3 0L5.4 15.7a.25.25 0 0 1-.4-.2Z"></path>
</svg>
</template>

<template id="bookmark-icon">
  <svg aria-hidden="true" height="16" viewBox="0 0 16 16" version="1.1" width="16" data-view-component="true" class="octicon octicon-bookmark">
    <path d="M3 2.75C3 1.784 3.784 1 4.75 1h6.5c.966 0 1.75.784 1.75 1.75v11.5a.75.75 0 0 1-1.227.579L8 11.722l-3.773 3.107A.751.751 0 0 1 3 14.25Zm1.75-.25a.25.25 0 0 0-.25.25v9.91l3.023-2.489a.75.75 0 0 1 .954 0l3.023 2.49V2.75a.25.25 0 0 0-.25-.25Z"></path>
</svg>
</template>

<template id="plus-circle-icon">
  <svg aria-hidden="true" height="16" viewBox="0 0 16 16" version="1.1" width="16" data-view-component="true" class="octicon octicon-plus-circle">
    <path d="M8 0a8 8 0 1 1 0 16A8 8 0 0 1 8 0ZM1.5 8a6.5 6.5 0 1 0 13 0 6.5 6.5 0 0 0-13 0Zm7.25-3.25v2.5h2.5a.75.75 0 0 1 0 1.5h-2.5v2.5a.75.75 0 0 1-1.5 0v-2.5h-2.5a.75.75 0 0 1 0-1.5h2.5v-2.5a.75.75 0 0 1 1.5 0Z"></path>
</svg>
</template>

<template id="circle-icon">
  <svg aria-hidden="true" height="16" viewBox="0 0 16 16" version="1.1" width="16" data-view-component="true" class="octicon octicon-dot-fill">
    <path d="M8 4a4 4 0 1 1 0 8 4 4 0 0 1 0-8Z"></path>
</svg>
</template>

<template id="trash-icon">
  <svg aria-hidden="true" height="16" viewBox="0 0 16 16" version="1.1" width="16" data-view-component="true" class="octicon octicon-trash">
    <path d="M11 1.75V3h2.25a.75.75 0 0 1 0 1.5H2.75a.75.75 0 0 1 0-1.5H5V1.75C5 .784 5.784 0 6.75 0h2.5C10.216 0 11 .784 11 1.75ZM4.496 6.675l.66 6.6a.25.25 0 0 0 .249.225h5.19a.25.25 0 0 0 .249-.225l.66-6.6a.75.75 0 0 1 1.492.149l-.66 6.6A1.748 1.748 0 0 1 10.595 15h-5.19a1.75 1.75 0 0 1-1.741-1.575l-.66-6.6a.75.75 0 1 1 1.492-.15ZM6.5 1.75V3h3V1.75a.25.25 0 0 0-.25-.25h-2.5a.25.25 0 0 0-.25.25Z"></path>
</svg>
</template>

<template id="team-icon">
  <svg aria-hidden="true" height="16" viewBox="0 0 16 16" version="1.1" width="16" data-view-component="true" class="octicon octicon-people">
    <path d="M2 5.5a3.5 3.5 0 1 1 5.898 2.549 5.508 5.508 0 0 1 3.034 4.084.75.75 0 1 1-1.482.235 4 4 0 0 0-7.9 0 .75.75 0 0 1-1.482-.236A5.507 5.507 0 0 1 3.102 8.05 3.493 3.493 0 0 1 2 5.5ZM11 4a3.001 3.001 0 0 1 2.22 5.018 5.01 5.01 0 0 1 2.56 3.012.749.749 0 0 1-.885.954.752.752 0 0 1-.549-.514 3.507 3.507 0 0 0-2.522-2.372.75.75 0 0 1-.574-.73v-.352a.75.75 0 0 1 .416-.672A1.5 1.5 0 0 0 11 5.5.75.75 0 0 1 11 4Zm-5.5-.5a2 2 0 1 0-.001 3.999A2 2 0 0 0 5.5 3.5Z"></path>
</svg>
</template>

<template id="project-icon">
  <svg aria-hidden="true" height="16" viewBox="0 0 16 16" version="1.1" width="16" data-view-component="true" class="octicon octicon-project">
    <path d="M1.75 0h12.5C15.216 0 16 .784 16 1.75v12.5A1.75 1.75 0 0 1 14.25 16H1.75A1.75 1.75 0 0 1 0 14.25V1.75C0 .784.784 0 1.75 0ZM1.5 1.75v12.5c0 .138.112.25.25.25h12.5a.25.25 0 0 0 .25-.25V1.75a.25.25 0 0 0-.25-.25H1.75a.25.25 0 0 0-.25.25ZM11.75 3a.75.75 0 0 1 .75.75v7.5a.75.75 0 0 1-1.5 0v-7.5a.75.75 0 0 1 .75-.75Zm-8.25.75a.75.75 0 0 1 1.5 0v5.5a.75.75 0 0 1-1.5 0ZM8 3a.75.75 0 0 1 .75.75v3.5a.75.75 0 0 1-1.5 0v-3.5A.75.75 0 0 1 8 3Z"></path>
</svg>
</template>

<template id="pencil-icon">
  <svg aria-hidden="true" height="16" viewBox="0 0 16 16" version="1.1" width="16" data-view-component="true" class="octicon octicon-pencil">
    <path d="M11.013 1.427a1.75 1.75 0 0 1 2.474 0l1.086 1.086a1.75 1.75 0 0 1 0 2.474l-8.61 8.61c-.21.21-.47.364-.756.445l-3.251.93a.75.75 0 0 1-.927-.928l.929-3.25c.081-.286.235-.547.445-.758l8.61-8.61Zm.176 4.823L9.75 4.81l-6.286 6.287a.253.253 0 0 0-.064.108l-.558 1.953 1.953-.558a.253.253 0 0 0 .108-.064Zm1.238-3.763a.25.25 0 0 0-.354 0L10.811 3.75l1.439 1.44 1.263-1.263a.25.25 0 0 0 0-.354Z"></path>
</svg>
</template>

<qbsearch-input class="search-input" data-scope="repo:EveThan/IBM-Applied-Data-Science-Capstone-Project" data-custom-scopes-path="/search/custom_scopes" data-delete-custom-scopes-csrf="LRAxM5ofKIFiZAwbNi3R-4pyrXrJWBwhjMvlJZfP6Sdbq9Lky1YVGvB2TQHGv5eUk4FTRTXRjo1-y1NDGCNSGQ" data-max-custom-scopes="10" data-header-redesign-enabled="false" data-initial-value="" data-blackbird-suggestions-path="/search/suggestions" data-jump-to-suggestions-path="/_graphql/GetSuggestedNavigationDestinations" data-current-repository="EveThan/IBM-Applied-Data-Science-Capstone-Project" data-current-org="" data-current-owner="EveThan">
  <div
    class="search-input-container search-with-dialog position-relative d-flex flex-row flex-items-center mr-4 rounded"
    data-action="click:qbsearch-input#searchInputContainerClicked"
  >
      <button
        type="button"
        class="header-search-button placeholder  input-button form-control d-flex flex-1 flex-self-stretch flex-items-center no-wrap width-full py-0 pl-2 pr-0 text-left border-0 box-shadow-none"
        data-target="qbsearch-input.inputButton"
        placeholder="Search or jump to..."
        data-hotkey=s,/
        autocapitalize="off"
        data-action="click:qbsearch-input#handleExpand"
      >
        <div class="mr-2 color-fg-muted">
          <svg aria-hidden="true" height="16" viewBox="0 0 16 16" version="1.1" width="16" data-view-component="true" class="octicon octicon-search">
    <path d="M10.68 11.74a6 6 0 0 1-7.922-8.982 6 6 0 0 1 8.982 7.922l3.04 3.04a.749.749 0 0 1-.326 1.275.749.749 0 0 1-.734-.215ZM11.5 7a4.499 4.499 0 1 0-8.997 0A4.499 4.499 0 0 0 11.5 7Z"></path>
</svg>
        </div>
        <span class="flex-1" data-target="qbsearch-input.inputButtonText">Search or jump to...</span>
          <div class="d-flex" data-target="qbsearch-input.hotkeyIndicator">
            <svg xmlns="http://www.w3.org/2000/svg" width="22" height="20" aria-hidden="true" class="mr-1"><path fill="none" stroke="#979A9C" opacity=".4" d="M3.5.5h12c1.7 0 3 1.3 3 3v13c0 1.7-1.3 3-3 3h-12c-1.7 0-3-1.3-3-3v-13c0-1.7 1.3-3 3-3z"></path><path fill="#979A9C" d="M11.8 6L8 15.1h-.9L10.8 6h1z"></path></svg>

          </div>
      </button>

    <input type="hidden" name="type" class="js-site-search-type-field">

    
<div class="Overlay--hidden " data-modal-dialog-overlay>
  <modal-dialog data-action="close:qbsearch-input#handleClose cancel:qbsearch-input#handleClose" data-target="qbsearch-input.searchSuggestionsDialog" role="dialog" id="search-suggestions-dialog" aria-modal="true" aria-labelledby="search-suggestions-dialog-header" data-view-component="true" class="Overlay Overlay--width-large Overlay--height-auto">
      <h1 id="search-suggestions-dialog-header" class="sr-only">Search code, repositories, users, issues, pull requests...</h1>
    <div class="Overlay-body Overlay-body--paddingNone">
      
          <div data-view-component="true">        <div class="search-suggestions position-absolute width-full color-shadow-large border color-fg-default color-bg-default overflow-hidden d-flex flex-column query-builder-container"
          style="border-radius: 12px;"
          data-target="qbsearch-input.queryBuilderContainer"
          hidden
        >
          <!-- '"` --><!-- </textarea></xmp> --></option></form><form id="query-builder-test-form" action="" accept-charset="UTF-8" method="get">
  <query-builder data-target="qbsearch-input.queryBuilder" id="query-builder-query-builder-test" data-filter-key=":" data-view-component="true" class="QueryBuilder search-query-builder">
    <div class="FormControl FormControl--fullWidth">
      <label id="query-builder-test-label" for="query-builder-test" class="FormControl-label sr-only">
        Search
      </label>
      <div class="QueryBuilder-StyledInput width-fit" data-target="query-builder.styledInput">
          <span id="query-builder-test-leadingvisual-wrap" class="FormControl-input-leadingVisualWrap QueryBuilder-leadingVisualWrap">
            <svg aria-hidden="true" height="16" viewBox="0 0 16 16" version="1.1" width="16" data-view-component="true" class="octicon octicon-search FormControl-input-leadingVisual">
    <path d="M10.68 11.74a6 6 0 0 1-7.922-8.982 6 6 0 0 1 8.982 7.922l3.04 3.04a.749.749 0 0 1-.326 1.275.749.749 0 0 1-.734-.215ZM11.5 7a4.499 4.499 0 1 0-8.997 0A4.499 4.499 0 0 0 11.5 7Z"></path>
</svg>
          </span>
        <div data-target="query-builder.styledInputContainer" class="QueryBuilder-StyledInputContainer">
          <div
            aria-hidden="true"
            class="QueryBuilder-StyledInputContent"
            data-target="query-builder.styledInputContent"
          ></div>
          <div class="QueryBuilder-InputWrapper">
            <div aria-hidden="true" class="QueryBuilder-Sizer" data-target="query-builder.sizer"></div>
            <input id="query-builder-test" name="query-builder-test" value="" autocomplete="off" type="text" role="combobox" spellcheck="false" aria-expanded="false" data-target="query-builder.input" data-action="
          input:query-builder#inputChange
          blur:query-builder#inputBlur
          keydown:query-builder#inputKeydown
          focus:query-builder#inputFocus
        " data-view-component="true" class="FormControl-input QueryBuilder-Input FormControl-medium" />
          </div>
        </div>
          <span class="sr-only" id="query-builder-test-clear">Clear</span>
          
  <button role="button" id="query-builder-test-clear-button" aria-labelledby="query-builder-test-clear query-builder-test-label" data-target="query-builder.clearButton" data-action="
                click:query-builder#clear
                focus:query-builder#clearButtonFocus
                blur:query-builder#clearButtonBlur
              " variant="small" hidden="hidden" type="button" data-view-component="true" class="Button Button--iconOnly Button--invisible Button--medium mr-1 px-2 py-0 d-flex flex-items-center rounded-1 color-fg-muted">    <svg aria-hidden="true" height="16" viewBox="0 0 16 16" version="1.1" width="16" data-view-component="true" class="octicon octicon-x-circle-fill Button-visual">
    <path d="M2.343 13.657A8 8 0 1 1 13.658 2.343 8 8 0 0 1 2.343 13.657ZM6.03 4.97a.751.751 0 0 0-1.042.018.751.751 0 0 0-.018 1.042L6.94 8 4.97 9.97a.749.749 0 0 0 .326 1.275.749.749 0 0 0 .734-.215L8 9.06l1.97 1.97a.749.749 0 0 0 1.275-.326.749.749 0 0 0-.215-.734L9.06 8l1.97-1.97a.749.749 0 0 0-.326-1.275.749.749 0 0 0-.734.215L8 6.94Z"></path>
</svg>
</button>  

      </div>
      <template id="search-icon">
  <svg aria-hidden="true" height="16" viewBox="0 0 16 16" version="1.1" width="16" data-view-component="true" class="octicon octicon-search">
    <path d="M10.68 11.74a6 6 0 0 1-7.922-8.982 6 6 0 0 1 8.982 7.922l3.04 3.04a.749.749 0 0 1-.326 1.275.749.749 0 0 1-.734-.215ZM11.5 7a4.499 4.499 0 1 0-8.997 0A4.499 4.499 0 0 0 11.5 7Z"></path>
</svg>
</template>

<template id="code-icon">
  <svg aria-hidden="true" height="16" viewBox="0 0 16 16" version="1.1" width="16" data-view-component="true" class="octicon octicon-code">
    <path d="m11.28 3.22 4.25 4.25a.75.75 0 0 1 0 1.06l-4.25 4.25a.749.749 0 0 1-1.275-.326.749.749 0 0 1 .215-.734L13.94 8l-3.72-3.72a.749.749 0 0 1 .326-1.275.749.749 0 0 1 .734.215Zm-6.56 0a.751.751 0 0 1 1.042.018.751.751 0 0 1 .018 1.042L2.06 8l3.72 3.72a.749.749 0 0 1-.326 1.275.749.749 0 0 1-.734-.215L.47 8.53a.75.75 0 0 1 0-1.06Z"></path>
</svg>
</template>

<template id="file-code-icon">
  <svg aria-hidden="true" height="16" viewBox="0 0 16 16" version="1.1" width="16" data-view-component="true" class="octicon octicon-file-code">
    <path d="M4 1.75C4 .784 4.784 0 5.75 0h5.586c.464 0 .909.184 1.237.513l2.914 2.914c.329.328.513.773.513 1.237v8.586A1.75 1.75 0 0 1 14.25 15h-9a.75.75 0 0 1 0-1.5h9a.25.25 0 0 0 .25-.25V6h-2.75A1.75 1.75 0 0 1 10 4.25V1.5H5.75a.25.25 0 0 0-.25.25v2.5a.75.75 0 0 1-1.5 0Zm1.72 4.97a.75.75 0 0 1 1.06 0l2 2a.75.75 0 0 1 0 1.06l-2 2a.749.749 0 0 1-1.275-.326.749.749 0 0 1 .215-.734l1.47-1.47-1.47-1.47a.75.75 0 0 1 0-1.06ZM3.28 7.78 1.81 9.25l1.47 1.47a.751.751 0 0 1-.018 1.042.751.751 0 0 1-1.042.018l-2-2a.75.75 0 0 1 0-1.06l2-2a.751.751 0 0 1 1.042.018.751.751 0 0 1 .018 1.042Zm8.22-6.218V4.25c0 .138.112.25.25.25h2.688l-.011-.013-2.914-2.914-.013-.011Z"></path>
</svg>
</template>

<template id="history-icon">
  <svg aria-hidden="true" height="16" viewBox="0 0 16 16" version="1.1" width="16" data-view-component="true" class="octicon octicon-history">
    <path d="m.427 1.927 1.215 1.215a8.002 8.002 0 1 1-1.6 5.685.75.75 0 1 1 1.493-.154 6.5 6.5 0 1 0 1.18-4.458l1.358 1.358A.25.25 0 0 1 3.896 6H.25A.25.25 0 0 1 0 5.75V2.104a.25.25 0 0 1 .427-.177ZM7.75 4a.75.75 0 0 1 .75.75v2.992l2.028.812a.75.75 0 0 1-.557 1.392l-2.5-1A.751.751 0 0 1 7 8.25v-3.5A.75.75 0 0 1 7.75 4Z"></path>
</svg>
</template>

<template id="repo-icon">
  <svg aria-hidden="true" height="16" viewBox="0 0 16 16" version="1.1" width="16" data-view-component="true" class="octicon octicon-repo">
    <path d="M2 2.5A2.5 2.5 0 0 1 4.5 0h8.75a.75.75 0 0 1 .75.75v12.5a.75.75 0 0 1-.75.75h-2.5a.75.75 0 0 1 0-1.5h1.75v-2h-8a1 1 0 0 0-.714 1.7.75.75 0 1 1-1.072 1.05A2.495 2.495 0 0 1 2 11.5Zm10.5-1h-8a1 1 0 0 0-1 1v6.708A2.486 2.486 0 0 1 4.5 9h8ZM5 12.25a.25.25 0 0 1 .25-.25h3.5a.25.25 0 0 1 .25.25v3.25a.25.25 0 0 1-.4.2l-1.45-1.087a.249.249 0 0 0-.3 0L5.4 15.7a.25.25 0 0 1-.4-.2Z"></path>
</svg>
</template>

<template id="bookmark-icon">
  <svg aria-hidden="true" height="16" viewBox="0 0 16 16" version="1.1" width="16" data-view-component="true" class="octicon octicon-bookmark">
    <path d="M3 2.75C3 1.784 3.784 1 4.75 1h6.5c.966 0 1.75.784 1.75 1.75v11.5a.75.75 0 0 1-1.227.579L8 11.722l-3.773 3.107A.751.751 0 0 1 3 14.25Zm1.75-.25a.25.25 0 0 0-.25.25v9.91l3.023-2.489a.75.75 0 0 1 .954 0l3.023 2.49V2.75a.25.25 0 0 0-.25-.25Z"></path>
</svg>
</template>

<template id="plus-circle-icon">
  <svg aria-hidden="true" height="16" viewBox="0 0 16 16" version="1.1" width="16" data-view-component="true" class="octicon octicon-plus-circle">
    <path d="M8 0a8 8 0 1 1 0 16A8 8 0 0 1 8 0ZM1.5 8a6.5 6.5 0 1 0 13 0 6.5 6.5 0 0 0-13 0Zm7.25-3.25v2.5h2.5a.75.75 0 0 1 0 1.5h-2.5v2.5a.75.75 0 0 1-1.5 0v-2.5h-2.5a.75.75 0 0 1 0-1.5h2.5v-2.5a.75.75 0 0 1 1.5 0Z"></path>
</svg>
</template>

<template id="circle-icon">
  <svg aria-hidden="true" height="16" viewBox="0 0 16 16" version="1.1" width="16" data-view-component="true" class="octicon octicon-dot-fill">
    <path d="M8 4a4 4 0 1 1 0 8 4 4 0 0 1 0-8Z"></path>
</svg>
</template>

<template id="trash-icon">
  <svg aria-hidden="true" height="16" viewBox="0 0 16 16" version="1.1" width="16" data-view-component="true" class="octicon octicon-trash">
    <path d="M11 1.75V3h2.25a.75.75 0 0 1 0 1.5H2.75a.75.75 0 0 1 0-1.5H5V1.75C5 .784 5.784 0 6.75 0h2.5C10.216 0 11 .784 11 1.75ZM4.496 6.675l.66 6.6a.25.25 0 0 0 .249.225h5.19a.25.25 0 0 0 .249-.225l.66-6.6a.75.75 0 0 1 1.492.149l-.66 6.6A1.748 1.748 0 0 1 10.595 15h-5.19a1.75 1.75 0 0 1-1.741-1.575l-.66-6.6a.75.75 0 1 1 1.492-.15ZM6.5 1.75V3h3V1.75a.25.25 0 0 0-.25-.25h-2.5a.25.25 0 0 0-.25.25Z"></path>
</svg>
</template>

<template id="team-icon">
  <svg aria-hidden="true" height="16" viewBox="0 0 16 16" version="1.1" width="16" data-view-component="true" class="octicon octicon-people">
    <path d="M2 5.5a3.5 3.5 0 1 1 5.898 2.549 5.508 5.508 0 0 1 3.034 4.084.75.75 0 1 1-1.482.235 4 4 0 0 0-7.9 0 .75.75 0 0 1-1.482-.236A5.507 5.507 0 0 1 3.102 8.05 3.493 3.493 0 0 1 2 5.5ZM11 4a3.001 3.001 0 0 1 2.22 5.018 5.01 5.01 0 0 1 2.56 3.012.749.749 0 0 1-.885.954.752.752 0 0 1-.549-.514 3.507 3.507 0 0 0-2.522-2.372.75.75 0 0 1-.574-.73v-.352a.75.75 0 0 1 .416-.672A1.5 1.5 0 0 0 11 5.5.75.75 0 0 1 11 4Zm-5.5-.5a2 2 0 1 0-.001 3.999A2 2 0 0 0 5.5 3.5Z"></path>
</svg>
</template>

<template id="project-icon">
  <svg aria-hidden="true" height="16" viewBox="0 0 16 16" version="1.1" width="16" data-view-component="true" class="octicon octicon-project">
    <path d="M1.75 0h12.5C15.216 0 16 .784 16 1.75v12.5A1.75 1.75 0 0 1 14.25 16H1.75A1.75 1.75 0 0 1 0 14.25V1.75C0 .784.784 0 1.75 0ZM1.5 1.75v12.5c0 .138.112.25.25.25h12.5a.25.25 0 0 0 .25-.25V1.75a.25.25 0 0 0-.25-.25H1.75a.25.25 0 0 0-.25.25ZM11.75 3a.75.75 0 0 1 .75.75v7.5a.75.75 0 0 1-1.5 0v-7.5a.75.75 0 0 1 .75-.75Zm-8.25.75a.75.75 0 0 1 1.5 0v5.5a.75.75 0 0 1-1.5 0ZM8 3a.75.75 0 0 1 .75.75v3.5a.75.75 0 0 1-1.5 0v-3.5A.75.75 0 0 1 8 3Z"></path>
</svg>
</template>

<template id="pencil-icon">
  <svg aria-hidden="true" height="16" viewBox="0 0 16 16" version="1.1" width="16" data-view-component="true" class="octicon octicon-pencil">
    <path d="M11.013 1.427a1.75 1.75 0 0 1 2.474 0l1.086 1.086a1.75 1.75 0 0 1 0 2.474l-8.61 8.61c-.21.21-.47.364-.756.445l-3.251.93a.75.75 0 0 1-.927-.928l.929-3.25c.081-.286.235-.547.445-.758l8.61-8.61Zm.176 4.823L9.75 4.81l-6.286 6.287a.253.253 0 0 0-.064.108l-.558 1.953 1.953-.558a.253.253 0 0 0 .108-.064Zm1.238-3.763a.25.25 0 0 0-.354 0L10.811 3.75l1.439 1.44 1.263-1.263a.25.25 0 0 0 0-.354Z"></path>
</svg>
</template>

        <div class="position-relative">
                <ul
                  role="listbox"
                  class="ActionListWrap QueryBuilder-ListWrap"
                  aria-label="Suggestions"
                  data-action="
                    combobox-commit:query-builder#comboboxCommit
                    mousedown:query-builder#resultsMousedown
                  "
                  data-target="query-builder.resultsList"
                  data-persist-list=false
                  id="query-builder-test-results"
                ></ul>
        </div>
    </div>
    <div data-target="query-builder.screenReaderFeedback" aria-live="polite" aria-atomic="true" class="sr-only"></div>
</query-builder></form>
          <div class="d-flex flex-row color-fg-muted px-3 text-small color-bg-default search-feedback-prompt">
            <a target="_blank" href="https://docs.github.com/en/search-github/github-code-search/understanding-github-code-search-syntax" data-view-component="true" class="color-fg-accent text-normal ml-2">
              Search syntax tips
</a>            <div class="d-flex flex-1"></div>
              <button data-action="click:qbsearch-input#showFeedbackDialog" type="button" data-view-component="true" class="Button--link Button--medium Button color-fg-accent text-normal ml-2">    <span class="Button-content">
      <span class="Button-label">Give feedback</span>
    </span>
</button>  
          </div>
        </div>
</div>

    </div>
</modal-dialog></div>
  </div>
  <div data-action="click:qbsearch-input#retract" class="dark-backdrop position-fixed width-full" hidden data-target="qbsearch-input.darkBackdrop"></div>
  <div class="color-fg-default">
    
<div class="Overlay--hidden Overlay-backdrop--center" data-modal-dialog-overlay>
  <modal-dialog data-target="qbsearch-input.feedbackDialog" data-action="close:qbsearch-input#handleDialogClose cancel:qbsearch-input#handleDialogClose" role="dialog" id="feedback-dialog" aria-modal="true" aria-disabled="true" aria-describedby="feedback-dialog-title feedback-dialog-description" data-view-component="true" class="Overlay Overlay-whenNarrow Overlay--size-medium Overlay--motion-scaleFade">
    <div data-view-component="true" class="Overlay-header">
  <div class="Overlay-headerContentWrap">
    <div class="Overlay-titleWrap">
      <h1 class="Overlay-title " id="feedback-dialog-title">
        Provide feedback
      </h1>
    </div>
    <div class="Overlay-actionWrap">
      <button data-close-dialog-id="feedback-dialog" aria-label="Close" type="button" data-view-component="true" class="close-button Overlay-closeButton"><svg aria-hidden="true" height="16" viewBox="0 0 16 16" version="1.1" width="16" data-view-component="true" class="octicon octicon-x">
    <path d="M3.72 3.72a.75.75 0 0 1 1.06 0L8 6.94l3.22-3.22a.749.749 0 0 1 1.275.326.749.749 0 0 1-.215.734L9.06 8l3.22 3.22a.749.749 0 0 1-.326 1.275.749.749 0 0 1-.734-.215L8 9.06l-3.22 3.22a.751.751 0 0 1-1.042-.018.751.751 0 0 1-.018-1.042L6.94 8 3.72 4.78a.75.75 0 0 1 0-1.06Z"></path>
</svg></button>
    </div>
  </div>
</div>
      <div data-view-component="true" class="Overlay-body">        <!-- '"` --><!-- </textarea></xmp> --></option></form><form id="code-search-feedback-form" data-turbo="false" action="/search/feedback" accept-charset="UTF-8" method="post"><input type="hidden" name="authenticity_token" value="LatS8xVcAGAPsbN7C46CdMIe5RKzAqHBUULpluxKQwiEZtb5g1lPJIo8ZZiZazd-YDRVIXDvNlZzIzsdbif_Tg" />
          <p>We read every piece of feedback, and take your input very seriously.</p>
          <textarea name="feedback" class="form-control width-full mb-2" style="height: 120px" id="feedback"></textarea>
          <input name="include_email" id="include_email" aria-label="Include my email address so I can be contacted" class="form-control mr-2" type="checkbox">
          <label for="include_email" style="font-weight: normal">Include my email address so I can be contacted</label>
</form></div>
      <div data-view-component="true" class="Overlay-footer Overlay-footer--alignEnd">          <button data-close-dialog-id="feedback-dialog" type="button" data-view-component="true" class="btn">    Cancel
</button>
          <button form="code-search-feedback-form" data-action="click:qbsearch-input#submitFeedback" type="submit" data-view-component="true" class="btn-primary btn">    Submit feedback
</button>
</div>
</modal-dialog></div>

    <custom-scopes data-target="qbsearch-input.customScopesManager">
    
<div class="Overlay--hidden Overlay-backdrop--center" data-modal-dialog-overlay>
  <modal-dialog data-target="custom-scopes.customScopesModalDialog" data-action="close:qbsearch-input#handleDialogClose cancel:qbsearch-input#handleDialogClose" role="dialog" id="custom-scopes-dialog" aria-modal="true" aria-disabled="true" aria-describedby="custom-scopes-dialog-title custom-scopes-dialog-description" data-view-component="true" class="Overlay Overlay-whenNarrow Overlay--size-medium Overlay--motion-scaleFade">
    <div data-view-component="true" class="Overlay-header Overlay-header--divided">
  <div class="Overlay-headerContentWrap">
    <div class="Overlay-titleWrap">
      <h1 class="Overlay-title " id="custom-scopes-dialog-title">
        Saved searches
      </h1>
        <h2 id="custom-scopes-dialog-description" class="Overlay-description">Use saved searches to filter your results more quickly</h2>
    </div>
    <div class="Overlay-actionWrap">
      <button data-close-dialog-id="custom-scopes-dialog" aria-label="Close" type="button" data-view-component="true" class="close-button Overlay-closeButton"><svg aria-hidden="true" height="16" viewBox="0 0 16 16" version="1.1" width="16" data-view-component="true" class="octicon octicon-x">
    <path d="M3.72 3.72a.75.75 0 0 1 1.06 0L8 6.94l3.22-3.22a.749.749 0 0 1 1.275.326.749.749 0 0 1-.215.734L9.06 8l3.22 3.22a.749.749 0 0 1-.326 1.275.749.749 0 0 1-.734-.215L8 9.06l-3.22 3.22a.751.751 0 0 1-1.042-.018.751.751 0 0 1-.018-1.042L6.94 8 3.72 4.78a.75.75 0 0 1 0-1.06Z"></path>
</svg></button>
    </div>
  </div>
</div>
      <div data-view-component="true" class="Overlay-body">        <div data-target="custom-scopes.customScopesModalDialogFlash"></div>

        <div hidden class="create-custom-scope-form" data-target="custom-scopes.createCustomScopeForm">
        <!-- '"` --><!-- </textarea></xmp> --></option></form><form id="custom-scopes-dialog-form" data-turbo="false" action="/search/custom_scopes" accept-charset="UTF-8" method="post"><input type="hidden" name="authenticity_token" value="A9zyCjdPVOE2pZMazwZf3YLD9xdIGQ08xcjRAzFzzT6cnbUXURJ09ALSnBaOIRNqnab9PjgnNeWJrES_Vd3lHA" />
          <div data-target="custom-scopes.customScopesModalDialogFlash"></div>

          <input type="hidden" id="custom_scope_id" name="custom_scope_id" data-target="custom-scopes.customScopesIdField">

          <div class="form-group">
            <label for="custom_scope_name">Name</label>
            <auto-check src="/search/custom_scopes/check_name" required>
              <input
                type="text"
                name="custom_scope_name"
                id="custom_scope_name"
                data-target="custom-scopes.customScopesNameField"
                class="form-control"
                autocomplete="off"
                placeholder="github-ruby"
                required
                maxlength="50">
              <input type="hidden" value="b1XHkQ44nuFdZLWsndpqlUbigHrl6yY9WA7u9VYxxm2bO347VUfs9KxWz5KjHR0g4ZoZPyWv2z0rqeXZRSgyWg" data-csrf="true" />
            </auto-check>
          </div>

          <div class="form-group">
            <label for="custom_scope_query">Query</label>
            <input
              type="text"
              name="custom_scope_query"
              id="custom_scope_query"
              data-target="custom-scopes.customScopesQueryField"
              class="form-control"
              autocomplete="off"
              placeholder="(repo:mona/a OR repo:mona/b) AND lang:python"
              required
              maxlength="500">
          </div>

          <p class="text-small color-fg-muted">
            To see all available qualifiers, see our <a href="https://docs.github.com/en/search-github/github-code-search/understanding-github-code-search-syntax">documentation</a>.
          </p>
</form>        </div>

        <div data-target="custom-scopes.manageCustomScopesForm">
          <div data-target="custom-scopes.list"></div>
        </div>

</div>
      <div data-view-component="true" class="Overlay-footer Overlay-footer--alignEnd Overlay-footer--divided">          <button data-action="click:custom-scopes#customScopesCancel" type="button" data-view-component="true" class="btn">    Cancel
</button>
          <button form="custom-scopes-dialog-form" data-action="click:custom-scopes#customScopesSubmit" data-target="custom-scopes.customScopesSubmitButton" type="submit" data-view-component="true" class="btn-primary btn">    Create saved search
</button>
</div>
</modal-dialog></div>
    </custom-scopes>
  </div>
</qbsearch-input><input type="hidden" value="KdJt66Ug7hu1dpLDUaR4PxEtJlAbujWDcIQYKKx9nd2ssndizA4PTUQ_Y819jbMNasajQY1r3Jn5UxqqSXzfVQ" data-csrf="true" class="js-data-jump-to-suggestions-path-csrf" />

        <nav id="global-nav" class="d-flex flex-column flex-md-row flex-self-stretch flex-md-self-auto" aria-label="Global">
    <a class="Header-link py-md-3 d-block d-md-none py-2 border-top border-md-top-0 border-white-fade" data-ga-click="Header, click, Nav menu - item:dashboard:user" aria-label="Dashboard" data-turbo="false" href="/dashboard">Dashboard</a>

  <a class="js-selected-navigation-item Header-link mt-md-n3 mb-md-n3 py-2 py-md-3 mr-0 mr-md-3 border-top border-md-top-0 border-white-fade" data-hotkey="g p" data-ga-click="Header, click, Nav menu - item:pulls context:user" aria-label="Pull requests you created" data-turbo="false" data-selected-links="/pulls /pulls/assigned /pulls/mentioned /pulls" href="/pulls">
      Pull<span class="d-inline d-md-none d-lg-inline"> request</span>s
</a>
  <a class="js-selected-navigation-item Header-link mt-md-n3 mb-md-n3 py-2 py-md-3 mr-0 mr-md-3 border-top border-md-top-0 border-white-fade" data-hotkey="g i" data-ga-click="Header, click, Nav menu - item:issues context:user" aria-label="Issues you created" data-turbo="false" data-selected-links="/issues /issues/assigned /issues/mentioned /issues" href="/issues">Issues</a>

      <a class="js-selected-navigation-item Header-link mt-md-n3 mb-md-n3 py-2 py-md-3 mr-0 mr-md-3 border-top border-md-top-0 border-white-fade" data-ga-click="Header, click, Nav menu - item:workspaces context:user" data-turbo="false" data-selected-links="/codespaces /codespaces" href="/codespaces">Codespaces</a>

    <div class="d-flex position-relative">
      <a class="js-selected-navigation-item Header-link flex-auto mt-md-n3 mb-md-n3 py-2 py-md-3 mr-0 mr-md-3 border-top border-md-top-0 border-white-fade" data-ga-click="Header, click, Nav menu - item:marketplace context:user" data-octo-click="marketplace_click" data-octo-dimensions="location:nav_bar" data-turbo="false" data-selected-links=" /marketplace" href="/marketplace">Marketplace</a>
    </div>

  <a class="js-selected-navigation-item Header-link mt-md-n3 mb-md-n3 py-2 py-md-3 mr-0 mr-md-3 border-top border-md-top-0 border-white-fade" data-ga-click="Header, click, Nav menu - item:explore" data-turbo="false" data-selected-links="/explore /trending /trending/developers /integrations /integrations/feature/code /integrations/feature/collaborate /integrations/feature/ship showcases showcases_search showcases_landing /explore" href="/explore">Explore</a>

      <a class="js-selected-navigation-item Header-link d-block d-md-none py-2 py-md-3 border-top border-md-top-0 border-white-fade" data-ga-click="Header, click, Nav menu - item:Sponsors" data-hydro-click="{&quot;event_type&quot;:&quot;sponsors.button_click&quot;,&quot;payload&quot;:{&quot;button&quot;:&quot;HEADER_SPONSORS_DASHBOARD&quot;,&quot;sponsorable_login&quot;:&quot;Emad-eldeen-Elsayed&quot;,&quot;originating_url&quot;:&quot;https://github.com/EveThan/IBM-Applied-Data-Science-Capstone-Project/blob/main/2_Data%20Collection%20with%20Web%20Scraping.ipynb&quot;,&quot;user_id&quot;:122600696}}" data-hydro-click-hmac="438152878803d7e2b40c02d4d8119ec5aed5de550a91bb064fffdfa985b58dde" data-turbo="false" data-selected-links=" /sponsors/accounts" href="/sponsors/accounts">Sponsors</a>

    <a class="Header-link d-block d-md-none mr-0 mr-md-3 py-2 py-md-3 border-top border-md-top-0 border-white-fade" data-turbo="false" href="/settings/profile">Settings</a>

    <a class="Header-link d-block d-md-none mr-0 mr-md-3 py-2 py-md-3 border-top border-md-top-0 border-white-fade" data-turbo="false" href="/Emad-eldeen-Elsayed">
      <img class="avatar avatar-user" loading="lazy" decoding="async" src="https://avatars.githubusercontent.com/u/122600696?s=40&amp;v=4" width="20" height="20" alt="@Emad-eldeen-Elsayed" />
      Emad-eldeen-Elsayed
</a>
    <!-- '"` --><!-- </textarea></xmp> --></option></form><form data-turbo="false" action="/logout" accept-charset="UTF-8" method="post"><input type="hidden" name="authenticity_token" value="Dx7Wh4pzCHhxH2H02BWi9zDwFCo42HgulqP-LP3ZK3Bgxd8aPJkDqTRycexbevTeogZZEutAkltcBxCbbLZ6ZQ" />
      <button
        type="submit"
        class="Header-link mr-0 mr-md-3 py-2 py-md-3 border-top border-md-top-0 border-white-fade d-md-none btn-link d-block width-full text-left"
        style="padding-left: 2px;"
        data-analytics-event="{&quot;category&quot;:&quot;Header&quot;,&quot;action&quot;:&quot;sign out&quot;,&quot;label&quot;:&quot;icon:logout&quot;}"
      >
        <svg aria-hidden="true" height="16" viewBox="0 0 16 16" version="1.1" width="16" data-view-component="true" class="octicon octicon-sign-out v-align-middle">
    <path d="M2 2.75C2 1.784 2.784 1 3.75 1h2.5a.75.75 0 0 1 0 1.5h-2.5a.25.25 0 0 0-.25.25v10.5c0 .138.112.25.25.25h2.5a.75.75 0 0 1 0 1.5h-2.5A1.75 1.75 0 0 1 2 13.25Zm10.44 4.5-1.97-1.97a.749.749 0 0 1 .326-1.275.749.749 0 0 1 .734.215l3.25 3.25a.75.75 0 0 1 0 1.06l-3.25 3.25a.749.749 0 0 1-1.275-.326.749.749 0 0 1 .215-.734l1.97-1.97H6.75a.75.75 0 0 1 0-1.5Z"></path>
</svg>
        Sign out
      </button>
</form></nav>

    </div>

    <div class="Header-item Header-item--full flex-justify-center d-md-none position-relative">
        <a
  class="Header-link"
  href="https://github.com/"
  data-hotkey="g d"
  aria-label="Homepage "
  data-turbo="false"
  data-analytics-event="{&quot;category&quot;:&quot;Header&quot;,&quot;action&quot;:&quot;go to dashboard&quot;,&quot;label&quot;:&quot;icon:logo&quot;}"
>
  <svg height="32" aria-hidden="true" viewBox="0 0 16 16" version="1.1" width="32" data-view-component="true" class="octicon octicon-mark-github v-align-middle">
    <path d="M8 0c4.42 0 8 3.58 8 8a8.013 8.013 0 0 1-5.45 7.59c-.4.08-.55-.17-.55-.38 0-.27.01-1.13.01-2.2 0-.75-.25-1.23-.54-1.48 1.78-.2 3.65-.88 3.65-3.95 0-.88-.31-1.59-.82-2.15.08-.2.36-1.02-.08-2.12 0 0-.67-.22-2.2.82-.64-.18-1.32-.27-2-.27-.68 0-1.36.09-2 .27-1.53-1.03-2.2-.82-2.2-.82-.44 1.1-.16 1.92-.08 2.12-.51.56-.82 1.28-.82 2.15 0 3.06 1.86 3.75 3.64 3.95-.23.2-.44.55-.51 1.07-.46.21-1.61.55-2.33-.66-.15-.24-.6-.83-1.23-.82-.67.01-.27.38.01.53.34.19.73.9.82 1.13.16.45.68 1.31 2.69.94 0 .67.01 1.3.01 1.49 0 .21-.15.45-.55.38A7.995 7.995 0 0 1 0 8c0-4.42 3.58-8 8-8Z"></path>
</svg>
</a>

    </div>

    <div class="Header-item mr-0 mr-md-3 flex-order-1 flex-md-order-none">
        

<notification-indicator data-channel="eyJjIjoibm90aWZpY2F0aW9uLWNoYW5nZWQ6MTIyNjAwNjk2IiwidCI6MTY4NjQ2NjUyN30=--f83994c46213edbfff384722fd0769441edfe68b8c22bdcd7c1b6b505ddadc59" data-indicator-mode="none" data-tooltip-global="You have unread notifications" data-tooltip-unavailable="Notifications are unavailable at the moment." data-tooltip-none="You have no unread notifications" data-fetch-indicator-src="/notifications/indicator" data-fetch-indicator-enabled="true" data-view-component="true" class="js-socket-channel">
  <a id="AppHeader-notifications-button" href="/notifications"
    class="Header-link notification-indicator position-relative tooltipped tooltipped-sw"

    

    data-hotkey="g n"
    data-target="notification-indicator.link"
    aria-label="Notifications"

      data-analytics-event="{&quot;category&quot;:&quot;Header&quot;,&quot;action&quot;:&quot;go to notifications&quot;,&quot;label&quot;:&quot;icon:read&quot;}"
  >

    <span
      data-target="notification-indicator.badge"
      class="mail-status unread" hidden>
    </span>

      <svg aria-hidden="true" height="16" viewBox="0 0 16 16" version="1.1" width="16" data-view-component="true" class="octicon octicon-bell">
    <path d="M8 16a2 2 0 0 0 1.985-1.75c.017-.137-.097-.25-.235-.25h-3.5c-.138 0-.252.113-.235.25A2 2 0 0 0 8 16ZM3 5a5 5 0 0 1 10 0v2.947c0 .05.015.098.042.139l1.703 2.555A1.519 1.519 0 0 1 13.482 13H2.518a1.516 1.516 0 0 1-1.263-2.36l1.703-2.554A.255.255 0 0 0 3 7.947Zm5-3.5A3.5 3.5 0 0 0 4.5 5v2.947c0 .346-.102.683-.294.97l-1.703 2.556a.017.017 0 0 0-.003.01l.001.006c0 .002.002.004.004.006l.006.004.007.001h10.964l.007-.001.006-.004.004-.006.001-.007a.017.017 0 0 0-.003-.01l-1.703-2.554a1.745 1.745 0 0 1-.294-.97V5A3.5 3.5 0 0 0 8 1.5Z"></path>
</svg>
  </a>

</notification-indicator>
    </div>


    <div class="Header-item position-relative d-none d-md-flex">
        <details class="details-overlay details-reset">
  <summary
    class="Header-link"
    aria-label="Create new…"
    data-analytics-event="{&quot;category&quot;:&quot;Header&quot;,&quot;action&quot;:&quot;create new&quot;,&quot;label&quot;:&quot;icon:add&quot;}"
  >
    <svg aria-hidden="true" height="16" viewBox="0 0 16 16" version="1.1" width="16" data-view-component="true" class="octicon octicon-plus">
    <path d="M7.75 2a.75.75 0 0 1 .75.75V7h4.25a.75.75 0 0 1 0 1.5H8.5v4.25a.75.75 0 0 1-1.5 0V8.5H2.75a.75.75 0 0 1 0-1.5H7V2.75A.75.75 0 0 1 7.75 2Z"></path>
</svg> <span class="dropdown-caret"></span>
  </summary>
  <details-menu class="dropdown-menu dropdown-menu-sw">
    
<a role="menuitem" class="dropdown-item" href="/new" data-ga-click="Header, create new repository">
  New repository
</a>

  <a role="menuitem" class="dropdown-item" href="/new/import" data-ga-click="Header, import a repository">
    Import repository
  </a>

  <a role="menuitem" class="dropdown-item" href="/codespaces/new">
    New codespace
  </a>

<a role="menuitem" class="dropdown-item" href="https://gist.github.com/" data-ga-click="Header, create new gist">
  New gist
</a>

  <a role="menuitem" class="dropdown-item" href="/organizations/new" data-ga-click="Header, create new organization">
    New organization
  </a>



  </details-menu>
</details>

    </div>

    <div class="Header-item position-relative mr-0 d-none d-md-flex">
        
<site-header-logged-in-user-menu>

    <details class="details-overlay details-reset js-feature-preview-indicator-container" data-feature-preview-indicator-src="/users/Emad-eldeen-Elsayed/feature_preview/indicator_check" data-target="site-header-logged-in-user-menu.detailsElem">

    <summary
      class="Header-link"
      aria-label="View profile and more"
      data-analytics-event="{&quot;category&quot;:&quot;Header&quot;,&quot;action&quot;:&quot;show menu&quot;,&quot;label&quot;:&quot;icon:avatar&quot;}"
    >
      <img src="https://avatars.githubusercontent.com/u/122600696?s=40&amp;v=4" alt="@Emad-eldeen-Elsayed" size="20" height="20" width="20" data-view-component="true" class="avatar avatar-small circle" />
        <span class="unread-indicator js-feature-preview-indicator" style="top: 1px;" hidden></span>
      <span class="dropdown-caret"></span>
    </summary>
    <details-menu
        class="dropdown-menu dropdown-menu-sw"
        style="width: 180px"
        
        preload>
        <include-fragment src="/users/122600696/menu" loading="lazy">
          <p class="text-center mt-3" data-hide-on-error>
            <svg style="box-sizing: content-box; color: var(--color-icon-primary);" width="32" height="32" viewBox="0 0 16 16" fill="none" data-view-component="true" class="anim-rotate">
  <circle cx="8" cy="8" r="7" stroke="currentColor" stroke-opacity="0.25" stroke-width="2" vector-effect="non-scaling-stroke" />
  <path d="M15 8a7.002 7.002 0 00-7-7" stroke="currentColor" stroke-width="2" stroke-linecap="round" vector-effect="non-scaling-stroke" />
</svg>
          </p>
          <p class="ml-1 mb-2 mt-2 color-fg-default" data-show-on-error>
            <svg aria-hidden="true" height="16" viewBox="0 0 16 16" version="1.1" width="16" data-view-component="true" class="octicon octicon-alert">
    <path d="M6.457 1.047c.659-1.234 2.427-1.234 3.086 0l6.082 11.378A1.75 1.75 0 0 1 14.082 15H1.918a1.75 1.75 0 0 1-1.543-2.575Zm1.763.707a.25.25 0 0 0-.44 0L1.698 13.132a.25.25 0 0 0 .22.368h12.164a.25.25 0 0 0 .22-.368Zm.53 3.996v2.5a.75.75 0 0 1-1.5 0v-2.5a.75.75 0 0 1 1.5 0ZM9 11a1 1 0 1 1-2 0 1 1 0 0 1 2 0Z"></path>
</svg>
            Sorry, something went wrong.
          </p>
        </include-fragment>
    </details-menu>
  </details>
</site-header-logged-in-user-menu>

    </div>
</header>

      <div hidden="hidden" data-view-component="true" class="js-stale-session-flash flash flash-warn mb-3">
  
        <svg aria-hidden="true" height="16" viewBox="0 0 16 16" version="1.1" width="16" data-view-component="true" class="octicon octicon-alert">
    <path d="M6.457 1.047c.659-1.234 2.427-1.234 3.086 0l6.082 11.378A1.75 1.75 0 0 1 14.082 15H1.918a1.75 1.75 0 0 1-1.543-2.575Zm1.763.707a.25.25 0 0 0-.44 0L1.698 13.132a.25.25 0 0 0 .22.368h12.164a.25.25 0 0 0 .22-.368Zm.53 3.996v2.5a.75.75 0 0 1-1.5 0v-2.5a.75.75 0 0 1 1.5 0ZM9 11a1 1 0 1 1-2 0 1 1 0 0 1 2 0Z"></path>
</svg>
        <span class="js-stale-session-flash-signed-in" hidden>You signed in with another tab or window. <a href="">Reload</a> to refresh your session.</span>
        <span class="js-stale-session-flash-signed-out" hidden>You signed out in another tab or window. <a href="">Reload</a> to refresh your session.</span>

    <button class="flash-close js-flash-close" type="button" aria-label="Close">
      <svg aria-hidden="true" height="16" viewBox="0 0 16 16" version="1.1" width="16" data-view-component="true" class="octicon octicon-x">
    <path d="M3.72 3.72a.75.75 0 0 1 1.06 0L8 6.94l3.22-3.22a.749.749 0 0 1 1.275.326.749.749 0 0 1-.215.734L9.06 8l3.22 3.22a.749.749 0 0 1-.326 1.275.749.749 0 0 1-.734-.215L8 9.06l-3.22 3.22a.751.751 0 0 1-1.042-.018.751.751 0 0 1-.018-1.042L6.94 8 3.72 4.78a.75.75 0 0 1 0-1.06Z"></path>
</svg>
    </button>

  
</div>
          
    </div>

  <div id="start-of-content" class="show-on-focus"></div>








    <div id="js-flash-container" data-turbo-replace>





  <template class="js-flash-template">
    
<div class="flash flash-full   {{ className }}">
  <div class="px-2" >
    <button autofocus class="flash-close js-flash-close" type="button" aria-label="Dismiss this message">
      <svg aria-hidden="true" height="16" viewBox="0 0 16 16" version="1.1" width="16" data-view-component="true" class="octicon octicon-x">
    <path d="M3.72 3.72a.75.75 0 0 1 1.06 0L8 6.94l3.22-3.22a.749.749 0 0 1 1.275.326.749.749 0 0 1-.215.734L9.06 8l3.22 3.22a.749.749 0 0 1-.326 1.275.749.749 0 0 1-.734-.215L8 9.06l-3.22 3.22a.751.751 0 0 1-1.042-.018.751.751 0 0 1-.018-1.042L6.94 8 3.72 4.78a.75.75 0 0 1 0-1.06Z"></path>
</svg>
    </button>
    <div aria-atomic="true" role="alert" class="js-flash-alert">
      
      <div>{{ message }}</div>

    </div>
  </div>
</div>
  </template>
</div>


    
    <notification-shelf-watcher data-base-url="https://github.com/notifications/beta/shelf" data-channel="eyJjIjoibm90aWZpY2F0aW9uLWNoYW5nZWQ6MTIyNjAwNjk2IiwidCI6MTY4NjQ2NjUyN30=--f83994c46213edbfff384722fd0769441edfe68b8c22bdcd7c1b6b505ddadc59" data-view-component="true" class="js-socket-channel"></notification-shelf-watcher>
  <div hidden data-initial data-target="notification-shelf-watcher.placeholder"></div>






      <details
  class="details-reset details-overlay details-overlay-dark js-command-palette-dialog"
  id="command-palette-pjax-container"
  data-turbo-replace
>
  <summary aria-label="command palette trigger" tabindex="-1"></summary>
  <details-dialog class="command-palette-details-dialog d-flex flex-column flex-justify-center height-fit" aria-label="command palette">
    <command-palette
      class="command-palette color-bg-default rounded-3 border color-shadow-small"
      return-to=/EveThan/IBM-Applied-Data-Science-Capstone-Project/blob/main/2_Data%20Collection%20with%20Web%20Scraping.ipynb
      user-id="122600696"
      activation-hotkey="Mod+k,Mod+Alt+k"
      command-mode-hotkey="Mod+Shift+k"
      data-action="
        command-palette-input-ready:command-palette#inputReady
        command-palette-page-stack-updated:command-palette#updateInputScope
        itemsUpdated:command-palette#itemsUpdated
        keydown:command-palette#onKeydown
        loadingStateChanged:command-palette#loadingStateChanged
        selectedItemChanged:command-palette#selectedItemChanged
        pageFetchError:command-palette#pageFetchError
      ">

        <command-palette-mode
          data-char="#"
            data-scope-types="[&quot;&quot;]"
            data-placeholder="Search issues and pull requests"
        ></command-palette-mode>
        <command-palette-mode
          data-char="#"
            data-scope-types="[&quot;owner&quot;,&quot;repository&quot;]"
            data-placeholder="Search issues, pull requests, discussions, and projects"
        ></command-palette-mode>
        <command-palette-mode
          data-char="!"
            data-scope-types="[&quot;owner&quot;,&quot;repository&quot;]"
            data-placeholder="Search projects"
        ></command-palette-mode>
        <command-palette-mode
          data-char="@"
            data-scope-types="[&quot;&quot;]"
            data-placeholder="Search or jump to a user, organization, or repository"
        ></command-palette-mode>
        <command-palette-mode
          data-char="@"
            data-scope-types="[&quot;owner&quot;]"
            data-placeholder="Search or jump to a repository"
        ></command-palette-mode>
        <command-palette-mode
          data-char="/"
            data-scope-types="[&quot;repository&quot;]"
            data-placeholder="Search files"
        ></command-palette-mode>
        <command-palette-mode
          data-char="?"
        ></command-palette-mode>
        <command-palette-mode
          data-char="&gt;"
            data-placeholder="Run a command"
        ></command-palette-mode>
        <command-palette-mode
          data-char=""
            data-scope-types="[&quot;&quot;]"
            data-placeholder="Search or jump to..."
        ></command-palette-mode>
        <command-palette-mode
          data-char=""
            data-scope-types="[&quot;owner&quot;]"
            data-placeholder="Search or jump to..."
        ></command-palette-mode>
      <command-palette-mode
        class="js-command-palette-default-mode"
        data-char=""
        data-placeholder="Search or jump to..."
      ></command-palette-mode>

      <command-palette-input placeholder="Search or jump to..."

        data-action="
          command-palette-input:command-palette#onInput
          command-palette-select:command-palette#onSelect
          command-palette-descope:command-palette#onDescope
          command-palette-cleared:command-palette#onInputClear
        "
      >
        <div class="js-search-icon d-flex flex-items-center mr-2" style="height: 26px">
          <svg aria-hidden="true" height="16" viewBox="0 0 16 16" version="1.1" width="16" data-view-component="true" class="octicon octicon-search color-fg-muted">
    <path d="M10.68 11.74a6 6 0 0 1-7.922-8.982 6 6 0 0 1 8.982 7.922l3.04 3.04a.749.749 0 0 1-.326 1.275.749.749 0 0 1-.734-.215ZM11.5 7a4.499 4.499 0 1 0-8.997 0A4.499 4.499 0 0 0 11.5 7Z"></path>
</svg>
        </div>
        <div class="js-spinner d-flex flex-items-center mr-2 color-fg-muted" hidden>
          <svg aria-label="Loading" class="anim-rotate" viewBox="0 0 16 16" fill="none" width="16" height="16">
            <circle
              cx="8"
              cy="8"
              r="7"
              stroke="currentColor"
              stroke-opacity="0.25"
              stroke-width="2"
              vector-effect="non-scaling-stroke"
            ></circle>
            <path
              d="M15 8a7.002 7.002 0 00-7-7"
              stroke="currentColor"
              stroke-width="2"
              stroke-linecap="round"
              vector-effect="non-scaling-stroke"
            ></path>
          </svg>
        </div>
        <command-palette-scope >
          <div data-target="command-palette-scope.placeholder" hidden class="color-fg-subtle">/&nbsp;&nbsp;<span class="text-semibold color-fg-default">...</span>&nbsp;&nbsp;/&nbsp;&nbsp;</div>
              <command-palette-token
                data-text="EveThan"
                data-id="MDQ6VXNlcjQ2NDYyNjAz"
                data-type="owner"
                data-value="EveThan"
                data-targets="command-palette-scope.tokens"
                class="color-fg-default text-semibold"
                style="white-space:nowrap;line-height:20px;"
                >EveThan<span class="color-fg-subtle text-normal">&nbsp;&nbsp;/&nbsp;&nbsp;</span></command-palette-token>
              <command-palette-token
                data-text="IBM-Applied-Data-Science-Capstone-Project"
                data-id="R_kgDOGzODYw"
                data-type="repository"
                data-value="IBM-Applied-Data-Science-Capstone-Project"
                data-targets="command-palette-scope.tokens"
                class="color-fg-default text-semibold"
                style="white-space:nowrap;line-height:20px;"
                >IBM-Applied-Data-...<span class="color-fg-subtle text-normal">&nbsp;&nbsp;/&nbsp;&nbsp;</span></command-palette-token>
        </command-palette-scope>
        <div class="command-palette-input-group flex-1 form-control border-0 box-shadow-none" style="z-index: 0">
          <div class="command-palette-typeahead position-absolute d-flex flex-items-center Truncate">
            <span class="typeahead-segment input-mirror" data-target="command-palette-input.mirror"></span>
            <span class="Truncate-text" data-target="command-palette-input.typeaheadText"></span>
            <span class="typeahead-segment" data-target="command-palette-input.typeaheadPlaceholder"></span>
          </div>
          <input
            class="js-overlay-input typeahead-input d-none"
            disabled
            tabindex="-1"
            aria-label="Hidden input for typeahead"
          >
          <input
            type="text"
            autocomplete="off"
            autocorrect="off"
            autocapitalize="off"
            spellcheck="false"
            class="js-input typeahead-input form-control border-0 box-shadow-none input-block width-full no-focus-indicator"
            aria-label="Command palette input"
            aria-haspopup="listbox"
            aria-expanded="false"
            aria-autocomplete="list"
            aria-controls="command-palette-page-stack"
            role="combobox"
            data-action="
              input:command-palette-input#onInput
              keydown:command-palette-input#onKeydown
            "
          >
        </div>
          <div data-view-component="true" class="position-relative d-inline-block">
    <button aria-keyshortcuts="Control+Backspace" data-action="click:command-palette-input#onClear keypress:command-palette-input#onClear" data-target="command-palette-input.clearButton" id="command-palette-clear-button" hidden="hidden" type="button" data-view-component="true" class="btn-octicon command-palette-input-clear-button">      <svg aria-hidden="true" height="16" viewBox="0 0 16 16" version="1.1" width="16" data-view-component="true" class="octicon octicon-x-circle-fill">
    <path d="M2.343 13.657A8 8 0 1 1 13.658 2.343 8 8 0 0 1 2.343 13.657ZM6.03 4.97a.751.751 0 0 0-1.042.018.751.751 0 0 0-.018 1.042L6.94 8 4.97 9.97a.749.749 0 0 0 .326 1.275.749.749 0 0 0 .734-.215L8 9.06l1.97 1.97a.749.749 0 0 0 1.275-.326.749.749 0 0 0-.215-.734L9.06 8l1.97-1.97a.749.749 0 0 0-.326-1.275.749.749 0 0 0-.734.215L8 6.94Z"></path>
</svg>
</button>    <tool-tip id="tooltip-1de6809b-a8a6-41cf-8a13-64dd93204c1c" for="command-palette-clear-button" data-direction="w" data-type="label" data-view-component="true" class="sr-only position-absolute">Clear Command Palette</tool-tip>
</div>
      </command-palette-input>

      <command-palette-page-stack
        data-default-scope-id="R_kgDOGzODYw"
        data-default-scope-type="Repository"
        data-action="command-palette-page-octicons-cached:command-palette-page-stack#cacheOcticons"
      >
          <command-palette-tip
            class="color-fg-muted f6 px-3 py-1 my-2"
              data-scope-types="[&quot;&quot;,&quot;owner&quot;,&quot;repository&quot;]"
            data-mode=""
            data-value="">
            <div class="d-flex flex-items-start flex-justify-between">
              <div>
                <span class="text-bold">Tip:</span>
                  Type <kbd class="hx_kbd">#</kbd> to search pull requests
              </div>
              <div class="ml-2 flex-shrink-0">
                Type <kbd class="hx_kbd">?</kbd> for help and tips
              </div>
            </div>
          </command-palette-tip>
          <command-palette-tip
            class="color-fg-muted f6 px-3 py-1 my-2"
              data-scope-types="[&quot;&quot;,&quot;owner&quot;,&quot;repository&quot;]"
            data-mode=""
            data-value="">
            <div class="d-flex flex-items-start flex-justify-between">
              <div>
                <span class="text-bold">Tip:</span>
                  Type <kbd class="hx_kbd">#</kbd> to search issues
              </div>
              <div class="ml-2 flex-shrink-0">
                Type <kbd class="hx_kbd">?</kbd> for help and tips
              </div>
            </div>
          </command-palette-tip>
          <command-palette-tip
            class="color-fg-muted f6 px-3 py-1 my-2"
              data-scope-types="[&quot;owner&quot;,&quot;repository&quot;]"
            data-mode=""
            data-value="">
            <div class="d-flex flex-items-start flex-justify-between">
              <div>
                <span class="text-bold">Tip:</span>
                  Type <kbd class="hx_kbd">#</kbd> to search discussions
              </div>
              <div class="ml-2 flex-shrink-0">
                Type <kbd class="hx_kbd">?</kbd> for help and tips
              </div>
            </div>
          </command-palette-tip>
          <command-palette-tip
            class="color-fg-muted f6 px-3 py-1 my-2"
              data-scope-types="[&quot;owner&quot;,&quot;repository&quot;]"
            data-mode=""
            data-value="">
            <div class="d-flex flex-items-start flex-justify-between">
              <div>
                <span class="text-bold">Tip:</span>
                  Type <kbd class="hx_kbd">!</kbd> to search projects
              </div>
              <div class="ml-2 flex-shrink-0">
                Type <kbd class="hx_kbd">?</kbd> for help and tips
              </div>
            </div>
          </command-palette-tip>
          <command-palette-tip
            class="color-fg-muted f6 px-3 py-1 my-2"
              data-scope-types="[&quot;owner&quot;]"
            data-mode=""
            data-value="">
            <div class="d-flex flex-items-start flex-justify-between">
              <div>
                <span class="text-bold">Tip:</span>
                  Type <kbd class="hx_kbd">@</kbd> to search teams
              </div>
              <div class="ml-2 flex-shrink-0">
                Type <kbd class="hx_kbd">?</kbd> for help and tips
              </div>
            </div>
          </command-palette-tip>
          <command-palette-tip
            class="color-fg-muted f6 px-3 py-1 my-2"
              data-scope-types="[&quot;&quot;]"
            data-mode=""
            data-value="">
            <div class="d-flex flex-items-start flex-justify-between">
              <div>
                <span class="text-bold">Tip:</span>
                  Type <kbd class="hx_kbd">@</kbd> to search people and organizations
              </div>
              <div class="ml-2 flex-shrink-0">
                Type <kbd class="hx_kbd">?</kbd> for help and tips
              </div>
            </div>
          </command-palette-tip>
          <command-palette-tip
            class="color-fg-muted f6 px-3 py-1 my-2"
              data-scope-types="[&quot;&quot;,&quot;owner&quot;,&quot;repository&quot;]"
            data-mode=""
            data-value="">
            <div class="d-flex flex-items-start flex-justify-between">
              <div>
                <span class="text-bold">Tip:</span>
                  Type <kbd class="hx_kbd">&gt;</kbd> to activate command mode
              </div>
              <div class="ml-2 flex-shrink-0">
                Type <kbd class="hx_kbd">?</kbd> for help and tips
              </div>
            </div>
          </command-palette-tip>
          <command-palette-tip
            class="color-fg-muted f6 px-3 py-1 my-2"
              data-scope-types="[&quot;&quot;,&quot;owner&quot;,&quot;repository&quot;]"
            data-mode=""
            data-value="">
            <div class="d-flex flex-items-start flex-justify-between">
              <div>
                <span class="text-bold">Tip:</span>
                  Go to your accessibility settings to change your keyboard shortcuts
              </div>
              <div class="ml-2 flex-shrink-0">
                Type <kbd class="hx_kbd">?</kbd> for help and tips
              </div>
            </div>
          </command-palette-tip>
          <command-palette-tip
            class="color-fg-muted f6 px-3 py-1 my-2"
              data-scope-types="[&quot;&quot;,&quot;owner&quot;,&quot;repository&quot;]"
            data-mode="#"
            data-value="">
            <div class="d-flex flex-items-start flex-justify-between">
              <div>
                <span class="text-bold">Tip:</span>
                  Type author:@me to search your content
              </div>
              <div class="ml-2 flex-shrink-0">
                Type <kbd class="hx_kbd">?</kbd> for help and tips
              </div>
            </div>
          </command-palette-tip>
          <command-palette-tip
            class="color-fg-muted f6 px-3 py-1 my-2"
              data-scope-types="[&quot;&quot;,&quot;owner&quot;,&quot;repository&quot;]"
            data-mode="#"
            data-value="">
            <div class="d-flex flex-items-start flex-justify-between">
              <div>
                <span class="text-bold">Tip:</span>
                  Type is:pr to filter to pull requests
              </div>
              <div class="ml-2 flex-shrink-0">
                Type <kbd class="hx_kbd">?</kbd> for help and tips
              </div>
            </div>
          </command-palette-tip>
          <command-palette-tip
            class="color-fg-muted f6 px-3 py-1 my-2"
              data-scope-types="[&quot;&quot;,&quot;owner&quot;,&quot;repository&quot;]"
            data-mode="#"
            data-value="">
            <div class="d-flex flex-items-start flex-justify-between">
              <div>
                <span class="text-bold">Tip:</span>
                  Type is:issue to filter to issues
              </div>
              <div class="ml-2 flex-shrink-0">
                Type <kbd class="hx_kbd">?</kbd> for help and tips
              </div>
            </div>
          </command-palette-tip>
          <command-palette-tip
            class="color-fg-muted f6 px-3 py-1 my-2"
              data-scope-types="[&quot;owner&quot;,&quot;repository&quot;]"
            data-mode="#"
            data-value="">
            <div class="d-flex flex-items-start flex-justify-between">
              <div>
                <span class="text-bold">Tip:</span>
                  Type is:project to filter to projects
              </div>
              <div class="ml-2 flex-shrink-0">
                Type <kbd class="hx_kbd">?</kbd> for help and tips
              </div>
            </div>
          </command-palette-tip>
          <command-palette-tip
            class="color-fg-muted f6 px-3 py-1 my-2"
              data-scope-types="[&quot;&quot;,&quot;owner&quot;,&quot;repository&quot;]"
            data-mode="#"
            data-value="">
            <div class="d-flex flex-items-start flex-justify-between">
              <div>
                <span class="text-bold">Tip:</span>
                  Type is:open to filter to open content
              </div>
              <div class="ml-2 flex-shrink-0">
                Type <kbd class="hx_kbd">?</kbd> for help and tips
              </div>
            </div>
          </command-palette-tip>
        <command-palette-tip class="mx-3 my-2 flash flash-error d-flex flex-items-center" data-scope-types="*" data-on-error>
          <div>
            <svg aria-hidden="true" height="16" viewBox="0 0 16 16" version="1.1" width="16" data-view-component="true" class="octicon octicon-alert">
    <path d="M6.457 1.047c.659-1.234 2.427-1.234 3.086 0l6.082 11.378A1.75 1.75 0 0 1 14.082 15H1.918a1.75 1.75 0 0 1-1.543-2.575Zm1.763.707a.25.25 0 0 0-.44 0L1.698 13.132a.25.25 0 0 0 .22.368h12.164a.25.25 0 0 0 .22-.368Zm.53 3.996v2.5a.75.75 0 0 1-1.5 0v-2.5a.75.75 0 0 1 1.5 0ZM9 11a1 1 0 1 1-2 0 1 1 0 0 1 2 0Z"></path>
</svg>
          </div>
          <div class="px-2">
            We’ve encountered an error and some results aren't available at this time. Type a new search or try again later.
          </div>
        </command-palette-tip>
        <command-palette-tip class="h4 color-fg-default pl-3 pb-2 pt-3" data-on-empty data-scope-types="*" data-match-mode="[^?]|^$">
          No results matched your search
        </command-palette-tip>

        <div hidden>

            <div data-targets="command-palette-page-stack.localOcticons" data-octicon-id="arrow-right-color-fg-muted">
              <svg height="16" class="octicon octicon-arrow-right color-fg-muted" viewBox="0 0 16 16" version="1.1" width="16" aria-hidden="true"><path d="M8.22 2.97a.75.75 0 0 1 1.06 0l4.25 4.25a.75.75 0 0 1 0 1.06l-4.25 4.25a.751.751 0 0 1-1.042-.018.751.751 0 0 1-.018-1.042l2.97-2.97H3.75a.75.75 0 0 1 0-1.5h7.44L8.22 4.03a.75.75 0 0 1 0-1.06Z"></path></svg>
            </div>
            <div data-targets="command-palette-page-stack.localOcticons" data-octicon-id="arrow-right-color-fg-default">
              <svg height="16" class="octicon octicon-arrow-right color-fg-default" viewBox="0 0 16 16" version="1.1" width="16" aria-hidden="true"><path d="M8.22 2.97a.75.75 0 0 1 1.06 0l4.25 4.25a.75.75 0 0 1 0 1.06l-4.25 4.25a.751.751 0 0 1-1.042-.018.751.751 0 0 1-.018-1.042l2.97-2.97H3.75a.75.75 0 0 1 0-1.5h7.44L8.22 4.03a.75.75 0 0 1 0-1.06Z"></path></svg>
            </div>
            <div data-targets="command-palette-page-stack.localOcticons" data-octicon-id="codespaces-color-fg-muted">
              <svg height="16" class="octicon octicon-codespaces color-fg-muted" viewBox="0 0 16 16" version="1.1" width="16" aria-hidden="true"><path d="M0 11.25c0-.966.784-1.75 1.75-1.75h12.5c.966 0 1.75.784 1.75 1.75v3A1.75 1.75 0 0 1 14.25 16H1.75A1.75 1.75 0 0 1 0 14.25Zm2-9.5C2 .784 2.784 0 3.75 0h8.5C13.216 0 14 .784 14 1.75v5a1.75 1.75 0 0 1-1.75 1.75h-8.5A1.75 1.75 0 0 1 2 6.75Zm1.75-.25a.25.25 0 0 0-.25.25v5c0 .138.112.25.25.25h8.5a.25.25 0 0 0 .25-.25v-5a.25.25 0 0 0-.25-.25Zm-2 9.5a.25.25 0 0 0-.25.25v3c0 .138.112.25.25.25h12.5a.25.25 0 0 0 .25-.25v-3a.25.25 0 0 0-.25-.25Z"></path><path d="M7 12.75a.75.75 0 0 1 .75-.75h4.5a.75.75 0 0 1 0 1.5h-4.5a.75.75 0 0 1-.75-.75Zm-4 0a.75.75 0 0 1 .75-.75h.5a.75.75 0 0 1 0 1.5h-.5a.75.75 0 0 1-.75-.75Z"></path></svg>
            </div>
            <div data-targets="command-palette-page-stack.localOcticons" data-octicon-id="copy-color-fg-muted">
              <svg height="16" class="octicon octicon-copy color-fg-muted" viewBox="0 0 16 16" version="1.1" width="16" aria-hidden="true"><path d="M0 6.75C0 5.784.784 5 1.75 5h1.5a.75.75 0 0 1 0 1.5h-1.5a.25.25 0 0 0-.25.25v7.5c0 .138.112.25.25.25h7.5a.25.25 0 0 0 .25-.25v-1.5a.75.75 0 0 1 1.5 0v1.5A1.75 1.75 0 0 1 9.25 16h-7.5A1.75 1.75 0 0 1 0 14.25Z"></path><path d="M5 1.75C5 .784 5.784 0 6.75 0h7.5C15.216 0 16 .784 16 1.75v7.5A1.75 1.75 0 0 1 14.25 11h-7.5A1.75 1.75 0 0 1 5 9.25Zm1.75-.25a.25.25 0 0 0-.25.25v7.5c0 .138.112.25.25.25h7.5a.25.25 0 0 0 .25-.25v-7.5a.25.25 0 0 0-.25-.25Z"></path></svg>
            </div>
            <div data-targets="command-palette-page-stack.localOcticons" data-octicon-id="dash-color-fg-muted">
              <svg height="16" class="octicon octicon-dash color-fg-muted" viewBox="0 0 16 16" version="1.1" width="16" aria-hidden="true"><path d="M2 7.75A.75.75 0 0 1 2.75 7h10a.75.75 0 0 1 0 1.5h-10A.75.75 0 0 1 2 7.75Z"></path></svg>
            </div>
            <div data-targets="command-palette-page-stack.localOcticons" data-octicon-id="file-color-fg-muted">
              <svg height="16" class="octicon octicon-file color-fg-muted" viewBox="0 0 16 16" version="1.1" width="16" aria-hidden="true"><path d="M2 1.75C2 .784 2.784 0 3.75 0h6.586c.464 0 .909.184 1.237.513l2.914 2.914c.329.328.513.773.513 1.237v9.586A1.75 1.75 0 0 1 13.25 16h-9.5A1.75 1.75 0 0 1 2 14.25Zm1.75-.25a.25.25 0 0 0-.25.25v12.5c0 .138.112.25.25.25h9.5a.25.25 0 0 0 .25-.25V6h-2.75A1.75 1.75 0 0 1 9 4.25V1.5Zm6.75.062V4.25c0 .138.112.25.25.25h2.688l-.011-.013-2.914-2.914-.013-.011Z"></path></svg>
            </div>
            <div data-targets="command-palette-page-stack.localOcticons" data-octicon-id="gear-color-fg-muted">
              <svg height="16" class="octicon octicon-gear color-fg-muted" viewBox="0 0 16 16" version="1.1" width="16" aria-hidden="true"><path d="M8 0a8.2 8.2 0 0 1 .701.031C9.444.095 9.99.645 10.16 1.29l.288 1.107c.018.066.079.158.212.224.231.114.454.243.668.386.123.082.233.09.299.071l1.103-.303c.644-.176 1.392.021 1.82.63.27.385.506.792.704 1.218.315.675.111 1.422-.364 1.891l-.814.806c-.049.048-.098.147-.088.294.016.257.016.515 0 .772-.01.147.038.246.088.294l.814.806c.475.469.679 1.216.364 1.891a7.977 7.977 0 0 1-.704 1.217c-.428.61-1.176.807-1.82.63l-1.102-.302c-.067-.019-.177-.011-.3.071a5.909 5.909 0 0 1-.668.386c-.133.066-.194.158-.211.224l-.29 1.106c-.168.646-.715 1.196-1.458 1.26a8.006 8.006 0 0 1-1.402 0c-.743-.064-1.289-.614-1.458-1.26l-.289-1.106c-.018-.066-.079-.158-.212-.224a5.738 5.738 0 0 1-.668-.386c-.123-.082-.233-.09-.299-.071l-1.103.303c-.644.176-1.392-.021-1.82-.63a8.12 8.12 0 0 1-.704-1.218c-.315-.675-.111-1.422.363-1.891l.815-.806c.05-.048.098-.147.088-.294a6.214 6.214 0 0 1 0-.772c.01-.147-.038-.246-.088-.294l-.815-.806C.635 6.045.431 5.298.746 4.623a7.92 7.92 0 0 1 .704-1.217c.428-.61 1.176-.807 1.82-.63l1.102.302c.067.019.177.011.3-.071.214-.143.437-.272.668-.386.133-.066.194-.158.211-.224l.29-1.106C6.009.645 6.556.095 7.299.03 7.53.01 7.764 0 8 0Zm-.571 1.525c-.036.003-.108.036-.137.146l-.289 1.105c-.147.561-.549.967-.998 1.189-.173.086-.34.183-.5.29-.417.278-.97.423-1.529.27l-1.103-.303c-.109-.03-.175.016-.195.045-.22.312-.412.644-.573.99-.014.031-.021.11.059.19l.815.806c.411.406.562.957.53 1.456a4.709 4.709 0 0 0 0 .582c.032.499-.119 1.05-.53 1.456l-.815.806c-.081.08-.073.159-.059.19.162.346.353.677.573.989.02.03.085.076.195.046l1.102-.303c.56-.153 1.113-.008 1.53.27.161.107.328.204.501.29.447.222.85.629.997 1.189l.289 1.105c.029.109.101.143.137.146a6.6 6.6 0 0 0 1.142 0c.036-.003.108-.036.137-.146l.289-1.105c.147-.561.549-.967.998-1.189.173-.086.34-.183.5-.29.417-.278.97-.423 1.529-.27l1.103.303c.109.029.175-.016.195-.045.22-.313.411-.644.573-.99.014-.031.021-.11-.059-.19l-.815-.806c-.411-.406-.562-.957-.53-1.456a4.709 4.709 0 0 0 0-.582c-.032-.499.119-1.05.53-1.456l.815-.806c.081-.08.073-.159.059-.19a6.464 6.464 0 0 0-.573-.989c-.02-.03-.085-.076-.195-.046l-1.102.303c-.56.153-1.113.008-1.53-.27a4.44 4.44 0 0 0-.501-.29c-.447-.222-.85-.629-.997-1.189l-.289-1.105c-.029-.11-.101-.143-.137-.146a6.6 6.6 0 0 0-1.142 0ZM11 8a3 3 0 1 1-6 0 3 3 0 0 1 6 0ZM9.5 8a1.5 1.5 0 1 0-3.001.001A1.5 1.5 0 0 0 9.5 8Z"></path></svg>
            </div>
            <div data-targets="command-palette-page-stack.localOcticons" data-octicon-id="lock-color-fg-muted">
              <svg height="16" class="octicon octicon-lock color-fg-muted" viewBox="0 0 16 16" version="1.1" width="16" aria-hidden="true"><path d="M4 4a4 4 0 0 1 8 0v2h.25c.966 0 1.75.784 1.75 1.75v5.5A1.75 1.75 0 0 1 12.25 15h-8.5A1.75 1.75 0 0 1 2 13.25v-5.5C2 6.784 2.784 6 3.75 6H4Zm8.25 3.5h-8.5a.25.25 0 0 0-.25.25v5.5c0 .138.112.25.25.25h8.5a.25.25 0 0 0 .25-.25v-5.5a.25.25 0 0 0-.25-.25ZM10.5 6V4a2.5 2.5 0 1 0-5 0v2Z"></path></svg>
            </div>
            <div data-targets="command-palette-page-stack.localOcticons" data-octicon-id="moon-color-fg-muted">
              <svg height="16" class="octicon octicon-moon color-fg-muted" viewBox="0 0 16 16" version="1.1" width="16" aria-hidden="true"><path d="M9.598 1.591a.749.749 0 0 1 .785-.175 7.001 7.001 0 1 1-8.967 8.967.75.75 0 0 1 .961-.96 5.5 5.5 0 0 0 7.046-7.046.75.75 0 0 1 .175-.786Zm1.616 1.945a7 7 0 0 1-7.678 7.678 5.499 5.499 0 1 0 7.678-7.678Z"></path></svg>
            </div>
            <div data-targets="command-palette-page-stack.localOcticons" data-octicon-id="person-color-fg-muted">
              <svg height="16" class="octicon octicon-person color-fg-muted" viewBox="0 0 16 16" version="1.1" width="16" aria-hidden="true"><path d="M10.561 8.073a6.005 6.005 0 0 1 3.432 5.142.75.75 0 1 1-1.498.07 4.5 4.5 0 0 0-8.99 0 .75.75 0 0 1-1.498-.07 6.004 6.004 0 0 1 3.431-5.142 3.999 3.999 0 1 1 5.123 0ZM10.5 5a2.5 2.5 0 1 0-5 0 2.5 2.5 0 0 0 5 0Z"></path></svg>
            </div>
            <div data-targets="command-palette-page-stack.localOcticons" data-octicon-id="pencil-color-fg-muted">
              <svg height="16" class="octicon octicon-pencil color-fg-muted" viewBox="0 0 16 16" version="1.1" width="16" aria-hidden="true"><path d="M11.013 1.427a1.75 1.75 0 0 1 2.474 0l1.086 1.086a1.75 1.75 0 0 1 0 2.474l-8.61 8.61c-.21.21-.47.364-.756.445l-3.251.93a.75.75 0 0 1-.927-.928l.929-3.25c.081-.286.235-.547.445-.758l8.61-8.61Zm.176 4.823L9.75 4.81l-6.286 6.287a.253.253 0 0 0-.064.108l-.558 1.953 1.953-.558a.253.253 0 0 0 .108-.064Zm1.238-3.763a.25.25 0 0 0-.354 0L10.811 3.75l1.439 1.44 1.263-1.263a.25.25 0 0 0 0-.354Z"></path></svg>
            </div>
            <div data-targets="command-palette-page-stack.localOcticons" data-octicon-id="issue-opened-open">
              <svg height="16" class="octicon octicon-issue-opened open" viewBox="0 0 16 16" version="1.1" width="16" aria-hidden="true"><path d="M8 9.5a1.5 1.5 0 1 0 0-3 1.5 1.5 0 0 0 0 3Z"></path><path d="M8 0a8 8 0 1 1 0 16A8 8 0 0 1 8 0ZM1.5 8a6.5 6.5 0 1 0 13 0 6.5 6.5 0 0 0-13 0Z"></path></svg>
            </div>
            <div data-targets="command-palette-page-stack.localOcticons" data-octicon-id="git-pull-request-draft-color-fg-muted">
              <svg height="16" class="octicon octicon-git-pull-request-draft color-fg-muted" viewBox="0 0 16 16" version="1.1" width="16" aria-hidden="true"><path d="M3.25 1A2.25 2.25 0 0 1 4 5.372v5.256a2.251 2.251 0 1 1-1.5 0V5.372A2.251 2.251 0 0 1 3.25 1Zm9.5 14a2.25 2.25 0 1 1 0-4.5 2.25 2.25 0 0 1 0 4.5ZM2.5 3.25a.75.75 0 1 0 1.5 0 .75.75 0 0 0-1.5 0ZM3.25 12a.75.75 0 1 0 0 1.5.75.75 0 0 0 0-1.5Zm9.5 0a.75.75 0 1 0 0 1.5.75.75 0 0 0 0-1.5ZM14 7.5a1.25 1.25 0 1 1-2.5 0 1.25 1.25 0 0 1 2.5 0Zm0-4.25a1.25 1.25 0 1 1-2.5 0 1.25 1.25 0 0 1 2.5 0Z"></path></svg>
            </div>
            <div data-targets="command-palette-page-stack.localOcticons" data-octicon-id="search-color-fg-muted">
              <svg height="16" class="octicon octicon-search color-fg-muted" viewBox="0 0 16 16" version="1.1" width="16" aria-hidden="true"><path d="M10.68 11.74a6 6 0 0 1-7.922-8.982 6 6 0 0 1 8.982 7.922l3.04 3.04a.749.749 0 0 1-.326 1.275.749.749 0 0 1-.734-.215ZM11.5 7a4.499 4.499 0 1 0-8.997 0A4.499 4.499 0 0 0 11.5 7Z"></path></svg>
            </div>
            <div data-targets="command-palette-page-stack.localOcticons" data-octicon-id="sun-color-fg-muted">
              <svg height="16" class="octicon octicon-sun color-fg-muted" viewBox="0 0 16 16" version="1.1" width="16" aria-hidden="true"><path d="M8 12a4 4 0 1 1 0-8 4 4 0 0 1 0 8Zm0-1.5a2.5 2.5 0 1 0 0-5 2.5 2.5 0 0 0 0 5Zm5.657-8.157a.75.75 0 0 1 0 1.061l-1.061 1.06a.749.749 0 0 1-1.275-.326.749.749 0 0 1 .215-.734l1.06-1.06a.75.75 0 0 1 1.06 0Zm-9.193 9.193a.75.75 0 0 1 0 1.06l-1.06 1.061a.75.75 0 1 1-1.061-1.06l1.06-1.061a.75.75 0 0 1 1.061 0ZM8 0a.75.75 0 0 1 .75.75v1.5a.75.75 0 0 1-1.5 0V.75A.75.75 0 0 1 8 0ZM3 8a.75.75 0 0 1-.75.75H.75a.75.75 0 0 1 0-1.5h1.5A.75.75 0 0 1 3 8Zm13 0a.75.75 0 0 1-.75.75h-1.5a.75.75 0 0 1 0-1.5h1.5A.75.75 0 0 1 16 8Zm-8 5a.75.75 0 0 1 .75.75v1.5a.75.75 0 0 1-1.5 0v-1.5A.75.75 0 0 1 8 13Zm3.536-1.464a.75.75 0 0 1 1.06 0l1.061 1.06a.75.75 0 0 1-1.06 1.061l-1.061-1.06a.75.75 0 0 1 0-1.061ZM2.343 2.343a.75.75 0 0 1 1.061 0l1.06 1.061a.751.751 0 0 1-.018 1.042.751.751 0 0 1-1.042.018l-1.06-1.06a.75.75 0 0 1 0-1.06Z"></path></svg>
            </div>
            <div data-targets="command-palette-page-stack.localOcticons" data-octicon-id="sync-color-fg-muted">
              <svg height="16" class="octicon octicon-sync color-fg-muted" viewBox="0 0 16 16" version="1.1" width="16" aria-hidden="true"><path d="M1.705 8.005a.75.75 0 0 1 .834.656 5.5 5.5 0 0 0 9.592 2.97l-1.204-1.204a.25.25 0 0 1 .177-.427h3.646a.25.25 0 0 1 .25.25v3.646a.25.25 0 0 1-.427.177l-1.38-1.38A7.002 7.002 0 0 1 1.05 8.84a.75.75 0 0 1 .656-.834ZM8 2.5a5.487 5.487 0 0 0-4.131 1.869l1.204 1.204A.25.25 0 0 1 4.896 6H1.25A.25.25 0 0 1 1 5.75V2.104a.25.25 0 0 1 .427-.177l1.38 1.38A7.002 7.002 0 0 1 14.95 7.16a.75.75 0 0 1-1.49.178A5.5 5.5 0 0 0 8 2.5Z"></path></svg>
            </div>
            <div data-targets="command-palette-page-stack.localOcticons" data-octicon-id="trash-color-fg-muted">
              <svg height="16" class="octicon octicon-trash color-fg-muted" viewBox="0 0 16 16" version="1.1" width="16" aria-hidden="true"><path d="M11 1.75V3h2.25a.75.75 0 0 1 0 1.5H2.75a.75.75 0 0 1 0-1.5H5V1.75C5 .784 5.784 0 6.75 0h2.5C10.216 0 11 .784 11 1.75ZM4.496 6.675l.66 6.6a.25.25 0 0 0 .249.225h5.19a.25.25 0 0 0 .249-.225l.66-6.6a.75.75 0 0 1 1.492.149l-.66 6.6A1.748 1.748 0 0 1 10.595 15h-5.19a1.75 1.75 0 0 1-1.741-1.575l-.66-6.6a.75.75 0 1 1 1.492-.15ZM6.5 1.75V3h3V1.75a.25.25 0 0 0-.25-.25h-2.5a.25.25 0 0 0-.25.25Z"></path></svg>
            </div>
            <div data-targets="command-palette-page-stack.localOcticons" data-octicon-id="key-color-fg-muted">
              <svg height="16" class="octicon octicon-key color-fg-muted" viewBox="0 0 16 16" version="1.1" width="16" aria-hidden="true"><path d="M10.5 0a5.499 5.499 0 1 1-1.288 10.848l-.932.932a.749.749 0 0 1-.53.22H7v.75a.749.749 0 0 1-.22.53l-.5.5a.749.749 0 0 1-.53.22H5v.75a.749.749 0 0 1-.22.53l-.5.5a.749.749 0 0 1-.53.22h-2A1.75 1.75 0 0 1 0 14.25v-2c0-.199.079-.389.22-.53l4.932-4.932A5.5 5.5 0 0 1 10.5 0Zm-4 5.5c-.001.431.069.86.205 1.269a.75.75 0 0 1-.181.768L1.5 12.56v1.69c0 .138.112.25.25.25h1.69l.06-.06v-1.19a.75.75 0 0 1 .75-.75h1.19l.06-.06v-1.19a.75.75 0 0 1 .75-.75h1.19l1.023-1.025a.75.75 0 0 1 .768-.18A4 4 0 1 0 6.5 5.5ZM11 6a1 1 0 1 1 0-2 1 1 0 0 1 0 2Z"></path></svg>
            </div>
            <div data-targets="command-palette-page-stack.localOcticons" data-octicon-id="comment-discussion-color-fg-muted">
              <svg height="16" class="octicon octicon-comment-discussion color-fg-muted" viewBox="0 0 16 16" version="1.1" width="16" aria-hidden="true"><path d="M1.75 1h8.5c.966 0 1.75.784 1.75 1.75v5.5A1.75 1.75 0 0 1 10.25 10H7.061l-2.574 2.573A1.458 1.458 0 0 1 2 11.543V10h-.25A1.75 1.75 0 0 1 0 8.25v-5.5C0 1.784.784 1 1.75 1ZM1.5 2.75v5.5c0 .138.112.25.25.25h1a.75.75 0 0 1 .75.75v2.19l2.72-2.72a.749.749 0 0 1 .53-.22h3.5a.25.25 0 0 0 .25-.25v-5.5a.25.25 0 0 0-.25-.25h-8.5a.25.25 0 0 0-.25.25Zm13 2a.25.25 0 0 0-.25-.25h-.5a.75.75 0 0 1 0-1.5h.5c.966 0 1.75.784 1.75 1.75v5.5A1.75 1.75 0 0 1 14.25 12H14v1.543a1.458 1.458 0 0 1-2.487 1.03L9.22 12.28a.749.749 0 0 1 .326-1.275.749.749 0 0 1 .734.215l2.22 2.22v-2.19a.75.75 0 0 1 .75-.75h1a.25.25 0 0 0 .25-.25Z"></path></svg>
            </div>
            <div data-targets="command-palette-page-stack.localOcticons" data-octicon-id="bell-color-fg-muted">
              <svg height="16" class="octicon octicon-bell color-fg-muted" viewBox="0 0 16 16" version="1.1" width="16" aria-hidden="true"><path d="M8 16a2 2 0 0 0 1.985-1.75c.017-.137-.097-.25-.235-.25h-3.5c-.138 0-.252.113-.235.25A2 2 0 0 0 8 16ZM3 5a5 5 0 0 1 10 0v2.947c0 .05.015.098.042.139l1.703 2.555A1.519 1.519 0 0 1 13.482 13H2.518a1.516 1.516 0 0 1-1.263-2.36l1.703-2.554A.255.255 0 0 0 3 7.947Zm5-3.5A3.5 3.5 0 0 0 4.5 5v2.947c0 .346-.102.683-.294.97l-1.703 2.556a.017.017 0 0 0-.003.01l.001.006c0 .002.002.004.004.006l.006.004.007.001h10.964l.007-.001.006-.004.004-.006.001-.007a.017.017 0 0 0-.003-.01l-1.703-2.554a1.745 1.745 0 0 1-.294-.97V5A3.5 3.5 0 0 0 8 1.5Z"></path></svg>
            </div>
            <div data-targets="command-palette-page-stack.localOcticons" data-octicon-id="bell-slash-color-fg-muted">
              <svg height="16" class="octicon octicon-bell-slash color-fg-muted" viewBox="0 0 16 16" version="1.1" width="16" aria-hidden="true"><path d="m4.182 4.31.016.011 10.104 7.316.013.01 1.375.996a.75.75 0 1 1-.88 1.214L13.626 13H2.518a1.516 1.516 0 0 1-1.263-2.36l1.703-2.554A.255.255 0 0 0 3 7.947V5.305L.31 3.357a.75.75 0 1 1 .88-1.214Zm7.373 7.19L4.5 6.391v1.556c0 .346-.102.683-.294.97l-1.703 2.556a.017.017 0 0 0-.003.01c0 .005.002.009.005.012l.006.004.007.001ZM8 1.5c-.997 0-1.895.416-2.534 1.086A.75.75 0 1 1 4.38 1.55 5 5 0 0 1 13 5v2.373a.75.75 0 0 1-1.5 0V5A3.5 3.5 0 0 0 8 1.5ZM8 16a2 2 0 0 1-1.985-1.75c-.017-.137.097-.25.235-.25h3.5c.138 0 .252.113.235.25A2 2 0 0 1 8 16Z"></path></svg>
            </div>
            <div data-targets="command-palette-page-stack.localOcticons" data-octicon-id="paintbrush-color-fg-muted">
              <svg height="16" class="octicon octicon-paintbrush color-fg-muted" viewBox="0 0 16 16" version="1.1" width="16" aria-hidden="true"><path d="M11.134 1.535c.7-.509 1.416-.942 2.076-1.155.649-.21 1.463-.267 2.069.34.603.601.568 1.411.368 2.07-.202.668-.624 1.39-1.125 2.096-1.011 1.424-2.496 2.987-3.775 4.249-1.098 1.084-2.132 1.839-3.04 2.3a3.744 3.744 0 0 1-1.055 3.217c-.431.431-1.065.691-1.657.861-.614.177-1.294.287-1.914.357A21.151 21.151 0 0 1 .797 16H.743l.007-.75H.749L.742 16a.75.75 0 0 1-.743-.742l.743-.008-.742.007v-.054a21.25 21.25 0 0 1 .13-2.284c.067-.647.187-1.287.358-1.914.17-.591.43-1.226.86-1.657a3.746 3.746 0 0 1 3.227-1.054c.466-.893 1.225-1.907 2.314-2.982 1.271-1.255 2.833-2.75 4.245-3.777ZM1.62 13.089c-.051.464-.086.929-.104 1.395.466-.018.932-.053 1.396-.104a10.511 10.511 0 0 0 1.668-.309c.526-.151.856-.325 1.011-.48a2.25 2.25 0 1 0-3.182-3.182c-.155.155-.329.485-.48 1.01a10.515 10.515 0 0 0-.309 1.67Zm10.396-10.34c-1.224.89-2.605 2.189-3.822 3.384l1.718 1.718c1.21-1.205 2.51-2.597 3.387-3.833.47-.662.78-1.227.912-1.662.134-.444.032-.551.009-.575h-.001V1.78c-.014-.014-.113-.113-.548.027-.432.14-.995.462-1.655.942Zm-4.832 7.266-.001.001a9.859 9.859 0 0 0 1.63-1.142L7.155 7.216a9.7 9.7 0 0 0-1.161 1.607c.482.302.889.71 1.19 1.192Z"></path></svg>
            </div>

            <command-palette-item-group
              data-group-id="top"
              data-group-title="Top result"
              data-group-hint=""
              data-group-limits="{}"
              data-default-priority="0"
            >
            </command-palette-item-group>
            <command-palette-item-group
              data-group-id="commands"
              data-group-title="Commands"
              data-group-hint="Type &gt; to filter"
              data-group-limits="{&quot;static_items_page&quot;:50,&quot;issue&quot;:50,&quot;pull_request&quot;:50,&quot;discussion&quot;:50}"
              data-default-priority="1"
            >
            </command-palette-item-group>
            <command-palette-item-group
              data-group-id="global_commands"
              data-group-title="Global Commands"
              data-group-hint="Type &gt; to filter"
              data-group-limits="{&quot;issue&quot;:0,&quot;pull_request&quot;:0,&quot;discussion&quot;:0}"
              data-default-priority="2"
            >
            </command-palette-item-group>
            <command-palette-item-group
              data-group-id="this_page"
              data-group-title="This Page"
              data-group-hint=""
              data-group-limits="{}"
              data-default-priority="3"
            >
            </command-palette-item-group>
            <command-palette-item-group
              data-group-id="files"
              data-group-title="Files"
              data-group-hint=""
              data-group-limits="{}"
              data-default-priority="4"
            >
            </command-palette-item-group>
            <command-palette-item-group
              data-group-id="default"
              data-group-title="Default"
              data-group-hint=""
              data-group-limits="{&quot;static_items_page&quot;:50}"
              data-default-priority="5"
            >
            </command-palette-item-group>
            <command-palette-item-group
              data-group-id="pages"
              data-group-title="Pages"
              data-group-hint=""
              data-group-limits="{&quot;repository&quot;:10}"
              data-default-priority="6"
            >
            </command-palette-item-group>
            <command-palette-item-group
              data-group-id="access_policies"
              data-group-title="Access Policies"
              data-group-hint=""
              data-group-limits="{}"
              data-default-priority="7"
            >
            </command-palette-item-group>
            <command-palette-item-group
              data-group-id="organizations"
              data-group-title="Organizations"
              data-group-hint=""
              data-group-limits="{}"
              data-default-priority="8"
            >
            </command-palette-item-group>
            <command-palette-item-group
              data-group-id="repositories"
              data-group-title="Repositories"
              data-group-hint=""
              data-group-limits="{}"
              data-default-priority="9"
            >
            </command-palette-item-group>
            <command-palette-item-group
              data-group-id="references"
              data-group-title="Issues, pull requests, and discussions"
              data-group-hint="Type # to filter"
              data-group-limits="{}"
              data-default-priority="10"
            >
            </command-palette-item-group>
            <command-palette-item-group
              data-group-id="teams"
              data-group-title="Teams"
              data-group-hint=""
              data-group-limits="{}"
              data-default-priority="11"
            >
            </command-palette-item-group>
            <command-palette-item-group
              data-group-id="users"
              data-group-title="Users"
              data-group-hint=""
              data-group-limits="{}"
              data-default-priority="12"
            >
            </command-palette-item-group>
            <command-palette-item-group
              data-group-id="memex_projects"
              data-group-title="Projects"
              data-group-hint=""
              data-group-limits="{}"
              data-default-priority="13"
            >
            </command-palette-item-group>
            <command-palette-item-group
              data-group-id="projects"
              data-group-title="Projects (classic)"
              data-group-hint=""
              data-group-limits="{}"
              data-default-priority="14"
            >
            </command-palette-item-group>
            <command-palette-item-group
              data-group-id="footer"
              data-group-title="Footer"
              data-group-hint=""
              data-group-limits="{}"
              data-default-priority="15"
            >
            </command-palette-item-group>
            <command-palette-item-group
              data-group-id="modes_help"
              data-group-title="Modes"
              data-group-hint=""
              data-group-limits="{}"
              data-default-priority="16"
            >
            </command-palette-item-group>
            <command-palette-item-group
              data-group-id="filters_help"
              data-group-title="Use filters in issues, pull requests, discussions, and projects"
              data-group-hint=""
              data-group-limits="{}"
              data-default-priority="17"
            >
            </command-palette-item-group>

            <command-palette-page
              data-page-title="EveThan"
              data-scope-id="MDQ6VXNlcjQ2NDYyNjAz"
              data-scope-type="owner"
              data-targets="command-palette-page-stack.defaultPages"
              hidden
            >
            </command-palette-page>
            <command-palette-page
              data-page-title="IBM-Applied-Data-Science-Capstone-Project"
              data-scope-id="R_kgDOGzODYw"
              data-scope-type="repository"
              data-targets="command-palette-page-stack.defaultPages"
              hidden
            >
            </command-palette-page>
        </div>

        <command-palette-page data-is-root>
        </command-palette-page>
          <command-palette-page
            data-page-title="EveThan"
            data-scope-id="MDQ6VXNlcjQ2NDYyNjAz"
            data-scope-type="owner"
          >
          </command-palette-page>
          <command-palette-page
            data-page-title="IBM-Applied-Data-Science-Capstone-Project"
            data-scope-id="R_kgDOGzODYw"
            data-scope-type="repository"
          >
          </command-palette-page>
      </command-palette-page-stack>

      <server-defined-provider data-type="search-links" data-targets="command-palette.serverDefinedProviderElements"></server-defined-provider>
      <server-defined-provider data-type="help" data-targets="command-palette.serverDefinedProviderElements">
          <command-palette-help
            data-group="modes_help"
              data-prefix="#"
              data-scope-types="[&quot;&quot;]"
          >
            <span data-target="command-palette-help.titleElement">Search for <strong>issues</strong> and <strong>pull requests</strong></span>
              <span data-target="command-palette-help.hintElement">
                <kbd class="hx_kbd">#</kbd>
              </span>
          </command-palette-help>
          <command-palette-help
            data-group="modes_help"
              data-prefix="#"
              data-scope-types="[&quot;owner&quot;,&quot;repository&quot;]"
          >
            <span data-target="command-palette-help.titleElement">Search for <strong>issues, pull requests, discussions,</strong> and <strong>projects</strong></span>
              <span data-target="command-palette-help.hintElement">
                <kbd class="hx_kbd">#</kbd>
              </span>
          </command-palette-help>
          <command-palette-help
            data-group="modes_help"
              data-prefix="@"
              data-scope-types="[&quot;&quot;]"
          >
            <span data-target="command-palette-help.titleElement">Search for <strong>organizations, repositories,</strong> and <strong>users</strong></span>
              <span data-target="command-palette-help.hintElement">
                <kbd class="hx_kbd">@</kbd>
              </span>
          </command-palette-help>
          <command-palette-help
            data-group="modes_help"
              data-prefix="!"
              data-scope-types="[&quot;owner&quot;,&quot;repository&quot;]"
          >
            <span data-target="command-palette-help.titleElement">Search for <strong>projects</strong></span>
              <span data-target="command-palette-help.hintElement">
                <kbd class="hx_kbd">!</kbd>
              </span>
          </command-palette-help>
          <command-palette-help
            data-group="modes_help"
              data-prefix="/"
              data-scope-types="[&quot;repository&quot;]"
          >
            <span data-target="command-palette-help.titleElement">Search for <strong>files</strong></span>
              <span data-target="command-palette-help.hintElement">
                <kbd class="hx_kbd">/</kbd>
              </span>
          </command-palette-help>
          <command-palette-help
            data-group="modes_help"
              data-prefix="&gt;"
          >
            <span data-target="command-palette-help.titleElement">Activate <strong>command mode</strong></span>
              <span data-target="command-palette-help.hintElement">
                <kbd class="hx_kbd">&gt;</kbd>
              </span>
          </command-palette-help>
          <command-palette-help
            data-group="filters_help"
              data-prefix="# author:@me"
          >
            <span data-target="command-palette-help.titleElement">Search your issues, pull requests, and discussions</span>
              <span data-target="command-palette-help.hintElement">
                <kbd class="hx_kbd"># author:@me</kbd>
              </span>
          </command-palette-help>
          <command-palette-help
            data-group="filters_help"
              data-prefix="# author:@me"
          >
            <span data-target="command-palette-help.titleElement">Search your issues, pull requests, and discussions</span>
              <span data-target="command-palette-help.hintElement">
                <kbd class="hx_kbd"># author:@me</kbd>
              </span>
          </command-palette-help>
          <command-palette-help
            data-group="filters_help"
              data-prefix="# is:pr"
          >
            <span data-target="command-palette-help.titleElement">Filter to pull requests</span>
              <span data-target="command-palette-help.hintElement">
                <kbd class="hx_kbd"># is:pr</kbd>
              </span>
          </command-palette-help>
          <command-palette-help
            data-group="filters_help"
              data-prefix="# is:issue"
          >
            <span data-target="command-palette-help.titleElement">Filter to issues</span>
              <span data-target="command-palette-help.hintElement">
                <kbd class="hx_kbd"># is:issue</kbd>
              </span>
          </command-palette-help>
          <command-palette-help
            data-group="filters_help"
              data-prefix="# is:discussion"
              data-scope-types="[&quot;owner&quot;,&quot;repository&quot;]"
          >
            <span data-target="command-palette-help.titleElement">Filter to discussions</span>
              <span data-target="command-palette-help.hintElement">
                <kbd class="hx_kbd"># is:discussion</kbd>
              </span>
          </command-palette-help>
          <command-palette-help
            data-group="filters_help"
              data-prefix="# is:project"
              data-scope-types="[&quot;owner&quot;,&quot;repository&quot;]"
          >
            <span data-target="command-palette-help.titleElement">Filter to projects</span>
              <span data-target="command-palette-help.hintElement">
                <kbd class="hx_kbd"># is:project</kbd>
              </span>
          </command-palette-help>
          <command-palette-help
            data-group="filters_help"
              data-prefix="# is:open"
          >
            <span data-target="command-palette-help.titleElement">Filter to open issues, pull requests, and discussions</span>
              <span data-target="command-palette-help.hintElement">
                <kbd class="hx_kbd"># is:open</kbd>
              </span>
          </command-palette-help>
      </server-defined-provider>

        <server-defined-provider
          data-type="commands"
          data-fetch-debounce="0"
            data-src="/command_palette/commands"
          data-supported-modes="[]"
            data-supports-commands
          
          data-targets="command-palette.serverDefinedProviderElements"
          ></server-defined-provider>
        <server-defined-provider
          data-type="prefetched"
          data-fetch-debounce="0"
            data-src="/command_palette/jump_to_page_navigation"
          data-supported-modes="[&quot;&quot;]"
            data-supported-scope-types="[&quot;&quot;,&quot;owner&quot;,&quot;repository&quot;]"
          
          data-targets="command-palette.serverDefinedProviderElements"
          ></server-defined-provider>
        <server-defined-provider
          data-type="remote"
          data-fetch-debounce="200"
            data-src="/command_palette/issues"
          data-supported-modes="[&quot;#&quot;,&quot;#&quot;]"
            data-supported-scope-types="[&quot;owner&quot;,&quot;repository&quot;,&quot;&quot;]"
          
          data-targets="command-palette.serverDefinedProviderElements"
          ></server-defined-provider>
        <server-defined-provider
          data-type="remote"
          data-fetch-debounce="200"
            data-src="/command_palette/jump_to"
          data-supported-modes="[&quot;@&quot;,&quot;@&quot;]"
            data-supported-scope-types="[&quot;&quot;,&quot;owner&quot;]"
          
          data-targets="command-palette.serverDefinedProviderElements"
          ></server-defined-provider>
        <server-defined-provider
          data-type="remote"
          data-fetch-debounce="200"
            data-src="/command_palette/jump_to_members_only"
          data-supported-modes="[&quot;@&quot;,&quot;@&quot;,&quot;&quot;,&quot;&quot;]"
            data-supported-scope-types="[&quot;&quot;,&quot;owner&quot;]"
          
          data-targets="command-palette.serverDefinedProviderElements"
          ></server-defined-provider>
        <server-defined-provider
          data-type="prefetched"
          data-fetch-debounce="0"
            data-src="/command_palette/jump_to_members_only_prefetched"
          data-supported-modes="[&quot;@&quot;,&quot;@&quot;,&quot;&quot;,&quot;&quot;]"
            data-supported-scope-types="[&quot;&quot;,&quot;owner&quot;]"
          
          data-targets="command-palette.serverDefinedProviderElements"
          ></server-defined-provider>
        <server-defined-provider
          data-type="files"
          data-fetch-debounce="0"
            data-src="/command_palette/files"
          data-supported-modes="[&quot;/&quot;]"
            data-supported-scope-types="[&quot;repository&quot;]"
          
          data-targets="command-palette.serverDefinedProviderElements"
          ></server-defined-provider>
        <server-defined-provider
          data-type="remote"
          data-fetch-debounce="200"
            data-src="/command_palette/discussions"
          data-supported-modes="[&quot;#&quot;]"
            data-supported-scope-types="[&quot;owner&quot;,&quot;repository&quot;]"
          
          data-targets="command-palette.serverDefinedProviderElements"
          ></server-defined-provider>
        <server-defined-provider
          data-type="remote"
          data-fetch-debounce="200"
            data-src="/command_palette/projects"
          data-supported-modes="[&quot;#&quot;,&quot;!&quot;]"
            data-supported-scope-types="[&quot;owner&quot;,&quot;repository&quot;]"
          
          data-targets="command-palette.serverDefinedProviderElements"
          ></server-defined-provider>
        <server-defined-provider
          data-type="prefetched"
          data-fetch-debounce="0"
            data-src="/command_palette/recent_issues"
          data-supported-modes="[&quot;#&quot;,&quot;#&quot;]"
            data-supported-scope-types="[&quot;owner&quot;,&quot;repository&quot;,&quot;&quot;]"
          
          data-targets="command-palette.serverDefinedProviderElements"
          ></server-defined-provider>
        <server-defined-provider
          data-type="remote"
          data-fetch-debounce="200"
            data-src="/command_palette/teams"
          data-supported-modes="[&quot;@&quot;,&quot;&quot;]"
            data-supported-scope-types="[&quot;owner&quot;]"
          
          data-targets="command-palette.serverDefinedProviderElements"
          ></server-defined-provider>
        <server-defined-provider
          data-type="remote"
          data-fetch-debounce="200"
            data-src="/command_palette/name_with_owner_repository"
          data-supported-modes="[&quot;@&quot;,&quot;@&quot;,&quot;&quot;,&quot;&quot;]"
            data-supported-scope-types="[&quot;&quot;,&quot;owner&quot;]"
          
          data-targets="command-palette.serverDefinedProviderElements"
          ></server-defined-provider>
    </command-palette>
  </details-dialog>
</details>

<div class="position-fixed bottom-0 left-0 ml-5 mb-5 js-command-palette-toasts" style="z-index: 1000">
  <div hidden class="Toast Toast--loading">
    <span class="Toast-icon">
      <svg class="Toast--spinner" viewBox="0 0 32 32" width="18" height="18" aria-hidden="true">
        <path
          fill="#959da5"
          d="M16 0 A16 16 0 0 0 16 32 A16 16 0 0 0 16 0 M16 4 A12 12 0 0 1 16 28 A12 12 0 0 1 16 4"
        />
        <path fill="#ffffff" d="M16 0 A16 16 0 0 1 32 16 L28 16 A12 12 0 0 0 16 4z"></path>
      </svg>
    </span>
    <span class="Toast-content"></span>
  </div>

  <div hidden class="anim-fade-in fast Toast Toast--error">
    <span class="Toast-icon">
      <svg aria-hidden="true" height="16" viewBox="0 0 16 16" version="1.1" width="16" data-view-component="true" class="octicon octicon-stop">
    <path d="M4.47.22A.749.749 0 0 1 5 0h6c.199 0 .389.079.53.22l4.25 4.25c.141.14.22.331.22.53v6a.749.749 0 0 1-.22.53l-4.25 4.25A.749.749 0 0 1 11 16H5a.749.749 0 0 1-.53-.22L.22 11.53A.749.749 0 0 1 0 11V5c0-.199.079-.389.22-.53Zm.84 1.28L1.5 5.31v5.38l3.81 3.81h5.38l3.81-3.81V5.31L10.69 1.5ZM8 4a.75.75 0 0 1 .75.75v3.5a.75.75 0 0 1-1.5 0v-3.5A.75.75 0 0 1 8 4Zm0 8a1 1 0 1 1 0-2 1 1 0 0 1 0 2Z"></path>
</svg>
    </span>
    <span class="Toast-content"></span>
  </div>

  <div hidden class="anim-fade-in fast Toast Toast--warning">
    <span class="Toast-icon">
      <svg aria-hidden="true" height="16" viewBox="0 0 16 16" version="1.1" width="16" data-view-component="true" class="octicon octicon-alert">
    <path d="M6.457 1.047c.659-1.234 2.427-1.234 3.086 0l6.082 11.378A1.75 1.75 0 0 1 14.082 15H1.918a1.75 1.75 0 0 1-1.543-2.575Zm1.763.707a.25.25 0 0 0-.44 0L1.698 13.132a.25.25 0 0 0 .22.368h12.164a.25.25 0 0 0 .22-.368Zm.53 3.996v2.5a.75.75 0 0 1-1.5 0v-2.5a.75.75 0 0 1 1.5 0ZM9 11a1 1 0 1 1-2 0 1 1 0 0 1 2 0Z"></path>
</svg>
    </span>
    <span class="Toast-content"></span>
  </div>


  <div hidden class="anim-fade-in fast Toast Toast--success">
    <span class="Toast-icon">
      <svg aria-hidden="true" height="16" viewBox="0 0 16 16" version="1.1" width="16" data-view-component="true" class="octicon octicon-check">
    <path d="M13.78 4.22a.75.75 0 0 1 0 1.06l-7.25 7.25a.75.75 0 0 1-1.06 0L2.22 9.28a.751.751 0 0 1 .018-1.042.751.751 0 0 1 1.042-.018L6 10.94l6.72-6.72a.75.75 0 0 1 1.06 0Z"></path>
</svg>
    </span>
    <span class="Toast-content"></span>
  </div>

  <div hidden class="anim-fade-in fast Toast">
    <span class="Toast-icon">
      <svg aria-hidden="true" height="16" viewBox="0 0 16 16" version="1.1" width="16" data-view-component="true" class="octicon octicon-info">
    <path d="M0 8a8 8 0 1 1 16 0A8 8 0 0 1 0 8Zm8-6.5a6.5 6.5 0 1 0 0 13 6.5 6.5 0 0 0 0-13ZM6.5 7.75A.75.75 0 0 1 7.25 7h1a.75.75 0 0 1 .75.75v2.75h.25a.75.75 0 0 1 0 1.5h-2a.75.75 0 0 1 0-1.5h.25v-2h-.25a.75.75 0 0 1-.75-.75ZM8 6a1 1 0 1 1 0-2 1 1 0 0 1 0 2Z"></path>
</svg>
    </span>
    <span class="Toast-content"></span>
  </div>
</div>


  <div
    class="application-main "
    data-commit-hovercards-enabled
    data-discussion-hovercards-enabled
    data-issue-and-pr-hovercards-enabled
  >
        <div itemscope itemtype="http://schema.org/SoftwareSourceCode" class="">
    <main id="js-repo-pjax-container" >
      
      






  
  <div id="repository-container-header"  class="pt-3 hide-full-screen" style="background-color: var(--color-page-header-bg);" data-turbo-replace>

      <div class="d-flex flex-wrap flex-justify-end mb-3  px-3 px-md-4 px-lg-5" style="gap: 1rem;">

        <div class="flex-auto min-width-0 width-fit mr-3">
            
  <div class=" d-flex flex-wrap flex-items-center wb-break-word f3 text-normal">
      <svg aria-hidden="true" height="16" viewBox="0 0 16 16" version="1.1" width="16" data-view-component="true" class="octicon octicon-repo color-fg-muted mr-2">
    <path d="M2 2.5A2.5 2.5 0 0 1 4.5 0h8.75a.75.75 0 0 1 .75.75v12.5a.75.75 0 0 1-.75.75h-2.5a.75.75 0 0 1 0-1.5h1.75v-2h-8a1 1 0 0 0-.714 1.7.75.75 0 1 1-1.072 1.05A2.495 2.495 0 0 1 2 11.5Zm10.5-1h-8a1 1 0 0 0-1 1v6.708A2.486 2.486 0 0 1 4.5 9h8ZM5 12.25a.25.25 0 0 1 .25-.25h3.5a.25.25 0 0 1 .25.25v3.25a.25.25 0 0 1-.4.2l-1.45-1.087a.249.249 0 0 0-.3 0L5.4 15.7a.25.25 0 0 1-.4-.2Z"></path>
</svg>
    
    <span class="author flex-self-stretch" itemprop="author">
      <a class="url fn" rel="author" data-hovercard-type="user" data-hovercard-url="/users/EveThan/hovercard" data-octo-click="hovercard-link-click" data-octo-dimensions="link_type:self" href="/EveThan">
        EveThan
</a>    </span>
    <span class="mx-1 flex-self-stretch color-fg-muted">/</span>
    <strong itemprop="name" class="mr-2 flex-self-stretch">
      <a data-pjax="#repo-content-pjax-container" data-turbo-frame="repo-content-turbo-frame" href="/EveThan/IBM-Applied-Data-Science-Capstone-Project">IBM-Applied-Data-Science-Capstone-Project</a>
    </strong>

    <span></span><span class="Label Label--secondary v-align-middle mr-1">Public</span>
  </div>


        </div>

        <div id="repository-details-container" data-turbo-replace>
            <ul class="pagehead-actions flex-shrink-0 d-none d-md-inline" style="padding: 2px 0;">
    
      

  <li>
        <include-fragment loading="lazy" src="/notifications/456360803/watch_subscription?aria_id_prefix=repository-details&amp;button_block=false&amp;show_count=true">
    <div data-hide-on-error>
        
            <button disabled="disabled" aria-label="Watching a repository" type="button" data-view-component="true" class="tooltipped tooltipped-n Button--secondary Button--small Button">    <span class="Button-content">
        <span class="Button-visual Button-leadingVisual">
          <svg aria-hidden="true" height="16" viewBox="0 0 16 16" version="1.1" width="16" data-view-component="true" class="octicon octicon-eye">
    <path d="M8 2c1.981 0 3.671.992 4.933 2.078 1.27 1.091 2.187 2.345 2.637 3.023a1.62 1.62 0 0 1 0 1.798c-.45.678-1.367 1.932-2.637 3.023C11.67 13.008 9.981 14 8 14c-1.981 0-3.671-.992-4.933-2.078C1.797 10.83.88 9.576.43 8.898a1.62 1.62 0 0 1 0-1.798c.45-.677 1.367-1.931 2.637-3.022C4.33 2.992 6.019 2 8 2ZM1.679 7.932a.12.12 0 0 0 0 .136c.411.622 1.241 1.75 2.366 2.717C5.176 11.758 6.527 12.5 8 12.5c1.473 0 2.825-.742 3.955-1.715 1.124-.967 1.954-2.096 2.366-2.717a.12.12 0 0 0 0-.136c-.412-.621-1.242-1.75-2.366-2.717C10.824 4.242 9.473 3.5 8 3.5c-1.473 0-2.825.742-3.955 1.715-1.124.967-1.954 2.096-2.366 2.717ZM8 10a2 2 0 1 1-.001-3.999A2 2 0 0 1 8 10Z"></path>
</svg>
        </span>
      <span class="Button-label">Watch</span>
    </span>
</button>  

    </div>
    <p data-show-on-error hidden>
        
          <span class="d-flex pt-1">
            <svg aria-hidden="true" height="16" viewBox="0 0 16 16" version="1.1" width="16" data-view-component="true" class="octicon octicon-alert mr-1">
    <path d="M6.457 1.047c.659-1.234 2.427-1.234 3.086 0l6.082 11.378A1.75 1.75 0 0 1 14.082 15H1.918a1.75 1.75 0 0 1-1.543-2.575Zm1.763.707a.25.25 0 0 0-.44 0L1.698 13.132a.25.25 0 0 0 .22.368h12.164a.25.25 0 0 0 .22-.368Zm.53 3.996v2.5a.75.75 0 0 1-1.5 0v-2.5a.75.75 0 0 1 1.5 0ZM9 11a1 1 0 1 1-2 0 1 1 0 0 1 2 0Z"></path>
</svg>
            Couldn't load subscription status.&nbsp;
              <button data-retry-button="" type="button" data-view-component="true" class="Button--link Button--medium Button">    <span class="Button-content">
      <span class="Button-label">Retry</span>
    </span>
</button>  

          </span>

    </p>
  </include-fragment>
  </li>

  <li>
        <div data-view-component="true" class="d-flex">
        <div data-view-component="true" class="position-relative d-inline-block">
    <a icon="repo-forked" id="fork-button" href="/EveThan/IBM-Applied-Data-Science-Capstone-Project/fork" data-hydro-click="{&quot;event_type&quot;:&quot;repository.click&quot;,&quot;payload&quot;:{&quot;target&quot;:&quot;FORK_BUTTON&quot;,&quot;repository_id&quot;:456360803,&quot;originating_url&quot;:&quot;https://github.com/EveThan/IBM-Applied-Data-Science-Capstone-Project/blob/main/2_Data%20Collection%20with%20Web%20Scraping.ipynb&quot;,&quot;user_id&quot;:122600696}}" data-hydro-click-hmac="16eb4af8131831888bb0468f556730455e420c38e9efe9ec119d64c482e516de" data-ga-click="Repository, show fork modal, action:blob#show; text:Fork" data-view-component="true" class="btn-sm btn BtnGroup-item border-right-0">      <svg aria-hidden="true" height="16" viewBox="0 0 16 16" version="1.1" width="16" data-view-component="true" class="octicon octicon-repo-forked mr-2">
    <path d="M5 5.372v.878c0 .414.336.75.75.75h4.5a.75.75 0 0 0 .75-.75v-.878a2.25 2.25 0 1 1 1.5 0v.878a2.25 2.25 0 0 1-2.25 2.25h-1.5v2.128a2.251 2.251 0 1 1-1.5 0V8.5h-1.5A2.25 2.25 0 0 1 3.5 6.25v-.878a2.25 2.25 0 1 1 1.5 0ZM5 3.25a.75.75 0 1 0-1.5 0 .75.75 0 0 0 1.5 0Zm6.75.75a.75.75 0 1 0 0-1.5.75.75 0 0 0 0 1.5Zm-3 8.75a.75.75 0 1 0-1.5 0 .75.75 0 0 0 1.5 0Z"></path>
</svg>Fork
          <span id="repo-network-counter" data-pjax-replace="true" data-turbo-replace="true" title="4" data-view-component="true" class="Counter">4</span>
</a>    <tool-tip id="tooltip-31b7e2ee-cf90-4081-98eb-70d77f642206" for="fork-button" data-direction="s" data-type="description" data-view-component="true" class="sr-only position-absolute">Fork your own copy of EveThan/IBM-Applied-Data-Science-Capstone-Project</tool-tip>
</div>
      <details group_item="true" id="my-forks-menu-456360803" data-view-component="true" class="details-reset details-overlay BtnGroup-parent d-inline-block position-relative">
              <summary aria-label="See your forks of this repository" data-view-component="true" class="btn-sm btn BtnGroup-item px-2 float-none">    <svg aria-hidden="true" height="16" viewBox="0 0 16 16" version="1.1" width="16" data-view-component="true" class="octicon octicon-triangle-down">
    <path d="m4.427 7.427 3.396 3.396a.25.25 0 0 0 .354 0l3.396-3.396A.25.25 0 0 0 11.396 7H4.604a.25.25 0 0 0-.177.427Z"></path>
</svg>
</summary>
  <details-menu
    class="SelectMenu right-0"
      src="/EveThan/IBM-Applied-Data-Science-Capstone-Project/my_forks_menu_content?can_fork=true"
      
      role="menu"
      
>
    <div class="SelectMenu-modal">
        <button class="SelectMenu-closeButton position-absolute right-0 m-2" type="button" aria-label="Close menu" data-toggle-for="details-dda356">
          <svg aria-hidden="true" height="16" viewBox="0 0 16 16" version="1.1" width="16" data-view-component="true" class="octicon octicon-x">
    <path d="M3.72 3.72a.75.75 0 0 1 1.06 0L8 6.94l3.22-3.22a.749.749 0 0 1 1.275.326.749.749 0 0 1-.215.734L9.06 8l3.22 3.22a.749.749 0 0 1-.326 1.275.749.749 0 0 1-.734-.215L8 9.06l-3.22 3.22a.751.751 0 0 1-1.042-.018.751.751 0 0 1-.018-1.042L6.94 8 3.72 4.78a.75.75 0 0 1 0-1.06Z"></path>
</svg>
        </button>
      <div
        id="filter-menu-dda356"
        class="d-flex flex-column flex-1 overflow-hidden"
>
        <div
          class="SelectMenu-list"
          >

            <include-fragment class="SelectMenu-loading" aria-label="Loading">
              <svg role="menuitem" style="box-sizing: content-box; color: var(--color-icon-primary);" width="32" height="32" viewBox="0 0 16 16" fill="none" data-view-component="true" class="anim-rotate">
  <circle cx="8" cy="8" r="7" stroke="currentColor" stroke-opacity="0.25" stroke-width="2" vector-effect="non-scaling-stroke" />
  <path d="M15 8a7.002 7.002 0 00-7-7" stroke="currentColor" stroke-width="2" stroke-linecap="round" vector-effect="non-scaling-stroke" />
</svg>
            </include-fragment>
        </div>
        
      </div>
    </div>
  </details-menu>
</details></div>
  </li>

  <li>
        <template class="js-unstar-confirmation-dialog-template">
  <div class="Box-header">
    <h2 class="Box-title">Unstar this repository?</h2>
  </div>
  <div class="Box-body">
    <p class="mb-3">
      This will remove {{ repoNameWithOwner }} from the {{ listsWithCount }} that it's been added to.
    </p>
    <div class="form-actions">
      <!-- '"` --><!-- </textarea></xmp> --></option></form><form class="js-social-confirmation-form" data-turbo="false" action="{{ confirmUrl }}" accept-charset="UTF-8" method="post">
        <input type="hidden" name="authenticity_token" value="{{ confirmCsrfToken }}">
        <input type="hidden" name="confirm" value="true">
          <button data-close-dialog="true" type="submit" data-view-component="true" class="btn-danger btn width-full">    Unstar
</button>
</form>    </div>
  </div>
</template>

  <div data-view-component="true" class="js-toggler-container js-social-container starring-container d-flex">
    <div data-view-component="true" class="starred BtnGroup flex-1">
      <!-- '"` --><!-- </textarea></xmp> --></option></form><form class="js-social-form BtnGroup-parent flex-auto js-deferred-toggler-target" data-turbo="false" action="/EveThan/IBM-Applied-Data-Science-Capstone-Project/unstar" accept-charset="UTF-8" method="post"><input type="hidden" name="authenticity_token" value="1kcx2MNJiiF_1NsCWtAwkQQjUsdMsW9MG2qVBSFSNTSAUmVNFsyk7v03RiP2-hDEzH-UOaUPrOoIHz9PmdjOXA" autocomplete="off" />
          <input type="hidden" value="b3-m9pniRXEL8we-LAx_nZtZlWsui9Yta8aCucm1e0A5avJjTGdrvokQmp-AJl_IUwVTlcc1FYt4syjzcT-AKA" data-csrf="true" class="js-confirm-csrf-token" />
        <input type="hidden" name="context" value="repository">
          <button data-hydro-click="{&quot;event_type&quot;:&quot;repository.click&quot;,&quot;payload&quot;:{&quot;target&quot;:&quot;UNSTAR_BUTTON&quot;,&quot;repository_id&quot;:456360803,&quot;originating_url&quot;:&quot;https://github.com/EveThan/IBM-Applied-Data-Science-Capstone-Project/blob/main/2_Data%20Collection%20with%20Web%20Scraping.ipynb&quot;,&quot;user_id&quot;:122600696}}" data-hydro-click-hmac="753304abc12598de49e3fa3d6fa7f1a7095fa8296e59e229db3845daa074be1a" data-ga-click="Repository, click unstar button, action:blob#show; text:Unstar" aria-label="Unstar this repository (0)" type="submit" data-view-component="true" class="rounded-left-2 btn-sm btn BtnGroup-item">    <svg aria-hidden="true" height="16" viewBox="0 0 16 16" version="1.1" width="16" data-view-component="true" class="octicon octicon-star-fill starred-button-icon d-inline-block mr-2">
    <path d="M8 .25a.75.75 0 0 1 .673.418l1.882 3.815 4.21.612a.75.75 0 0 1 .416 1.279l-3.046 2.97.719 4.192a.751.751 0 0 1-1.088.791L8 12.347l-3.766 1.98a.75.75 0 0 1-1.088-.79l.72-4.194L.818 6.374a.75.75 0 0 1 .416-1.28l4.21-.611L7.327.668A.75.75 0 0 1 8 .25Z"></path>
</svg><span data-view-component="true" class="d-inline">
              Starred
</span>              <span id="repo-stars-counter-unstar" aria-label="0 users starred this repository" data-singular-suffix="user starred this repository" data-plural-suffix="users starred this repository" data-turbo-replace="true" title="0" data-view-component="true" class="Counter js-social-count">0</span>
</button></form>        <details id="details-user-list-456360803-starred" data-view-component="true" class="details-reset details-overlay BtnGroup-parent js-user-list-menu d-inline-block position-relative">
        <summary aria-label="Add this repository to a list" data-view-component="true" class="btn-sm btn BtnGroup-item px-2 float-none">    <svg aria-hidden="true" height="16" viewBox="0 0 16 16" version="1.1" width="16" data-view-component="true" class="octicon octicon-triangle-down">
    <path d="m4.427 7.427 3.396 3.396a.25.25 0 0 0 .354 0l3.396-3.396A.25.25 0 0 0 11.396 7H4.604a.25.25 0 0 0-.177.427Z"></path>
</svg>
</summary>
  <details-menu
    class="SelectMenu right-0"
      src="/EveThan/IBM-Applied-Data-Science-Capstone-Project/lists"
      
      role="menu"
      
>
    <div class="SelectMenu-modal">
        <button class="SelectMenu-closeButton position-absolute right-0 m-2" type="button" aria-label="Close menu" data-toggle-for="details-9d762e">
          <svg aria-hidden="true" height="16" viewBox="0 0 16 16" version="1.1" width="16" data-view-component="true" class="octicon octicon-x">
    <path d="M3.72 3.72a.75.75 0 0 1 1.06 0L8 6.94l3.22-3.22a.749.749 0 0 1 1.275.326.749.749 0 0 1-.215.734L9.06 8l3.22 3.22a.749.749 0 0 1-.326 1.275.749.749 0 0 1-.734-.215L8 9.06l-3.22 3.22a.751.751 0 0 1-1.042-.018.751.751 0 0 1-.018-1.042L6.94 8 3.72 4.78a.75.75 0 0 1 0-1.06Z"></path>
</svg>
        </button>
      <div
        id="filter-menu-9d762e"
        class="d-flex flex-column flex-1 overflow-hidden"
>
        <div
          class="SelectMenu-list"
          >

            <include-fragment class="SelectMenu-loading" aria-label="Loading">
              <svg role="menuitem" style="box-sizing: content-box; color: var(--color-icon-primary);" width="32" height="32" viewBox="0 0 16 16" fill="none" data-view-component="true" class="anim-rotate">
  <circle cx="8" cy="8" r="7" stroke="currentColor" stroke-opacity="0.25" stroke-width="2" vector-effect="non-scaling-stroke" />
  <path d="M15 8a7.002 7.002 0 00-7-7" stroke="currentColor" stroke-width="2" stroke-linecap="round" vector-effect="non-scaling-stroke" />
</svg>
            </include-fragment>
        </div>
        
      </div>
    </div>
  </details-menu>
</details>
</div>
    <div data-view-component="true" class="unstarred BtnGroup flex-1">
      <!-- '"` --><!-- </textarea></xmp> --></option></form><form class="js-social-form BtnGroup-parent flex-auto" data-turbo="false" action="/EveThan/IBM-Applied-Data-Science-Capstone-Project/star" accept-charset="UTF-8" method="post"><input type="hidden" name="authenticity_token" value="hHb5doRuhGbCol3P681GaDD9vff7qi9s5nzFU96q0j87vPBcd9dwdu5FBbHzeMrYcx-85VCwxLOKdfmqNWLcGQ" autocomplete="off" />
        <input type="hidden" name="context" value="repository">
          <button data-hydro-click="{&quot;event_type&quot;:&quot;repository.click&quot;,&quot;payload&quot;:{&quot;target&quot;:&quot;STAR_BUTTON&quot;,&quot;repository_id&quot;:456360803,&quot;originating_url&quot;:&quot;https://github.com/EveThan/IBM-Applied-Data-Science-Capstone-Project/blob/main/2_Data%20Collection%20with%20Web%20Scraping.ipynb&quot;,&quot;user_id&quot;:122600696}}" data-hydro-click-hmac="ad8e93ed3013b5b42dc115aed1fb174438c3d5d306efbc0213f94ddcfed3c252" data-ga-click="Repository, click star button, action:blob#show; text:Star" aria-label="Star this repository (0)" type="submit" data-view-component="true" class="js-toggler-target rounded-left-2 btn-sm btn BtnGroup-item">    <svg aria-hidden="true" height="16" viewBox="0 0 16 16" version="1.1" width="16" data-view-component="true" class="octicon octicon-star d-inline-block mr-2">
    <path d="M8 .25a.75.75 0 0 1 .673.418l1.882 3.815 4.21.612a.75.75 0 0 1 .416 1.279l-3.046 2.97.719 4.192a.751.751 0 0 1-1.088.791L8 12.347l-3.766 1.98a.75.75 0 0 1-1.088-.79l.72-4.194L.818 6.374a.75.75 0 0 1 .416-1.28l4.21-.611L7.327.668A.75.75 0 0 1 8 .25Zm0 2.445L6.615 5.5a.75.75 0 0 1-.564.41l-3.097.45 2.24 2.184a.75.75 0 0 1 .216.664l-.528 3.084 2.769-1.456a.75.75 0 0 1 .698 0l2.77 1.456-.53-3.084a.75.75 0 0 1 .216-.664l2.24-2.183-3.096-.45a.75.75 0 0 1-.564-.41L8 2.694Z"></path>
</svg><span data-view-component="true" class="d-inline">
              Star
</span>              <span id="repo-stars-counter-star" aria-label="0 users starred this repository" data-singular-suffix="user starred this repository" data-plural-suffix="users starred this repository" data-turbo-replace="true" title="0" data-view-component="true" class="Counter js-social-count">0</span>
</button></form>        <details id="details-user-list-456360803-unstarred" data-view-component="true" class="details-reset details-overlay BtnGroup-parent js-user-list-menu d-inline-block position-relative">
        <summary aria-label="Add this repository to a list" data-view-component="true" class="btn-sm btn BtnGroup-item px-2 float-none">    <svg aria-hidden="true" height="16" viewBox="0 0 16 16" version="1.1" width="16" data-view-component="true" class="octicon octicon-triangle-down">
    <path d="m4.427 7.427 3.396 3.396a.25.25 0 0 0 .354 0l3.396-3.396A.25.25 0 0 0 11.396 7H4.604a.25.25 0 0 0-.177.427Z"></path>
</svg>
</summary>
  <details-menu
    class="SelectMenu right-0"
      src="/EveThan/IBM-Applied-Data-Science-Capstone-Project/lists"
      
      role="menu"
      
>
    <div class="SelectMenu-modal">
        <button class="SelectMenu-closeButton position-absolute right-0 m-2" type="button" aria-label="Close menu" data-toggle-for="details-a65cfc">
          <svg aria-hidden="true" height="16" viewBox="0 0 16 16" version="1.1" width="16" data-view-component="true" class="octicon octicon-x">
    <path d="M3.72 3.72a.75.75 0 0 1 1.06 0L8 6.94l3.22-3.22a.749.749 0 0 1 1.275.326.749.749 0 0 1-.215.734L9.06 8l3.22 3.22a.749.749 0 0 1-.326 1.275.749.749 0 0 1-.734-.215L8 9.06l-3.22 3.22a.751.751 0 0 1-1.042-.018.751.751 0 0 1-.018-1.042L6.94 8 3.72 4.78a.75.75 0 0 1 0-1.06Z"></path>
</svg>
        </button>
      <div
        id="filter-menu-a65cfc"
        class="d-flex flex-column flex-1 overflow-hidden"
>
        <div
          class="SelectMenu-list"
          >

            <include-fragment class="SelectMenu-loading" aria-label="Loading">
              <svg role="menuitem" style="box-sizing: content-box; color: var(--color-icon-primary);" width="32" height="32" viewBox="0 0 16 16" fill="none" data-view-component="true" class="anim-rotate">
  <circle cx="8" cy="8" r="7" stroke="currentColor" stroke-opacity="0.25" stroke-width="2" vector-effect="non-scaling-stroke" />
  <path d="M15 8a7.002 7.002 0 00-7-7" stroke="currentColor" stroke-width="2" stroke-linecap="round" vector-effect="non-scaling-stroke" />
</svg>
            </include-fragment>
        </div>
        
      </div>
    </div>
  </details-menu>
</details>
</div></div>
  </li>


    

</ul>

        </div>
      </div>

        <div id="responsive-meta-container" data-turbo-replace>
</div>


          <nav data-pjax="#js-repo-pjax-container" aria-label="Repository" data-view-component="true" class="js-repo-nav js-sidenav-container-pjax js-responsive-underlinenav overflow-hidden UnderlineNav px-3 px-md-4 px-lg-5">

  <ul data-view-component="true" class="UnderlineNav-body list-style-none">
      <li data-view-component="true" class="d-inline-flex">
  <a id="code-tab" href="/EveThan/IBM-Applied-Data-Science-Capstone-Project" data-tab-item="i0code-tab" data-selected-links="repo_source repo_downloads repo_commits repo_releases repo_tags repo_branches repo_packages repo_deployments /EveThan/IBM-Applied-Data-Science-Capstone-Project" data-pjax="#repo-content-pjax-container" data-turbo-frame="repo-content-turbo-frame" data-hotkey="g c" data-analytics-event="{&quot;category&quot;:&quot;Underline navbar&quot;,&quot;action&quot;:&quot;Click tab&quot;,&quot;label&quot;:&quot;Code&quot;,&quot;target&quot;:&quot;UNDERLINE_NAV.TAB&quot;}" aria-current="page" data-view-component="true" class="UnderlineNav-item no-wrap js-responsive-underlinenav-item js-selected-navigation-item selected">
    
              <svg aria-hidden="true" height="16" viewBox="0 0 16 16" version="1.1" width="16" data-view-component="true" class="octicon octicon-code UnderlineNav-octicon d-none d-sm-inline">
    <path d="m11.28 3.22 4.25 4.25a.75.75 0 0 1 0 1.06l-4.25 4.25a.749.749 0 0 1-1.275-.326.749.749 0 0 1 .215-.734L13.94 8l-3.72-3.72a.749.749 0 0 1 .326-1.275.749.749 0 0 1 .734.215Zm-6.56 0a.751.751 0 0 1 1.042.018.751.751 0 0 1 .018 1.042L2.06 8l3.72 3.72a.749.749 0 0 1-.326 1.275.749.749 0 0 1-.734-.215L.47 8.53a.75.75 0 0 1 0-1.06Z"></path>
</svg>
        <span data-content="Code">Code</span>
          <span id="code-repo-tab-count" data-pjax-replace="" data-turbo-replace="" title="Not available" data-view-component="true" class="Counter"></span>


    
</a></li>
      <li data-view-component="true" class="d-inline-flex">
  <a id="issues-tab" href="/EveThan/IBM-Applied-Data-Science-Capstone-Project/issues" data-tab-item="i1issues-tab" data-selected-links="repo_issues repo_labels repo_milestones /EveThan/IBM-Applied-Data-Science-Capstone-Project/issues" data-pjax="#repo-content-pjax-container" data-turbo-frame="repo-content-turbo-frame" data-hotkey="g i" data-analytics-event="{&quot;category&quot;:&quot;Underline navbar&quot;,&quot;action&quot;:&quot;Click tab&quot;,&quot;label&quot;:&quot;Issues&quot;,&quot;target&quot;:&quot;UNDERLINE_NAV.TAB&quot;}" data-view-component="true" class="UnderlineNav-item no-wrap js-responsive-underlinenav-item js-selected-navigation-item">
    
              <svg aria-hidden="true" height="16" viewBox="0 0 16 16" version="1.1" width="16" data-view-component="true" class="octicon octicon-issue-opened UnderlineNav-octicon d-none d-sm-inline">
    <path d="M8 9.5a1.5 1.5 0 1 0 0-3 1.5 1.5 0 0 0 0 3Z"></path><path d="M8 0a8 8 0 1 1 0 16A8 8 0 0 1 8 0ZM1.5 8a6.5 6.5 0 1 0 13 0 6.5 6.5 0 0 0-13 0Z"></path>
</svg>
        <span data-content="Issues">Issues</span>
          <span id="issues-repo-tab-count" data-pjax-replace="" data-turbo-replace="" title="0" hidden="hidden" data-view-component="true" class="Counter">0</span>


    
</a></li>
      <li data-view-component="true" class="d-inline-flex">
  <a id="pull-requests-tab" href="/EveThan/IBM-Applied-Data-Science-Capstone-Project/pulls" data-tab-item="i2pull-requests-tab" data-selected-links="repo_pulls checks /EveThan/IBM-Applied-Data-Science-Capstone-Project/pulls" data-pjax="#repo-content-pjax-container" data-turbo-frame="repo-content-turbo-frame" data-hotkey="g p" data-analytics-event="{&quot;category&quot;:&quot;Underline navbar&quot;,&quot;action&quot;:&quot;Click tab&quot;,&quot;label&quot;:&quot;Pull requests&quot;,&quot;target&quot;:&quot;UNDERLINE_NAV.TAB&quot;}" data-view-component="true" class="UnderlineNav-item no-wrap js-responsive-underlinenav-item js-selected-navigation-item">
    
              <svg aria-hidden="true" height="16" viewBox="0 0 16 16" version="1.1" width="16" data-view-component="true" class="octicon octicon-git-pull-request UnderlineNav-octicon d-none d-sm-inline">
    <path d="M1.5 3.25a2.25 2.25 0 1 1 3 2.122v5.256a2.251 2.251 0 1 1-1.5 0V5.372A2.25 2.25 0 0 1 1.5 3.25Zm5.677-.177L9.573.677A.25.25 0 0 1 10 .854V2.5h1A2.5 2.5 0 0 1 13.5 5v5.628a2.251 2.251 0 1 1-1.5 0V5a1 1 0 0 0-1-1h-1v1.646a.25.25 0 0 1-.427.177L7.177 3.427a.25.25 0 0 1 0-.354ZM3.75 2.5a.75.75 0 1 0 0 1.5.75.75 0 0 0 0-1.5Zm0 9.5a.75.75 0 1 0 0 1.5.75.75 0 0 0 0-1.5Zm8.25.75a.75.75 0 1 0 1.5 0 .75.75 0 0 0-1.5 0Z"></path>
</svg>
        <span data-content="Pull requests">Pull requests</span>
          <span id="pull-requests-repo-tab-count" data-pjax-replace="" data-turbo-replace="" title="0" hidden="hidden" data-view-component="true" class="Counter">0</span>


    
</a></li>
      <li data-view-component="true" class="d-inline-flex">
  <a id="actions-tab" href="/EveThan/IBM-Applied-Data-Science-Capstone-Project/actions" data-tab-item="i3actions-tab" data-selected-links="repo_actions /EveThan/IBM-Applied-Data-Science-Capstone-Project/actions" data-pjax="#repo-content-pjax-container" data-turbo-frame="repo-content-turbo-frame" data-hotkey="g a" data-analytics-event="{&quot;category&quot;:&quot;Underline navbar&quot;,&quot;action&quot;:&quot;Click tab&quot;,&quot;label&quot;:&quot;Actions&quot;,&quot;target&quot;:&quot;UNDERLINE_NAV.TAB&quot;}" data-view-component="true" class="UnderlineNav-item no-wrap js-responsive-underlinenav-item js-selected-navigation-item">
    
              <svg aria-hidden="true" height="16" viewBox="0 0 16 16" version="1.1" width="16" data-view-component="true" class="octicon octicon-play UnderlineNav-octicon d-none d-sm-inline">
    <path d="M8 0a8 8 0 1 1 0 16A8 8 0 0 1 8 0ZM1.5 8a6.5 6.5 0 1 0 13 0 6.5 6.5 0 0 0-13 0Zm4.879-2.773 4.264 2.559a.25.25 0 0 1 0 .428l-4.264 2.559A.25.25 0 0 1 6 10.559V5.442a.25.25 0 0 1 .379-.215Z"></path>
</svg>
        <span data-content="Actions">Actions</span>
          <span id="actions-repo-tab-count" data-pjax-replace="" data-turbo-replace="" title="Not available" data-view-component="true" class="Counter"></span>


    
</a></li>
      <li data-view-component="true" class="d-inline-flex">
  <a id="projects-tab" href="/EveThan/IBM-Applied-Data-Science-Capstone-Project/projects" data-tab-item="i4projects-tab" data-selected-links="repo_projects new_repo_project repo_project /EveThan/IBM-Applied-Data-Science-Capstone-Project/projects" data-pjax="#repo-content-pjax-container" data-turbo-frame="repo-content-turbo-frame" data-hotkey="g b" data-analytics-event="{&quot;category&quot;:&quot;Underline navbar&quot;,&quot;action&quot;:&quot;Click tab&quot;,&quot;label&quot;:&quot;Projects&quot;,&quot;target&quot;:&quot;UNDERLINE_NAV.TAB&quot;}" data-view-component="true" class="UnderlineNav-item no-wrap js-responsive-underlinenav-item js-selected-navigation-item">
    
              <svg aria-hidden="true" height="16" viewBox="0 0 16 16" version="1.1" width="16" data-view-component="true" class="octicon octicon-table UnderlineNav-octicon d-none d-sm-inline">
    <path d="M0 1.75C0 .784.784 0 1.75 0h12.5C15.216 0 16 .784 16 1.75v12.5A1.75 1.75 0 0 1 14.25 16H1.75A1.75 1.75 0 0 1 0 14.25ZM6.5 6.5v8h7.75a.25.25 0 0 0 .25-.25V6.5Zm8-1.5V1.75a.25.25 0 0 0-.25-.25H6.5V5Zm-13 1.5v7.75c0 .138.112.25.25.25H5v-8ZM5 5V1.5H1.75a.25.25 0 0 0-.25.25V5Z"></path>
</svg>
        <span data-content="Projects">Projects</span>
          <span id="projects-repo-tab-count" data-pjax-replace="" data-turbo-replace="" title="0" hidden="hidden" data-view-component="true" class="Counter">0</span>


    
</a></li>
      <li data-view-component="true" class="d-inline-flex">
  <a id="security-tab" href="/EveThan/IBM-Applied-Data-Science-Capstone-Project/security" data-tab-item="i5security-tab" data-selected-links="security overview alerts policy token_scanning code_scanning /EveThan/IBM-Applied-Data-Science-Capstone-Project/security" data-pjax="#repo-content-pjax-container" data-turbo-frame="repo-content-turbo-frame" data-hotkey="g s" data-analytics-event="{&quot;category&quot;:&quot;Underline navbar&quot;,&quot;action&quot;:&quot;Click tab&quot;,&quot;label&quot;:&quot;Security&quot;,&quot;target&quot;:&quot;UNDERLINE_NAV.TAB&quot;}" data-view-component="true" class="UnderlineNav-item no-wrap js-responsive-underlinenav-item js-selected-navigation-item">
    
              <svg aria-hidden="true" height="16" viewBox="0 0 16 16" version="1.1" width="16" data-view-component="true" class="octicon octicon-shield UnderlineNav-octicon d-none d-sm-inline">
    <path d="M7.467.133a1.748 1.748 0 0 1 1.066 0l5.25 1.68A1.75 1.75 0 0 1 15 3.48V7c0 1.566-.32 3.182-1.303 4.682-.983 1.498-2.585 2.813-5.032 3.855a1.697 1.697 0 0 1-1.33 0c-2.447-1.042-4.049-2.357-5.032-3.855C1.32 10.182 1 8.566 1 7V3.48a1.75 1.75 0 0 1 1.217-1.667Zm.61 1.429a.25.25 0 0 0-.153 0l-5.25 1.68a.25.25 0 0 0-.174.238V7c0 1.358.275 2.666 1.057 3.86.784 1.194 2.121 2.34 4.366 3.297a.196.196 0 0 0 .154 0c2.245-.956 3.582-2.104 4.366-3.298C13.225 9.666 13.5 8.36 13.5 7V3.48a.251.251 0 0 0-.174-.237l-5.25-1.68ZM8.75 4.75v3a.75.75 0 0 1-1.5 0v-3a.75.75 0 0 1 1.5 0ZM9 10.5a1 1 0 1 1-2 0 1 1 0 0 1 2 0Z"></path>
</svg>
        <span data-content="Security">Security</span>
          <include-fragment src="/EveThan/IBM-Applied-Data-Science-Capstone-Project/security/overall-count" accept="text/fragment+html"></include-fragment>

    
</a></li>
      <li data-view-component="true" class="d-inline-flex">
  <a id="insights-tab" href="/EveThan/IBM-Applied-Data-Science-Capstone-Project/pulse" data-tab-item="i6insights-tab" data-selected-links="repo_graphs repo_contributors dependency_graph dependabot_updates pulse people community /EveThan/IBM-Applied-Data-Science-Capstone-Project/pulse" data-pjax="#repo-content-pjax-container" data-turbo-frame="repo-content-turbo-frame" data-analytics-event="{&quot;category&quot;:&quot;Underline navbar&quot;,&quot;action&quot;:&quot;Click tab&quot;,&quot;label&quot;:&quot;Insights&quot;,&quot;target&quot;:&quot;UNDERLINE_NAV.TAB&quot;}" data-view-component="true" class="UnderlineNav-item no-wrap js-responsive-underlinenav-item js-selected-navigation-item">
    
              <svg aria-hidden="true" height="16" viewBox="0 0 16 16" version="1.1" width="16" data-view-component="true" class="octicon octicon-graph UnderlineNav-octicon d-none d-sm-inline">
    <path d="M1.5 1.75V13.5h13.75a.75.75 0 0 1 0 1.5H.75a.75.75 0 0 1-.75-.75V1.75a.75.75 0 0 1 1.5 0Zm14.28 2.53-5.25 5.25a.75.75 0 0 1-1.06 0L7 7.06 4.28 9.78a.751.751 0 0 1-1.042-.018.751.751 0 0 1-.018-1.042l3.25-3.25a.75.75 0 0 1 1.06 0L10 7.94l4.72-4.72a.751.751 0 0 1 1.042.018.751.751 0 0 1 .018 1.042Z"></path>
</svg>
        <span data-content="Insights">Insights</span>
          <span id="insights-repo-tab-count" data-pjax-replace="" data-turbo-replace="" title="Not available" data-view-component="true" class="Counter"></span>


    
</a></li>
</ul>
    <div style="visibility:hidden;" data-view-component="true" class="UnderlineNav-actions js-responsive-underlinenav-overflow position-absolute pr-3 pr-md-4 pr-lg-5 right-0">      <details data-view-component="true" class="details-overlay details-reset position-relative">
  <summary role="button" data-view-component="true">          <div class="UnderlineNav-item mr-0 border-0">
            <svg aria-hidden="true" height="16" viewBox="0 0 16 16" version="1.1" width="16" data-view-component="true" class="octicon octicon-kebab-horizontal">
    <path d="M8 9a1.5 1.5 0 1 0 0-3 1.5 1.5 0 0 0 0 3ZM1.5 9a1.5 1.5 0 1 0 0-3 1.5 1.5 0 0 0 0 3Zm13 0a1.5 1.5 0 1 0 0-3 1.5 1.5 0 0 0 0 3Z"></path>
</svg>
            <span class="sr-only">More</span>
          </div>
</summary>
  <details-menu role="menu" data-view-component="true" class="dropdown-menu dropdown-menu-sw">          <ul>
              <li data-menu-item="i0code-tab" hidden>
                <a role="menuitem" class="js-selected-navigation-item selected dropdown-item" aria-current="page" data-selected-links="repo_source repo_downloads repo_commits repo_releases repo_tags repo_branches repo_packages repo_deployments /EveThan/IBM-Applied-Data-Science-Capstone-Project" href="/EveThan/IBM-Applied-Data-Science-Capstone-Project">
                  Code
</a>              </li>
              <li data-menu-item="i1issues-tab" hidden>
                <a role="menuitem" class="js-selected-navigation-item dropdown-item" data-selected-links="repo_issues repo_labels repo_milestones /EveThan/IBM-Applied-Data-Science-Capstone-Project/issues" href="/EveThan/IBM-Applied-Data-Science-Capstone-Project/issues">
                  Issues
</a>              </li>
              <li data-menu-item="i2pull-requests-tab" hidden>
                <a role="menuitem" class="js-selected-navigation-item dropdown-item" data-selected-links="repo_pulls checks /EveThan/IBM-Applied-Data-Science-Capstone-Project/pulls" href="/EveThan/IBM-Applied-Data-Science-Capstone-Project/pulls">
                  Pull requests
</a>              </li>
              <li data-menu-item="i3actions-tab" hidden>
                <a role="menuitem" class="js-selected-navigation-item dropdown-item" data-selected-links="repo_actions /EveThan/IBM-Applied-Data-Science-Capstone-Project/actions" href="/EveThan/IBM-Applied-Data-Science-Capstone-Project/actions">
                  Actions
</a>              </li>
              <li data-menu-item="i4projects-tab" hidden>
                <a role="menuitem" class="js-selected-navigation-item dropdown-item" data-selected-links="repo_projects new_repo_project repo_project /EveThan/IBM-Applied-Data-Science-Capstone-Project/projects" href="/EveThan/IBM-Applied-Data-Science-Capstone-Project/projects">
                  Projects
</a>              </li>
              <li data-menu-item="i5security-tab" hidden>
                <a role="menuitem" class="js-selected-navigation-item dropdown-item" data-selected-links="security overview alerts policy token_scanning code_scanning /EveThan/IBM-Applied-Data-Science-Capstone-Project/security" href="/EveThan/IBM-Applied-Data-Science-Capstone-Project/security">
                  Security
</a>              </li>
              <li data-menu-item="i6insights-tab" hidden>
                <a role="menuitem" class="js-selected-navigation-item dropdown-item" data-selected-links="repo_graphs repo_contributors dependency_graph dependabot_updates pulse people community /EveThan/IBM-Applied-Data-Science-Capstone-Project/pulse" href="/EveThan/IBM-Applied-Data-Science-Capstone-Project/pulse">
                  Insights
</a>              </li>
          </ul>
</details-menu>
</details></div>
</nav>

  </div>

  



<turbo-frame id="repo-content-turbo-frame" target="_top" data-turbo-action="advance" class="">
    <div id="repo-content-pjax-container" class="repository-content " >
      <a href="https://github.dev/" class="d-none js-github-dev-shortcut" data-hotkey=".">Open in github.dev</a>
  <a href="https://github.dev/" class="d-none js-github-dev-new-tab-shortcut" data-hotkey="Shift+.,Shift+&gt;,&gt;" target="_blank">Open in a new github.dev tab</a>
    <a class="d-none" data-hotkey="," target="_blank" href="/codespaces/new/EveThan/IBM-Applied-Data-Science-Capstone-Project/tree/main?resume=1">Open in codespace</a>



    
      
    





<react-app
  app-name="react-code-view"
  initial-path="/EveThan/IBM-Applied-Data-Science-Capstone-Project/blob/main/2_Data%20Collection%20with%20Web%20Scraping.ipynb"
  style="min-height: calc(100vh - 62px)"
  data-ssr="false"
  data-lazy="false"
  data-alternate="false"
>
  
  <script type="application/json" data-target="react-app.embeddedData">{"payload":{"allShortcutsEnabled":true,"fileTree":{"":{"items":[{"name":"1_Data Collection API.ipynb","path":"1_Data Collection API.ipynb","contentType":"file"},{"name":"2_Data Collection with Web Scraping.ipynb","path":"2_Data Collection with Web Scraping.ipynb","contentType":"file"},{"name":"3_EDA.ipynb","path":"3_EDA.ipynb","contentType":"file"},{"name":"4_EDA with SQL.ipynb","path":"4_EDA with SQL.ipynb","contentType":"file"},{"name":"5_EDA Visualization.ipynb","path":"5_EDA Visualization.ipynb","contentType":"file"},{"name":"6_Interactive Visual Analytics with Folium lab.ipynb","path":"6_Interactive Visual Analytics with Folium lab.ipynb","contentType":"file"},{"name":"7_spacex_dash_app.py","path":"7_spacex_dash_app.py","contentType":"file"},{"name":"8_Machine Learning Prediction.ipynb","path":"8_Machine Learning Prediction.ipynb","contentType":"file"},{"name":"Capstone_Presentation.pdf","path":"Capstone_Presentation.pdf","contentType":"file"},{"name":"Capstone_Presentation.pptx","path":"Capstone_Presentation.pptx","contentType":"file"},{"name":"README.md","path":"README.md","contentType":"file"}],"totalCount":11}},"fileTreeProcessingTime":2.220587,"foldersToFetch":[],"reducedMotionEnabled":"system","repo":{"id":456360803,"defaultBranch":"main","name":"IBM-Applied-Data-Science-Capstone-Project","ownerLogin":"EveThan","currentUserCanPush":false,"isFork":false,"isEmpty":false,"createdAt":"2022-02-07T06:45:51.000+02:00","ownerAvatar":"https://avatars.githubusercontent.com/u/46462603?v=4","public":true,"private":false},"refInfo":{"name":"main","listCacheKey":"v0:1644209385.5485141","canEdit":true,"refType":"branch","currentOid":"e72f4ba0bdc1b0a41fd3c52772229b3f458825b6"},"path":"2_Data Collection with Web Scraping.ipynb","currentUser":{"id":122600696,"login":"Emad-eldeen-Elsayed","userEmail":"emadeldeenelsayed@hotmail.com"},"blob":{"rawBlob":"{\"cells\": [{\"metadata\": {}, \"cell_type\": \"markdown\", \"source\": \"\u003ccenter\u003e\\n    \u003cimg src=\\\"https://gitlab.com/ibm/skills-network/courses/placeholder101/-/raw/master/labs/module%201/images/IDSNlogo.png\\\" width=\\\"300\\\" alt=\\\"cognitiveclass.ai logo\\\"  /\u003e\\n\u003c/center\u003e\\n\"}, {\"metadata\": {}, \"cell_type\": \"markdown\", \"source\": \"# **Space X  Falcon 9 First Stage Landing Prediction**\\n\"}, {\"metadata\": {}, \"cell_type\": \"markdown\", \"source\": \"## Web scraping Falcon 9 and Falcon Heavy Launches Records from Wikipedia\\n\"}, {\"metadata\": {}, \"cell_type\": \"markdown\", \"source\": \"Estimated time needed: **40** minutes\\n\"}, {\"metadata\": {}, \"cell_type\": \"markdown\", \"source\": \"In this lab, you will be performing web scraping to collect Falcon 9 historical launch records from a Wikipedia page titled `List of Falcon 9 and Falcon Heavy launches`\\n\\n[https://en.wikipedia.org/wiki/List_of_Falcon\\\\_9\\\\_and_Falcon_Heavy_launches](https://en.wikipedia.org/wiki/List_of_Falcon\\\\_9\\\\_and_Falcon_Heavy_launches?utm_medium=Exinfluencer\u0026utm_source=Exinfluencer\u0026utm_content=000026UJ\u0026utm_term=10006555\u0026utm_id=NA-SkillsNetwork-Channel-SkillsNetworkCoursesIBMDS0321ENSkillsNetwork26802033-2021-01-01)\\n\"}, {\"metadata\": {}, \"cell_type\": \"markdown\", \"source\": \"![](https://cf-courses-data.s3.us.cloud-object-storage.appdomain.cloud/IBM-DS0321EN-SkillsNetwork/labs/module\\\\_1\\\\_L2/images/Falcon9\\\\_rocket_family.svg)\\n\"}, {\"metadata\": {}, \"cell_type\": \"markdown\", \"source\": \"Falcon 9 first stage will land successfully\\n\"}, {\"metadata\": {}, \"cell_type\": \"markdown\", \"source\": \"![](https://cf-courses-data.s3.us.cloud-object-storage.appdomain.cloud/IBMDeveloperSkillsNetwork-DS0701EN-SkillsNetwork/api/Images/landing\\\\_1.gif)\\n\"}, {\"metadata\": {}, \"cell_type\": \"markdown\", \"source\": \"Several examples of an unsuccessful landing are shown here:\\n\"}, {\"metadata\": {}, \"cell_type\": \"markdown\", \"source\": \"![](https://cf-courses-data.s3.us.cloud-object-storage.appdomain.cloud/IBMDeveloperSkillsNetwork-DS0701EN-SkillsNetwork/api/Images/crash.gif)\\n\"}, {\"metadata\": {}, \"cell_type\": \"markdown\", \"source\": \"More specifically, the launch records are stored in a HTML table shown below:\\n\"}, {\"metadata\": {}, \"cell_type\": \"markdown\", \"source\": \"![](https://cf-courses-data.s3.us.cloud-object-storage.appdomain.cloud/IBM-DS0321EN-SkillsNetwork/labs/module\\\\_1\\\\_L2/images/falcon9-launches-wiki.png)\\n\"}, {\"metadata\": {}, \"cell_type\": \"markdown\", \"source\": \"## Objectives\\n\\nWeb scrap Falcon 9 launch records with `BeautifulSoup`:\\n\\n*   Extract a Falcon 9 launch records HTML table from Wikipedia\\n*   Parse the table and convert it into a Pandas data frame\\n\"}, {\"metadata\": {}, \"cell_type\": \"markdown\", \"source\": \"First let's import required packages for this lab\\n\"}, {\"metadata\": {}, \"cell_type\": \"code\", \"source\": \"!pip3 install beautifulsoup4\\n!pip3 install requests\", \"execution_count\": 17, \"outputs\": [{\"output_type\": \"stream\", \"text\": \"Requirement already satisfied: beautifulsoup4 in /opt/conda/envs/Python-3.8-main/lib/python3.8/site-packages (4.9.3)\\nRequirement already satisfied: soupsieve\u003e1.2 in /opt/conda/envs/Python-3.8-main/lib/python3.8/site-packages (from beautifulsoup4) (2.2.1)\\nRequirement already satisfied: requests in /opt/conda/envs/Python-3.8-main/lib/python3.8/site-packages (2.25.1)\\nRequirement already satisfied: certifi\u003e=2017.4.17 in /opt/conda/envs/Python-3.8-main/lib/python3.8/site-packages (from requests) (2021.10.8)\\nRequirement already satisfied: idna\u003c3,\u003e=2.5 in /opt/conda/envs/Python-3.8-main/lib/python3.8/site-packages (from requests) (2.8)\\nRequirement already satisfied: chardet\u003c5,\u003e=3.0.2 in /opt/conda/envs/Python-3.8-main/lib/python3.8/site-packages (from requests) (3.0.4)\\nRequirement already satisfied: urllib3\u003c1.27,\u003e=1.21.1 in /opt/conda/envs/Python-3.8-main/lib/python3.8/site-packages (from requests) (1.26.6)\\n\", \"name\": \"stdout\"}]}, {\"metadata\": {}, \"cell_type\": \"code\", \"source\": \"import sys\\n\\nimport requests\\nfrom bs4 import BeautifulSoup\\nimport re\\nimport unicodedata\\nimport pandas as pd\", \"execution_count\": 18, \"outputs\": []}, {\"metadata\": {}, \"cell_type\": \"markdown\", \"source\": \"and we will provide some helper functions for you to process web scraped HTML table\\n\"}, {\"metadata\": {}, \"cell_type\": \"code\", \"source\": \"def date_time(table_cells):\\n    \\\"\\\"\\\"\\n    This function returns the data and time from the HTML  table cell\\n    Input: the  element of a table data cell extracts extra row\\n    \\\"\\\"\\\"\\n    return [data_time.strip() for data_time in list(table_cells.strings)][0:2]\\n\\ndef booster_version(table_cells):\\n    \\\"\\\"\\\"\\n    This function returns the booster version from the HTML  table cell \\n    Input: the  element of a table data cell extracts extra row\\n    \\\"\\\"\\\"\\n    out=''.join([booster_version for i,booster_version in enumerate( table_cells.strings) if i%2==0][0:-1])\\n    return out\\n\\ndef landing_status(table_cells):\\n    \\\"\\\"\\\"\\n    This function returns the landing status from the HTML table cell \\n    Input: the  element of a table data cell extracts extra row\\n    \\\"\\\"\\\"\\n    out=[i for i in table_cells.strings][0]\\n    return out\\n\\n\\ndef get_mass(table_cells):\\n    mass=unicodedata.normalize(\\\"NFKD\\\", table_cells.text).strip()\\n    if mass:\\n        mass.find(\\\"kg\\\")\\n        new_mass=mass[0:mass.find(\\\"kg\\\")+2]\\n    else:\\n        new_mass=0\\n    return new_mass\\n\\n\\ndef extract_column_from_header(row):\\n    \\\"\\\"\\\"\\n    This function returns the landing status from the HTML table cell \\n    Input: the  element of a table data cell extracts extra row\\n    \\\"\\\"\\\"\\n    if (row.br):\\n        row.br.extract()\\n    if row.a:\\n        row.a.extract()\\n    if row.sup:\\n        row.sup.extract()\\n        \\n    colunm_name = ' '.join(row.contents)\\n    \\n    # Filter the digit and empty names\\n    if not(colunm_name.strip().isdigit()):\\n        colunm_name = colunm_name.strip()\\n        return colunm_name    \\n\", \"execution_count\": 19, \"outputs\": []}, {\"metadata\": {}, \"cell_type\": \"markdown\", \"source\": \"To keep the lab tasks consistent, you will be asked to scrape the data from a snapshot of the  `List of Falcon 9 and Falcon Heavy launches` Wikipage updated on\\n`9th June 2021`\\n\"}, {\"metadata\": {}, \"cell_type\": \"code\", \"source\": \"static_url = \\\"https://en.wikipedia.org/w/index.php?title=List_of_Falcon_9_and_Falcon_Heavy_launches\u0026oldid=1027686922\\\"\", \"execution_count\": 20, \"outputs\": []}, {\"metadata\": {}, \"cell_type\": \"markdown\", \"source\": \"Next, request the HTML page from the above URL and get a `response` object\\n\"}, {\"metadata\": {}, \"cell_type\": \"markdown\", \"source\": \"### TASK 1: Request the Falcon9 Launch Wiki page from its URL\\n\"}, {\"metadata\": {}, \"cell_type\": \"markdown\", \"source\": \"First, let's perform an HTTP GET method to request the Falcon9 Launch HTML page, as an HTTP response.\\n\"}, {\"metadata\": {}, \"cell_type\": \"code\", \"source\": \"# use requests.get() method with the provided static_url\\n# assign the response to a object\\nresponse = requests.get(static_url)\", \"execution_count\": 21, \"outputs\": []}, {\"metadata\": {}, \"cell_type\": \"markdown\", \"source\": \"Create a `BeautifulSoup` object from the HTML `response`\\n\"}, {\"metadata\": {}, \"cell_type\": \"code\", \"source\": \"# Use BeautifulSoup() to create a BeautifulSoup object from a response text content\\nsoup = BeautifulSoup(response.text, \\\"html.parser\\\")\", \"execution_count\": 22, \"outputs\": []}, {\"metadata\": {}, \"cell_type\": \"markdown\", \"source\": \"Print the page title to verify if the `BeautifulSoup` object was created properly\\n\"}, {\"metadata\": {}, \"cell_type\": \"code\", \"source\": \"# Use soup.title attribute\\nsoup.title\", \"execution_count\": 23, \"outputs\": [{\"output_type\": \"execute_result\", \"execution_count\": 23, \"data\": {\"text/plain\": \"\u003ctitle\u003eList of Falcon 9 and Falcon Heavy launches - Wikipedia\u003c/title\u003e\"}, \"metadata\": {}}]}, {\"metadata\": {}, \"cell_type\": \"markdown\", \"source\": \"### TASK 2: Extract all column/variable names from the HTML table header\\n\"}, {\"metadata\": {}, \"cell_type\": \"markdown\", \"source\": \"Next, we want to collect all relevant column names from the HTML table header\\n\"}, {\"metadata\": {}, \"cell_type\": \"markdown\", \"source\": \"Let's try to find all tables on the wiki page first. If you need to refresh your memory about `BeautifulSoup`, please check the external reference link towards the end of this lab\\n\"}, {\"metadata\": {}, \"cell_type\": \"code\", \"source\": \"# Use the find_all function in the BeautifulSoup object, with element type `table`\\n# Assign the result to a list called `html_tables`\\nhtml_tables = soup.find_all('table')\", \"execution_count\": 24, \"outputs\": []}, {\"metadata\": {}, \"cell_type\": \"markdown\", \"source\": \"Starting from the third table is our target table contains the actual launch records.\\n\"}, {\"metadata\": {}, \"cell_type\": \"code\", \"source\": \"# Let's print the third table and check its content\\nfirst_launch_table = html_tables[2]\\nprint(first_launch_table)\", \"execution_count\": 25, \"outputs\": [{\"output_type\": \"stream\", \"text\": \"\u003ctable class=\\\"wikitable plainrowheaders collapsible\\\" style=\\\"width: 100%;\\\"\u003e\\n\u003ctbody\u003e\u003ctr\u003e\\n\u003cth scope=\\\"col\\\"\u003eFlight No.\\n\u003c/th\u003e\\n\u003cth scope=\\\"col\\\"\u003eDate and\u003cbr/\u003etime (\u003ca href=\\\"/wiki/Coordinated_Universal_Time\\\" title=\\\"Coordinated Universal Time\\\"\u003eUTC\u003c/a\u003e)\\n\u003c/th\u003e\\n\u003cth scope=\\\"col\\\"\u003e\u003ca href=\\\"/wiki/List_of_Falcon_9_first-stage_boosters\\\" title=\\\"List of Falcon 9 first-stage boosters\\\"\u003eVersion,\u003cbr/\u003eBooster\u003c/a\u003e \u003csup class=\\\"reference\\\" id=\\\"cite_ref-booster_11-0\\\"\u003e\u003ca href=\\\"#cite_note-booster-11\\\"\u003e[b]\u003c/a\u003e\u003c/sup\u003e\\n\u003c/th\u003e\\n\u003cth scope=\\\"col\\\"\u003eLaunch site\\n\u003c/th\u003e\\n\u003cth scope=\\\"col\\\"\u003ePayload\u003csup class=\\\"reference\\\" id=\\\"cite_ref-Dragon_12-0\\\"\u003e\u003ca href=\\\"#cite_note-Dragon-12\\\"\u003e[c]\u003c/a\u003e\u003c/sup\u003e\\n\u003c/th\u003e\\n\u003cth scope=\\\"col\\\"\u003ePayload mass\\n\u003c/th\u003e\\n\u003cth scope=\\\"col\\\"\u003eOrbit\\n\u003c/th\u003e\\n\u003cth scope=\\\"col\\\"\u003eCustomer\\n\u003c/th\u003e\\n\u003cth scope=\\\"col\\\"\u003eLaunch\u003cbr/\u003eoutcome\\n\u003c/th\u003e\\n\u003cth scope=\\\"col\\\"\u003e\u003ca href=\\\"/wiki/Falcon_9_first-stage_landing_tests\\\" title=\\\"Falcon 9 first-stage landing tests\\\"\u003eBooster\u003cbr/\u003elanding\u003c/a\u003e\\n\u003c/th\u003e\u003c/tr\u003e\\n\u003ctr\u003e\\n\u003cth rowspan=\\\"2\\\" scope=\\\"row\\\" style=\\\"text-align:center;\\\"\u003e1\\n\u003c/th\u003e\\n\u003ctd\u003e4 June 2010,\u003cbr/\u003e18:45\\n\u003c/td\u003e\\n\u003ctd\u003e\u003ca href=\\\"/wiki/Falcon_9_v1.0\\\" title=\\\"Falcon 9 v1.0\\\"\u003eF9 v1.0\u003c/a\u003e\u003csup class=\\\"reference\\\" id=\\\"cite_ref-MuskMay2012_13-0\\\"\u003e\u003ca href=\\\"#cite_note-MuskMay2012-13\\\"\u003e[7]\u003c/a\u003e\u003c/sup\u003e\u003cbr/\u003eB0003.1\u003csup class=\\\"reference\\\" id=\\\"cite_ref-block_numbers_14-0\\\"\u003e\u003ca href=\\\"#cite_note-block_numbers-14\\\"\u003e[8]\u003c/a\u003e\u003c/sup\u003e\\n\u003c/td\u003e\\n\u003ctd\u003e\u003ca href=\\\"/wiki/Cape_Canaveral_Space_Force_Station\\\" title=\\\"Cape Canaveral Space Force Station\\\"\u003eCCAFS\u003c/a\u003e,\u003cbr/\u003e\u003ca href=\\\"/wiki/Cape_Canaveral_Space_Launch_Complex_40\\\" title=\\\"Cape Canaveral Space Launch Complex 40\\\"\u003eSLC-40\u003c/a\u003e\\n\u003c/td\u003e\\n\u003ctd\u003e\u003ca href=\\\"/wiki/Dragon_Spacecraft_Qualification_Unit\\\" title=\\\"Dragon Spacecraft Qualification Unit\\\"\u003eDragon Spacecraft Qualification Unit\u003c/a\u003e\\n\u003c/td\u003e\\n\u003ctd\u003e\\n\u003c/td\u003e\\n\u003ctd\u003e\u003ca href=\\\"/wiki/Low_Earth_orbit\\\" title=\\\"Low Earth orbit\\\"\u003eLEO\u003c/a\u003e\\n\u003c/td\u003e\\n\u003ctd\u003e\u003ca href=\\\"/wiki/SpaceX\\\" title=\\\"SpaceX\\\"\u003eSpaceX\u003c/a\u003e\\n\u003c/td\u003e\\n\u003ctd class=\\\"table-success\\\" style=\\\"background: LightGreen; color: black; vertical-align: middle; text-align: center;\\\"\u003eSuccess\\n\u003c/td\u003e\\n\u003ctd class=\\\"table-failure\\\" style=\\\"background: #ffbbbb; color: black; vertical-align: middle; text-align: center;\\\"\u003eFailure\u003csup class=\\\"reference\\\" id=\\\"cite_ref-ns20110930_15-0\\\"\u003e\u003ca href=\\\"#cite_note-ns20110930-15\\\"\u003e[9]\u003c/a\u003e\u003c/sup\u003e\u003csup class=\\\"reference\\\" id=\\\"cite_ref-16\\\"\u003e\u003ca href=\\\"#cite_note-16\\\"\u003e[10]\u003c/a\u003e\u003c/sup\u003e\u003cbr/\u003e\u003csmall\u003e(parachute)\u003c/small\u003e\\n\u003c/td\u003e\u003c/tr\u003e\\n\u003ctr\u003e\\n\u003ctd colspan=\\\"9\\\"\u003eFirst flight of Falcon 9 v1.0.\u003csup class=\\\"reference\\\" id=\\\"cite_ref-sfn20100604_17-0\\\"\u003e\u003ca href=\\\"#cite_note-sfn20100604-17\\\"\u003e[11]\u003c/a\u003e\u003c/sup\u003e Used a boilerplate version of Dragon capsule which was not designed to separate from the second stage.\u003csmall\u003e(\u003ca href=\\\"#First_flight_of_Falcon_9\\\"\u003emore details below\u003c/a\u003e)\u003c/small\u003e Attempted to recover the first stage by parachuting it into the ocean, but it burned up on reentry, before the parachutes even deployed.\u003csup class=\\\"reference\\\" id=\\\"cite_ref-parachute_18-0\\\"\u003e\u003ca href=\\\"#cite_note-parachute-18\\\"\u003e[12]\u003c/a\u003e\u003c/sup\u003e\\n\u003c/td\u003e\u003c/tr\u003e\\n\u003ctr\u003e\\n\u003cth rowspan=\\\"2\\\" scope=\\\"row\\\" style=\\\"text-align:center;\\\"\u003e2\\n\u003c/th\u003e\\n\u003ctd\u003e8 December 2010,\u003cbr/\u003e15:43\u003csup class=\\\"reference\\\" id=\\\"cite_ref-spaceflightnow_Clark_Launch_Report_19-0\\\"\u003e\u003ca href=\\\"#cite_note-spaceflightnow_Clark_Launch_Report-19\\\"\u003e[13]\u003c/a\u003e\u003c/sup\u003e\\n\u003c/td\u003e\\n\u003ctd\u003e\u003ca href=\\\"/wiki/Falcon_9_v1.0\\\" title=\\\"Falcon 9 v1.0\\\"\u003eF9 v1.0\u003c/a\u003e\u003csup class=\\\"reference\\\" id=\\\"cite_ref-MuskMay2012_13-1\\\"\u003e\u003ca href=\\\"#cite_note-MuskMay2012-13\\\"\u003e[7]\u003c/a\u003e\u003c/sup\u003e\u003cbr/\u003eB0004.1\u003csup class=\\\"reference\\\" id=\\\"cite_ref-block_numbers_14-1\\\"\u003e\u003ca href=\\\"#cite_note-block_numbers-14\\\"\u003e[8]\u003c/a\u003e\u003c/sup\u003e\\n\u003c/td\u003e\\n\u003ctd\u003e\u003ca href=\\\"/wiki/Cape_Canaveral_Space_Force_Station\\\" title=\\\"Cape Canaveral Space Force Station\\\"\u003eCCAFS\u003c/a\u003e,\u003cbr/\u003e\u003ca href=\\\"/wiki/Cape_Canaveral_Space_Launch_Complex_40\\\" title=\\\"Cape Canaveral Space Launch Complex 40\\\"\u003eSLC-40\u003c/a\u003e\\n\u003c/td\u003e\\n\u003ctd\u003e\u003ca href=\\\"/wiki/SpaceX_Dragon\\\" title=\\\"SpaceX Dragon\\\"\u003eDragon\u003c/a\u003e \u003ca class=\\\"mw-redirect\\\" href=\\\"/wiki/COTS_Demo_Flight_1\\\" title=\\\"COTS Demo Flight 1\\\"\u003edemo flight C1\u003c/a\u003e\u003cbr/\u003e(Dragon C101)\\n\u003c/td\u003e\\n\u003ctd\u003e\\n\u003c/td\u003e\\n\u003ctd\u003e\u003ca href=\\\"/wiki/Low_Earth_orbit\\\" title=\\\"Low Earth orbit\\\"\u003eLEO\u003c/a\u003e (\u003ca href=\\\"/wiki/International_Space_Station\\\" title=\\\"International Space Station\\\"\u003eISS\u003c/a\u003e)\\n\u003c/td\u003e\\n\u003ctd\u003e\u003cdiv class=\\\"plainlist\\\"\u003e\\n\u003cul\u003e\u003cli\u003e\u003ca href=\\\"/wiki/NASA\\\" title=\\\"NASA\\\"\u003eNASA\u003c/a\u003e (\u003ca href=\\\"/wiki/Commercial_Orbital_Transportation_Services\\\" title=\\\"Commercial Orbital Transportation Services\\\"\u003eCOTS\u003c/a\u003e)\u003c/li\u003e\\n\u003cli\u003e\u003ca href=\\\"/wiki/National_Reconnaissance_Office\\\" title=\\\"National Reconnaissance Office\\\"\u003eNRO\u003c/a\u003e\u003c/li\u003e\u003c/ul\u003e\\n\u003c/div\u003e\\n\u003c/td\u003e\\n\u003ctd class=\\\"table-success\\\" style=\\\"background: LightGreen; color: black; vertical-align: middle; text-align: center;\\\"\u003eSuccess\u003csup class=\\\"reference\\\" id=\\\"cite_ref-ns20110930_15-1\\\"\u003e\u003ca href=\\\"#cite_note-ns20110930-15\\\"\u003e[9]\u003c/a\u003e\u003c/sup\u003e\\n\u003c/td\u003e\\n\u003ctd class=\\\"table-failure\\\" style=\\\"background: #ffbbbb; color: black; vertical-align: middle; text-align: center;\\\"\u003eFailure\u003csup class=\\\"reference\\\" id=\\\"cite_ref-ns20110930_15-2\\\"\u003e\u003ca href=\\\"#cite_note-ns20110930-15\\\"\u003e[9]\u003c/a\u003e\u003c/sup\u003e\u003csup class=\\\"reference\\\" id=\\\"cite_ref-20\\\"\u003e\u003ca href=\\\"#cite_note-20\\\"\u003e[14]\u003c/a\u003e\u003c/sup\u003e\u003cbr/\u003e\u003csmall\u003e(parachute)\u003c/small\u003e\\n\u003c/td\u003e\u003c/tr\u003e\\n\u003ctr\u003e\\n\u003ctd colspan=\\\"9\\\"\u003eMaiden flight of \u003ca class=\\\"mw-redirect\\\" href=\\\"/wiki/Dragon_capsule\\\" title=\\\"Dragon capsule\\\"\u003eDragon capsule\u003c/a\u003e, consisting of over 3 hours of testing thruster maneuvering and reentry.\u003csup class=\\\"reference\\\" id=\\\"cite_ref-spaceflightnow_Clark_unleashing_Dragon_21-0\\\"\u003e\u003ca href=\\\"#cite_note-spaceflightnow_Clark_unleashing_Dragon-21\\\"\u003e[15]\u003c/a\u003e\u003c/sup\u003e Attempted to recover the first stage by parachuting it into the ocean, but it disintegrated upon reentry, before the parachutes were deployed.\u003csup class=\\\"reference\\\" id=\\\"cite_ref-parachute_18-1\\\"\u003e\u003ca href=\\\"#cite_note-parachute-18\\\"\u003e[12]\u003c/a\u003e\u003c/sup\u003e \u003csmall\u003e(\u003ca href=\\\"#COTS_demo_missions\\\"\u003emore details below\u003c/a\u003e)\u003c/small\u003e It also included two \u003ca href=\\\"/wiki/CubeSat\\\" title=\\\"CubeSat\\\"\u003eCubeSats\u003c/a\u003e,\u003csup class=\\\"reference\\\" id=\\\"cite_ref-NRO_Taps_Boeing_for_Next_Batch_of_CubeSats_22-0\\\"\u003e\u003ca href=\\\"#cite_note-NRO_Taps_Boeing_for_Next_Batch_of_CubeSats-22\\\"\u003e[16]\u003c/a\u003e\u003c/sup\u003e and a wheel of \u003ca href=\\\"/wiki/Brou%C3%A8re\\\" title=\\\"Brou\\u00e8re\\\"\u003eBrou\\u00e8re\u003c/a\u003e cheese.\\n\u003c/td\u003e\u003c/tr\u003e\\n\u003ctr\u003e\\n\u003cth rowspan=\\\"2\\\" scope=\\\"row\\\" style=\\\"text-align:center;\\\"\u003e3\\n\u003c/th\u003e\\n\u003ctd\u003e22 May 2012,\u003cbr/\u003e07:44\u003csup class=\\\"reference\\\" id=\\\"cite_ref-BBC_new_era_23-0\\\"\u003e\u003ca href=\\\"#cite_note-BBC_new_era-23\\\"\u003e[17]\u003c/a\u003e\u003c/sup\u003e\\n\u003c/td\u003e\\n\u003ctd\u003e\u003ca href=\\\"/wiki/Falcon_9_v1.0\\\" title=\\\"Falcon 9 v1.0\\\"\u003eF9 v1.0\u003c/a\u003e\u003csup class=\\\"reference\\\" id=\\\"cite_ref-MuskMay2012_13-2\\\"\u003e\u003ca href=\\\"#cite_note-MuskMay2012-13\\\"\u003e[7]\u003c/a\u003e\u003c/sup\u003e\u003cbr/\u003eB0005.1\u003csup class=\\\"reference\\\" id=\\\"cite_ref-block_numbers_14-2\\\"\u003e\u003ca href=\\\"#cite_note-block_numbers-14\\\"\u003e[8]\u003c/a\u003e\u003c/sup\u003e\\n\u003c/td\u003e\\n\u003ctd\u003e\u003ca href=\\\"/wiki/Cape_Canaveral_Space_Force_Station\\\" title=\\\"Cape Canaveral Space Force Station\\\"\u003eCCAFS\u003c/a\u003e,\u003cbr/\u003e\u003ca href=\\\"/wiki/Cape_Canaveral_Space_Launch_Complex_40\\\" title=\\\"Cape Canaveral Space Launch Complex 40\\\"\u003eSLC-40\u003c/a\u003e\\n\u003c/td\u003e\\n\u003ctd\u003e\u003ca href=\\\"/wiki/SpaceX_Dragon\\\" title=\\\"SpaceX Dragon\\\"\u003eDragon\u003c/a\u003e \u003ca class=\\\"mw-redirect\\\" href=\\\"/wiki/Dragon_C2%2B\\\" title=\\\"Dragon C2+\\\"\u003edemo flight C2+\u003c/a\u003e\u003csup class=\\\"reference\\\" id=\\\"cite_ref-C2_24-0\\\"\u003e\u003ca href=\\\"#cite_note-C2-24\\\"\u003e[18]\u003c/a\u003e\u003c/sup\u003e\u003cbr/\u003e(Dragon C102)\\n\u003c/td\u003e\\n\u003ctd\u003e525\\u00a0kg (1,157\\u00a0lb)\u003csup class=\\\"reference\\\" id=\\\"cite_ref-25\\\"\u003e\u003ca href=\\\"#cite_note-25\\\"\u003e[19]\u003c/a\u003e\u003c/sup\u003e\\n\u003c/td\u003e\\n\u003ctd\u003e\u003ca href=\\\"/wiki/Low_Earth_orbit\\\" title=\\\"Low Earth orbit\\\"\u003eLEO\u003c/a\u003e (\u003ca href=\\\"/wiki/International_Space_Station\\\" title=\\\"International Space Station\\\"\u003eISS\u003c/a\u003e)\\n\u003c/td\u003e\\n\u003ctd\u003e\u003ca href=\\\"/wiki/NASA\\\" title=\\\"NASA\\\"\u003eNASA\u003c/a\u003e (\u003ca href=\\\"/wiki/Commercial_Orbital_Transportation_Services\\\" title=\\\"Commercial Orbital Transportation Services\\\"\u003eCOTS\u003c/a\u003e)\\n\u003c/td\u003e\\n\u003ctd class=\\\"table-success\\\" style=\\\"background: LightGreen; color: black; vertical-align: middle; text-align: center;\\\"\u003eSuccess\u003csup class=\\\"reference\\\" id=\\\"cite_ref-26\\\"\u003e\u003ca href=\\\"#cite_note-26\\\"\u003e[20]\u003c/a\u003e\u003c/sup\u003e\\n\u003c/td\u003e\\n\u003ctd class=\\\"table-noAttempt\\\" style=\\\"background: #ececec; color: black; vertical-align: middle; white-space: nowrap; text-align: center;\\\"\u003eNo attempt\\n\u003c/td\u003e\u003c/tr\u003e\\n\u003ctr\u003e\\n\u003ctd colspan=\\\"9\\\"\u003eDragon spacecraft demonstrated a series of tests before it was allowed to approach the \u003ca href=\\\"/wiki/International_Space_Station\\\" title=\\\"International Space Station\\\"\u003eInternational Space Station\u003c/a\u003e. Two days later, it became the first commercial spacecraft to board the ISS.\u003csup class=\\\"reference\\\" id=\\\"cite_ref-BBC_new_era_23-1\\\"\u003e\u003ca href=\\\"#cite_note-BBC_new_era-23\\\"\u003e[17]\u003c/a\u003e\u003c/sup\u003e \u003csmall\u003e(\u003ca href=\\\"#COTS_demo_missions\\\"\u003emore details below\u003c/a\u003e)\u003c/small\u003e\\n\u003c/td\u003e\u003c/tr\u003e\\n\u003ctr\u003e\\n\u003cth rowspan=\\\"3\\\" scope=\\\"row\\\" style=\\\"text-align:center;\\\"\u003e4\\n\u003c/th\u003e\\n\u003ctd rowspan=\\\"2\\\"\u003e8 October 2012,\u003cbr/\u003e00:35\u003csup class=\\\"reference\\\" id=\\\"cite_ref-SFN_LLog_27-0\\\"\u003e\u003ca href=\\\"#cite_note-SFN_LLog-27\\\"\u003e[21]\u003c/a\u003e\u003c/sup\u003e\\n\u003c/td\u003e\\n\u003ctd rowspan=\\\"2\\\"\u003e\u003ca href=\\\"/wiki/Falcon_9_v1.0\\\" title=\\\"Falcon 9 v1.0\\\"\u003eF9 v1.0\u003c/a\u003e\u003csup class=\\\"reference\\\" id=\\\"cite_ref-MuskMay2012_13-3\\\"\u003e\u003ca href=\\\"#cite_note-MuskMay2012-13\\\"\u003e[7]\u003c/a\u003e\u003c/sup\u003e\u003cbr/\u003eB0006.1\u003csup class=\\\"reference\\\" id=\\\"cite_ref-block_numbers_14-3\\\"\u003e\u003ca href=\\\"#cite_note-block_numbers-14\\\"\u003e[8]\u003c/a\u003e\u003c/sup\u003e\\n\u003c/td\u003e\\n\u003ctd rowspan=\\\"2\\\"\u003e\u003ca href=\\\"/wiki/Cape_Canaveral_Space_Force_Station\\\" title=\\\"Cape Canaveral Space Force Station\\\"\u003eCCAFS\u003c/a\u003e,\u003cbr/\u003e\u003ca href=\\\"/wiki/Cape_Canaveral_Space_Launch_Complex_40\\\" title=\\\"Cape Canaveral Space Launch Complex 40\\\"\u003eSLC-40\u003c/a\u003e\\n\u003c/td\u003e\\n\u003ctd\u003e\u003ca href=\\\"/wiki/SpaceX_CRS-1\\\" title=\\\"SpaceX CRS-1\\\"\u003eSpaceX CRS-1\u003c/a\u003e\u003csup class=\\\"reference\\\" id=\\\"cite_ref-sxManifest20120925_28-0\\\"\u003e\u003ca href=\\\"#cite_note-sxManifest20120925-28\\\"\u003e[22]\u003c/a\u003e\u003c/sup\u003e\u003cbr/\u003e(Dragon C103)\\n\u003c/td\u003e\\n\u003ctd\u003e4,700\\u00a0kg (10,400\\u00a0lb)\\n\u003c/td\u003e\\n\u003ctd\u003e\u003ca href=\\\"/wiki/Low_Earth_orbit\\\" title=\\\"Low Earth orbit\\\"\u003eLEO\u003c/a\u003e (\u003ca href=\\\"/wiki/International_Space_Station\\\" title=\\\"International Space Station\\\"\u003eISS\u003c/a\u003e)\\n\u003c/td\u003e\\n\u003ctd\u003e\u003ca href=\\\"/wiki/NASA\\\" title=\\\"NASA\\\"\u003eNASA\u003c/a\u003e (\u003ca href=\\\"/wiki/Commercial_Resupply_Services\\\" title=\\\"Commercial Resupply Services\\\"\u003eCRS\u003c/a\u003e)\\n\u003c/td\u003e\\n\u003ctd class=\\\"table-success\\\" style=\\\"background: LightGreen; color: black; vertical-align: middle; text-align: center;\\\"\u003eSuccess\\n\u003c/td\u003e\\n\u003ctd rowspan=\\\"2\\\" style=\\\"background:#ececec; text-align:center;\\\"\u003e\u003cspan class=\\\"nowrap\\\"\u003eNo attempt\u003c/span\u003e\\n\u003c/td\u003e\u003c/tr\u003e\\n\u003ctr\u003e\\n\u003ctd\u003e\u003ca href=\\\"/wiki/Orbcomm_(satellite)\\\" title=\\\"Orbcomm (satellite)\\\"\u003eOrbcomm-OG2\u003c/a\u003e\u003csup class=\\\"reference\\\" id=\\\"cite_ref-Orbcomm_29-0\\\"\u003e\u003ca href=\\\"#cite_note-Orbcomm-29\\\"\u003e[23]\u003c/a\u003e\u003c/sup\u003e\\n\u003c/td\u003e\\n\u003ctd\u003e172\\u00a0kg (379\\u00a0lb)\u003csup class=\\\"reference\\\" id=\\\"cite_ref-gunter-og2_30-0\\\"\u003e\u003ca href=\\\"#cite_note-gunter-og2-30\\\"\u003e[24]\u003c/a\u003e\u003c/sup\u003e\\n\u003c/td\u003e\\n\u003ctd\u003e\u003ca href=\\\"/wiki/Low_Earth_orbit\\\" title=\\\"Low Earth orbit\\\"\u003eLEO\u003c/a\u003e\\n\u003c/td\u003e\\n\u003ctd\u003e\u003ca href=\\\"/wiki/Orbcomm\\\" title=\\\"Orbcomm\\\"\u003eOrbcomm\u003c/a\u003e\\n\u003c/td\u003e\\n\u003ctd class=\\\"table-partial\\\" style=\\\"background: wheat; color: black; vertical-align: middle; text-align: center;\\\"\u003ePartial failure\u003csup class=\\\"reference\\\" id=\\\"cite_ref-nyt-20121030_31-0\\\"\u003e\u003ca href=\\\"#cite_note-nyt-20121030-31\\\"\u003e[25]\u003c/a\u003e\u003c/sup\u003e\\n\u003c/td\u003e\u003c/tr\u003e\\n\u003ctr\u003e\\n\u003ctd colspan=\\\"9\\\"\u003eCRS-1 was successful, but the \u003ca href=\\\"/wiki/Secondary_payload\\\" title=\\\"Secondary payload\\\"\u003esecondary payload\u003c/a\u003e was inserted into an abnormally low orbit and subsequently lost. This was due to one of the nine \u003ca href=\\\"/wiki/SpaceX_Merlin\\\" title=\\\"SpaceX Merlin\\\"\u003eMerlin engines\u003c/a\u003e shutting down during the launch, and NASA declining a second reignition, as per \u003ca href=\\\"/wiki/International_Space_Station\\\" title=\\\"International Space Station\\\"\u003eISS\u003c/a\u003e visiting vehicle safety rules, the primary payload owner is contractually allowed to decline a second reignition. NASA stated that this was because SpaceX could not guarantee a high enough likelihood of the second stage completing the second burn successfully which was required to avoid any risk of secondary payload's collision with the ISS.\u003csup class=\\\"reference\\\" id=\\\"cite_ref-OrbcommTotalLoss_32-0\\\"\u003e\u003ca href=\\\"#cite_note-OrbcommTotalLoss-32\\\"\u003e[26]\u003c/a\u003e\u003c/sup\u003e\u003csup class=\\\"reference\\\" id=\\\"cite_ref-sn20121011_33-0\\\"\u003e\u003ca href=\\\"#cite_note-sn20121011-33\\\"\u003e[27]\u003c/a\u003e\u003c/sup\u003e\u003csup class=\\\"reference\\\" id=\\\"cite_ref-34\\\"\u003e\u003ca href=\\\"#cite_note-34\\\"\u003e[28]\u003c/a\u003e\u003c/sup\u003e\\n\u003c/td\u003e\u003c/tr\u003e\\n\u003ctr\u003e\\n\u003cth rowspan=\\\"2\\\" scope=\\\"row\\\" style=\\\"text-align:center;\\\"\u003e5\\n\u003c/th\u003e\\n\u003ctd\u003e1 March 2013,\u003cbr/\u003e15:10\\n\u003c/td\u003e\\n\u003ctd\u003e\u003ca href=\\\"/wiki/Falcon_9_v1.0\\\" title=\\\"Falcon 9 v1.0\\\"\u003eF9 v1.0\u003c/a\u003e\u003csup class=\\\"reference\\\" id=\\\"cite_ref-MuskMay2012_13-4\\\"\u003e\u003ca href=\\\"#cite_note-MuskMay2012-13\\\"\u003e[7]\u003c/a\u003e\u003c/sup\u003e\u003cbr/\u003eB0007.1\u003csup class=\\\"reference\\\" id=\\\"cite_ref-block_numbers_14-4\\\"\u003e\u003ca href=\\\"#cite_note-block_numbers-14\\\"\u003e[8]\u003c/a\u003e\u003c/sup\u003e\\n\u003c/td\u003e\\n\u003ctd\u003e\u003ca href=\\\"/wiki/Cape_Canaveral_Space_Force_Station\\\" title=\\\"Cape Canaveral Space Force Station\\\"\u003eCCAFS\u003c/a\u003e,\u003cbr/\u003e\u003ca href=\\\"/wiki/Cape_Canaveral_Space_Launch_Complex_40\\\" title=\\\"Cape Canaveral Space Launch Complex 40\\\"\u003eSLC-40\u003c/a\u003e\\n\u003c/td\u003e\\n\u003ctd\u003e\u003ca href=\\\"/wiki/SpaceX_CRS-2\\\" title=\\\"SpaceX CRS-2\\\"\u003eSpaceX CRS-2\u003c/a\u003e\u003csup class=\\\"reference\\\" id=\\\"cite_ref-sxManifest20120925_28-1\\\"\u003e\u003ca href=\\\"#cite_note-sxManifest20120925-28\\\"\u003e[22]\u003c/a\u003e\u003c/sup\u003e\u003cbr/\u003e(Dragon C104)\\n\u003c/td\u003e\\n\u003ctd\u003e4,877\\u00a0kg (10,752\\u00a0lb)\\n\u003c/td\u003e\\n\u003ctd\u003e\u003ca href=\\\"/wiki/Low_Earth_orbit\\\" title=\\\"Low Earth orbit\\\"\u003eLEO\u003c/a\u003e (\u003ca class=\\\"mw-redirect\\\" href=\\\"/wiki/ISS\\\" title=\\\"ISS\\\"\u003eISS\u003c/a\u003e)\\n\u003c/td\u003e\\n\u003ctd\u003e\u003ca href=\\\"/wiki/NASA\\\" title=\\\"NASA\\\"\u003eNASA\u003c/a\u003e (\u003ca href=\\\"/wiki/Commercial_Resupply_Services\\\" title=\\\"Commercial Resupply Services\\\"\u003eCRS\u003c/a\u003e)\\n\u003c/td\u003e\\n\u003ctd class=\\\"table-success\\\" style=\\\"background: LightGreen; color: black; vertical-align: middle; text-align: center;\\\"\u003eSuccess\\n\u003c/td\u003e\\n\u003ctd class=\\\"table-noAttempt\\\" style=\\\"background: #ececec; color: black; vertical-align: middle; white-space: nowrap; text-align: center;\\\"\u003eNo attempt\\n\u003c/td\u003e\u003c/tr\u003e\\n\u003ctr\u003e\\n\u003ctd colspan=\\\"9\\\"\u003eLast launch of the original Falcon 9 v1.0 \u003ca href=\\\"/wiki/Launch_vehicle\\\" title=\\\"Launch vehicle\\\"\u003elaunch vehicle\u003c/a\u003e, first use of the unpressurized trunk section of Dragon.\u003csup class=\\\"reference\\\" id=\\\"cite_ref-sxf9_20110321_35-0\\\"\u003e\u003ca href=\\\"#cite_note-sxf9_20110321-35\\\"\u003e[29]\u003c/a\u003e\u003c/sup\u003e\\n\u003c/td\u003e\u003c/tr\u003e\\n\u003ctr\u003e\\n\u003cth rowspan=\\\"2\\\" scope=\\\"row\\\" style=\\\"text-align:center;\\\"\u003e6\\n\u003c/th\u003e\\n\u003ctd\u003e29 September 2013,\u003cbr/\u003e16:00\u003csup class=\\\"reference\\\" id=\\\"cite_ref-pa20130930_36-0\\\"\u003e\u003ca href=\\\"#cite_note-pa20130930-36\\\"\u003e[30]\u003c/a\u003e\u003c/sup\u003e\\n\u003c/td\u003e\\n\u003ctd\u003e\u003ca href=\\\"/wiki/Falcon_9_v1.1\\\" title=\\\"Falcon 9 v1.1\\\"\u003eF9 v1.1\u003c/a\u003e\u003csup class=\\\"reference\\\" id=\\\"cite_ref-MuskMay2012_13-5\\\"\u003e\u003ca href=\\\"#cite_note-MuskMay2012-13\\\"\u003e[7]\u003c/a\u003e\u003c/sup\u003e\u003cbr/\u003eB1003\u003csup class=\\\"reference\\\" id=\\\"cite_ref-block_numbers_14-5\\\"\u003e\u003ca href=\\\"#cite_note-block_numbers-14\\\"\u003e[8]\u003c/a\u003e\u003c/sup\u003e\\n\u003c/td\u003e\\n\u003ctd\u003e\u003ca class=\\\"mw-redirect\\\" href=\\\"/wiki/Vandenberg_Air_Force_Base\\\" title=\\\"Vandenberg Air Force Base\\\"\u003eVAFB\u003c/a\u003e,\u003cbr/\u003e\u003ca href=\\\"/wiki/Vandenberg_Space_Launch_Complex_4\\\" title=\\\"Vandenberg Space Launch Complex 4\\\"\u003eSLC-4E\u003c/a\u003e\\n\u003c/td\u003e\\n\u003ctd\u003e\u003ca href=\\\"/wiki/CASSIOPE\\\" title=\\\"CASSIOPE\\\"\u003eCASSIOPE\u003c/a\u003e\u003csup class=\\\"reference\\\" id=\\\"cite_ref-sxManifest20120925_28-2\\\"\u003e\u003ca href=\\\"#cite_note-sxManifest20120925-28\\\"\u003e[22]\u003c/a\u003e\u003c/sup\u003e\u003csup class=\\\"reference\\\" id=\\\"cite_ref-CASSIOPE_MDA_37-0\\\"\u003e\u003ca href=\\\"#cite_note-CASSIOPE_MDA-37\\\"\u003e[31]\u003c/a\u003e\u003c/sup\u003e\\n\u003c/td\u003e\\n\u003ctd\u003e500\\u00a0kg (1,100\\u00a0lb)\\n\u003c/td\u003e\\n\u003ctd\u003e\u003ca href=\\\"/wiki/Polar_orbit\\\" title=\\\"Polar orbit\\\"\u003ePolar orbit\u003c/a\u003e \u003ca href=\\\"/wiki/Low_Earth_orbit\\\" title=\\\"Low Earth orbit\\\"\u003eLEO\u003c/a\u003e\\n\u003c/td\u003e\\n\u003ctd\u003e\u003ca href=\\\"/wiki/Maxar_Technologies\\\" title=\\\"Maxar Technologies\\\"\u003eMDA\u003c/a\u003e\\n\u003c/td\u003e\\n\u003ctd class=\\\"table-success\\\" style=\\\"background: LightGreen; color: black; vertical-align: middle; text-align: center;\\\"\u003eSuccess\u003csup class=\\\"reference\\\" id=\\\"cite_ref-pa20130930_36-1\\\"\u003e\u003ca href=\\\"#cite_note-pa20130930-36\\\"\u003e[30]\u003c/a\u003e\u003c/sup\u003e\\n\u003c/td\u003e\\n\u003ctd class=\\\"table-no2\\\" style=\\\"background: #ffdddd; color: black; vertical-align: middle; text-align: center;\\\"\u003eUncontrolled\u003cbr/\u003e\u003csmall\u003e(ocean)\u003c/small\u003e\u003csup class=\\\"reference\\\" id=\\\"cite_ref-ocean_landing_38-0\\\"\u003e\u003ca href=\\\"#cite_note-ocean_landing-38\\\"\u003e[d]\u003c/a\u003e\u003c/sup\u003e\\n\u003c/td\u003e\u003c/tr\u003e\\n\u003ctr\u003e\\n\u003ctd colspan=\\\"9\\\"\u003eFirst commercial mission with a private customer, first launch from Vandenberg, and demonstration flight of Falcon 9 v1.1 with an improved 13-tonne to LEO capacity.\u003csup class=\\\"reference\\\" id=\\\"cite_ref-sxf9_20110321_35-1\\\"\u003e\u003ca href=\\\"#cite_note-sxf9_20110321-35\\\"\u003e[29]\u003c/a\u003e\u003c/sup\u003e After separation from the second stage carrying Canadian commercial and scientific satellites, the first stage booster performed a controlled reentry,\u003csup class=\\\"reference\\\" id=\\\"cite_ref-39\\\"\u003e\u003ca href=\\\"#cite_note-39\\\"\u003e[32]\u003c/a\u003e\u003c/sup\u003e and an \u003ca href=\\\"/wiki/Falcon_9_first-stage_landing_tests\\\" title=\\\"Falcon 9 first-stage landing tests\\\"\u003eocean touchdown test\u003c/a\u003e for the first time. This provided good test data, even though the booster started rolling as it neared the ocean, leading to the shutdown of the central engine as the roll depleted it of fuel, resulting in a hard impact with the ocean.\u003csup class=\\\"reference\\\" id=\\\"cite_ref-pa20130930_36-2\\\"\u003e\u003ca href=\\\"#cite_note-pa20130930-36\\\"\u003e[30]\u003c/a\u003e\u003c/sup\u003e This was the first known attempt of a rocket engine being lit to perform a supersonic retro propulsion, and allowed SpaceX to enter a public-private partnership with \u003ca href=\\\"/wiki/NASA\\\" title=\\\"NASA\\\"\u003eNASA\u003c/a\u003e and its Mars entry, descent, and landing technologies research projects.\u003csup class=\\\"reference\\\" id=\\\"cite_ref-40\\\"\u003e\u003ca href=\\\"#cite_note-40\\\"\u003e[33]\u003c/a\u003e\u003c/sup\u003e \u003csmall\u003e(\u003ca href=\\\"#Maiden_flight_of_v1.1\\\"\u003emore details below\u003c/a\u003e)\u003c/small\u003e\\n\u003c/td\u003e\u003c/tr\u003e\\n\u003ctr\u003e\\n\u003cth rowspan=\\\"2\\\" scope=\\\"row\\\" style=\\\"text-align:center;\\\"\u003e7\\n\u003c/th\u003e\\n\u003ctd\u003e3 December 2013,\u003cbr/\u003e22:41\u003csup class=\\\"reference\\\" id=\\\"cite_ref-sfn_wwls20130624_41-0\\\"\u003e\u003ca href=\\\"#cite_note-sfn_wwls20130624-41\\\"\u003e[34]\u003c/a\u003e\u003c/sup\u003e\\n\u003c/td\u003e\\n\u003ctd\u003e\u003ca href=\\\"/wiki/Falcon_9_v1.1\\\" title=\\\"Falcon 9 v1.1\\\"\u003eF9 v1.1\u003c/a\u003e\u003cbr/\u003eB1004\\n\u003c/td\u003e\\n\u003ctd\u003e\u003ca href=\\\"/wiki/Cape_Canaveral_Space_Force_Station\\\" title=\\\"Cape Canaveral Space Force Station\\\"\u003eCCAFS\u003c/a\u003e,\u003cbr/\u003e\u003ca href=\\\"/wiki/Cape_Canaveral_Space_Launch_Complex_40\\\" title=\\\"Cape Canaveral Space Launch Complex 40\\\"\u003eSLC-40\u003c/a\u003e\\n\u003c/td\u003e\\n\u003ctd\u003e\u003ca href=\\\"/wiki/SES-8\\\" title=\\\"SES-8\\\"\u003eSES-8\u003c/a\u003e\u003csup class=\\\"reference\\\" id=\\\"cite_ref-sxManifest20120925_28-3\\\"\u003e\u003ca href=\\\"#cite_note-sxManifest20120925-28\\\"\u003e[22]\u003c/a\u003e\u003c/sup\u003e\u003csup class=\\\"reference\\\" id=\\\"cite_ref-spx-pr_42-0\\\"\u003e\u003ca href=\\\"#cite_note-spx-pr-42\\\"\u003e[35]\u003c/a\u003e\u003c/sup\u003e\u003csup class=\\\"reference\\\" id=\\\"cite_ref-aw20110323_43-0\\\"\u003e\u003ca href=\\\"#cite_note-aw20110323-43\\\"\u003e[36]\u003c/a\u003e\u003c/sup\u003e\\n\u003c/td\u003e\\n\u003ctd\u003e3,170\\u00a0kg (6,990\\u00a0lb)\\n\u003c/td\u003e\\n\u003ctd\u003e\u003ca href=\\\"/wiki/Geostationary_transfer_orbit\\\" title=\\\"Geostationary transfer orbit\\\"\u003eGTO\u003c/a\u003e\\n\u003c/td\u003e\\n\u003ctd\u003e\u003ca href=\\\"/wiki/SES_S.A.\\\" title=\\\"SES S.A.\\\"\u003eSES\u003c/a\u003e\\n\u003c/td\u003e\\n\u003ctd class=\\\"table-success\\\" style=\\\"background: LightGreen; color: black; vertical-align: middle; text-align: center;\\\"\u003eSuccess\u003csup class=\\\"reference\\\" id=\\\"cite_ref-SNMissionStatus7_44-0\\\"\u003e\u003ca href=\\\"#cite_note-SNMissionStatus7-44\\\"\u003e[37]\u003c/a\u003e\u003c/sup\u003e\\n\u003c/td\u003e\\n\u003ctd class=\\\"table-noAttempt\\\" style=\\\"background: #ececec; color: black; vertical-align: middle; white-space: nowrap; text-align: center;\\\"\u003eNo attempt\u003cbr/\u003e\u003csup class=\\\"reference\\\" id=\\\"cite_ref-sf10120131203_45-0\\\"\u003e\u003ca href=\\\"#cite_note-sf10120131203-45\\\"\u003e[38]\u003c/a\u003e\u003c/sup\u003e\\n\u003c/td\u003e\u003c/tr\u003e\\n\u003ctr\u003e\\n\u003ctd colspan=\\\"9\\\"\u003eFirst \u003ca href=\\\"/wiki/Geostationary_transfer_orbit\\\" title=\\\"Geostationary transfer orbit\\\"\u003eGeostationary transfer orbit\u003c/a\u003e (GTO) launch for Falcon 9,\u003csup class=\\\"reference\\\" id=\\\"cite_ref-spx-pr_42-1\\\"\u003e\u003ca href=\\\"#cite_note-spx-pr-42\\\"\u003e[35]\u003c/a\u003e\u003c/sup\u003e and first successful reignition of the second stage.\u003csup class=\\\"reference\\\" id=\\\"cite_ref-46\\\"\u003e\u003ca href=\\\"#cite_note-46\\\"\u003e[39]\u003c/a\u003e\u003c/sup\u003e SES-8 was inserted into a \u003ca href=\\\"/wiki/Geostationary_transfer_orbit\\\" title=\\\"Geostationary transfer orbit\\\"\u003eSuper-Synchronous Transfer Orbit\u003c/a\u003e of 79,341\\u00a0km (49,300\\u00a0mi) in apogee with an \u003ca href=\\\"/wiki/Orbital_inclination\\\" title=\\\"Orbital inclination\\\"\u003einclination\u003c/a\u003e of 20.55\\u00b0 to the \u003ca href=\\\"/wiki/Equator\\\" title=\\\"Equator\\\"\u003eequator\u003c/a\u003e.\\n\u003c/td\u003e\u003c/tr\u003e\u003c/tbody\u003e\u003c/table\u003e\\n\", \"name\": \"stdout\"}]}, {\"metadata\": {}, \"cell_type\": \"markdown\", \"source\": \"You should able to see the columns names embedded in the table header elements `\u003cth\u003e` as follows:\\n\"}, {\"metadata\": {}, \"cell_type\": \"markdown\", \"source\": \"```\\n\u003ctr\u003e\\n\u003cth scope=\\\"col\\\"\u003eFlight No.\\n\u003c/th\u003e\\n\u003cth scope=\\\"col\\\"\u003eDate and\u003cbr/\u003etime (\u003ca href=\\\"/wiki/Coordinated_Universal_Time\\\" title=\\\"Coordinated Universal Time\\\"\u003eUTC\u003c/a\u003e)\\n\u003c/th\u003e\\n\u003cth scope=\\\"col\\\"\u003e\u003ca href=\\\"/wiki/List_of_Falcon_9_first-stage_boosters\\\" title=\\\"List of Falcon 9 first-stage boosters\\\"\u003eVersion,\u003cbr/\u003eBooster\u003c/a\u003e \u003csup class=\\\"reference\\\" id=\\\"cite_ref-booster_11-0\\\"\u003e\u003ca href=\\\"#cite_note-booster-11\\\"\u003e[b]\u003c/a\u003e\u003c/sup\u003e\\n\u003c/th\u003e\\n\u003cth scope=\\\"col\\\"\u003eLaunch site\\n\u003c/th\u003e\\n\u003cth scope=\\\"col\\\"\u003ePayload\u003csup class=\\\"reference\\\" id=\\\"cite_ref-Dragon_12-0\\\"\u003e\u003ca href=\\\"#cite_note-Dragon-12\\\"\u003e[c]\u003c/a\u003e\u003c/sup\u003e\\n\u003c/th\u003e\\n\u003cth scope=\\\"col\\\"\u003ePayload mass\\n\u003c/th\u003e\\n\u003cth scope=\\\"col\\\"\u003eOrbit\\n\u003c/th\u003e\\n\u003cth scope=\\\"col\\\"\u003eCustomer\\n\u003c/th\u003e\\n\u003cth scope=\\\"col\\\"\u003eLaunch\u003cbr/\u003eoutcome\\n\u003c/th\u003e\\n\u003cth scope=\\\"col\\\"\u003e\u003ca href=\\\"/wiki/Falcon_9_first-stage_landing_tests\\\" title=\\\"Falcon 9 first-stage landing tests\\\"\u003eBooster\u003cbr/\u003elanding\u003c/a\u003e\\n\u003c/th\u003e\u003c/tr\u003e\\n```\\n\"}, {\"metadata\": {}, \"cell_type\": \"markdown\", \"source\": \"Next, we just need to iterate through the `\u003cth\u003e` elements and apply the provided `extract_column_from_header()` to extract column name one by one\\n\"}, {\"metadata\": {}, \"cell_type\": \"code\", \"source\": \"column_names = []\\n\\n# Apply find_all() function with `th` element on first_launch_table\\nth_elements = first_launch_table.find_all('th')\\n\\n# Iterate each th element and apply the provided extract_column_from_header() to get a column name\\nfor th in th_elements:\\n    column = extract_column_from_header(th)\\n    \\n    # Append the Non-empty column name (`if name is not None and len(name) \u003e 0`) into a list called column_names\\n    if column is not None and len(column) \u003e 0:\\n        column_names.append(column)\", \"execution_count\": 26, \"outputs\": []}, {\"metadata\": {}, \"cell_type\": \"markdown\", \"source\": \"Check the extracted column names\\n\"}, {\"metadata\": {}, \"cell_type\": \"code\", \"source\": \"print(column_names)\", \"execution_count\": 27, \"outputs\": [{\"output_type\": \"stream\", \"text\": \"['Flight No.', 'Date and time ( )', 'Launch site', 'Payload', 'Payload mass', 'Orbit', 'Customer', 'Launch outcome']\\n\", \"name\": \"stdout\"}]}, {\"metadata\": {}, \"cell_type\": \"markdown\", \"source\": \"## TASK 3: Create a data frame by parsing the launch HTML tables\\n\"}, {\"metadata\": {}, \"cell_type\": \"markdown\", \"source\": \"We will create an empty dictionary with keys from the extracted column names in the previous task. Later, this dictionary will be converted into a Pandas dataframe\\n\"}, {\"metadata\": {}, \"cell_type\": \"code\", \"source\": \"launch_dict= dict.fromkeys(column_names)\\n\\n# Remove an irrelvant column\\ndel launch_dict['Date and time ( )']\\n\\n# Let's initial the launch_dict with each value to be an empty list\\nlaunch_dict['Flight No.'] = []\\nlaunch_dict['Launch site'] = []\\nlaunch_dict['Payload'] = []\\nlaunch_dict['Payload mass'] = []\\nlaunch_dict['Orbit'] = []\\nlaunch_dict['Customer'] = []\\nlaunch_dict['Launch outcome'] = []\\n# Added some new columns\\nlaunch_dict['Version Booster']=[]\\nlaunch_dict['Booster landing']=[]\\nlaunch_dict['Date']=[]\\nlaunch_dict['Time']=[]\", \"execution_count\": 28, \"outputs\": []}, {\"metadata\": {}, \"cell_type\": \"markdown\", \"source\": \"Next, we just need to fill up the `launch_dict` with launch records extracted from table rows.\\n\"}, {\"metadata\": {}, \"cell_type\": \"markdown\", \"source\": \"Usually, HTML tables in Wiki pages are likely to contain unexpected annotations and other types of noises, such as reference links `B0004.1[8]`, missing values `N/A [e]`, inconsistent formatting, etc.\\n\"}, {\"metadata\": {}, \"cell_type\": \"markdown\", \"source\": \"To simplify the parsing process, we have provided an incomplete code snippet below to help you to fill up the `launch_dict`. Please complete the following code snippet with TODOs or you can choose to write your own logic to parse all launch tables:\\n\"}, {\"metadata\": {}, \"cell_type\": \"code\", \"source\": \"extracted_row = 0\\n#Extract each table \\nfor table_number,table in enumerate(soup.find_all('table',\\\"wikitable plainrowheaders collapsible\\\")):\\n   # get table row \\n    for rows in table.find_all(\\\"tr\\\"):\\n        #check to see if first table heading is as number corresponding to launch a number \\n        if rows.th:\\n            if rows.th.string:\\n                flight_number=rows.th.string.strip()\\n                flag=flight_number.isdigit()\\n        else:\\n            flag=False\\n        #get table element \\n        row=rows.find_all('td')\\n        #if it is number save cells in a dictonary \\n        if flag:\\n            extracted_row += 1\\n            # Flight Number value\\n            # TODO: Append the flight_number into launch_dict with key `Flight No.`\\n            launch_dict['Flight No.'].append(flight_number)\\n            print(flight_number)\\n            \\n            datatimelist=date_time(row[0])\\n            \\n            # Date value\\n            # TODO: Append the date into launch_dict with key `Date`\\n            date = datatimelist[0].strip(',')\\n            launch_dict['Date'].append(date)\\n            print(date)\\n            \\n            # Time value\\n            # TODO: Append the time into launch_dict with key `Time`\\n            time = datatimelist[1]\\n            launch_dict['Time'].append(time)\\n            print(time)\\n              \\n            # Booster version\\n            # TODO: Append the bv into launch_dict with key `Version Booster`\\n            bv=booster_version(row[1])\\n            if not(bv):\\n                bv=row[1].a.string\\n            launch_dict['Version Booster'].append(bv)\\n            print(bv)\\n            \\n            # Launch Site\\n            # TODO: Append the bv into launch_dict with key `Launch Site`\\n            launch_site = row[2].a.string\\n            launch_dict['Launch site'].append(launch_site)\\n            print(launch_site)\\n            \\n            # Payload\\n            # TODO: Append the payload into launch_dict with key `Payload`\\n            payload = row[3].a.string\\n            launch_dict['Payload'].append(payload)      \\n            print(payload)\\n            \\n            # Payload Mass\\n            # TODO: Append the payload_mass into launch_dict with key `Payload mass`\\n            payload_mass = get_mass(row[4])\\n            launch_dict['Payload mass'].append(payload_mass)\\n            print(payload)\\n            \\n            # Orbit\\n            # TODO: Append the orbit into launch_dict with key `Orbit`\\n            orbit = row[5].a.string\\n            launch_dict['Orbit'].append(orbit)\\n            print(orbit)\\n            \\n            # Customer\\n            # TODO: Append the customer into launch_dict with key `Customer`\\n            if (row[6].a is not None):\\n                customer=row[6].a.string\\n            else:\\n                customer=row[6].string\\n            print(customer)\\n            launch_dict['Customer'].append(customer)\\n            \\n            # Launch outcome\\n            # TODO: Append the launch_outcome into launch_dict with key `Launch outcome`\\n            launch_outcome = list(row[7].strings)[0]\\n            launch_dict['Launch outcome'].append(launch_outcome)\\n            print(launch_outcome)\\n            \\n            # Booster landing\\n            # TODO: Append the launch_outcome into launch_dict with key `Booster landing`\\n            booster_landing = landing_status(row[8])\\n            launch_dict['Booster landing'].append(booster_landing)\\n            print(booster_landing)\", \"execution_count\": 29, \"outputs\": [{\"output_type\": \"stream\", \"text\": \"1\\n4 June 2010\\n18:45\\nF9 v1.0B0003.1\\nCCAFS\\nDragon Spacecraft Qualification Unit\\nDragon Spacecraft Qualification Unit\\nLEO\\nSpaceX\\nSuccess\\n\\nFailure\\n2\\n8 December 2010\\n15:43\\nF9 v1.0B0004.1\\nCCAFS\\nDragon\\nDragon\\nLEO\\nNASA\\nSuccess\\nFailure\\n3\\n22 May 2012\\n07:44\\nF9 v1.0B0005.1\\nCCAFS\\nDragon\\nDragon\\nLEO\\nNASA\\nSuccess\\nNo attempt\\n\\n4\\n8 October 2012\\n00:35\\nF9 v1.0B0006.1\\nCCAFS\\nSpaceX CRS-1\\nSpaceX CRS-1\\nLEO\\nNASA\\nSuccess\\n\\nNo attempt\\n5\\n1 March 2013\\n15:10\\nF9 v1.0B0007.1\\nCCAFS\\nSpaceX CRS-2\\nSpaceX CRS-2\\nLEO\\nNASA\\nSuccess\\n\\nNo attempt\\n\\n6\\n29 September 2013\\n16:00\\nF9 v1.1B1003\\nVAFB\\nCASSIOPE\\nCASSIOPE\\nPolar orbit\\nMDA\\nSuccess\\nUncontrolled\\n7\\n3 December 2013\\n22:41\\nF9 v1.1\\nCCAFS\\nSES-8\\nSES-8\\nGTO\\nSES\\nSuccess\\nNo attempt\\n8\\n6 January 2014\\n22:06\\nF9 v1.1\\nCCAFS\\nThaicom 6\\nThaicom 6\\nGTO\\nThaicom\\nSuccess\\nNo attempt\\n9\\n18 April 2014\\n19:25\\nF9 v1.1\\nCape Canaveral\\nSpaceX CRS-3\\nSpaceX CRS-3\\nLEO\\nNASA\\nSuccess\\n\\nControlled\\n10\\n14 July 2014\\n15:15\\nF9 v1.1\\nCape Canaveral\\nOrbcomm-OG2\\nOrbcomm-OG2\\nLEO\\nOrbcomm\\nSuccess\\nControlled\\n11\\n5 August 2014\\n08:00\\nF9 v1.1\\nCape Canaveral\\nAsiaSat 8\\nAsiaSat 8\\nGTO\\nAsiaSat\\nSuccess\\nNo attempt\\n12\\n7 September 2014\\n05:00\\nF9 v1.1\\nCape Canaveral\\nAsiaSat 6\\nAsiaSat 6\\nGTO\\nAsiaSat\\nSuccess\\nNo attempt\\n\\n13\\n21 September 2014\\n05:52\\nF9 v1.1\\nCape Canaveral\\nSpaceX CRS-4\\nSpaceX CRS-4\\nLEO\\nNASA\\nSuccess\\nUncontrolled\\n14\\n10 January 2015\\n09:47\\nF9 v1.1\\nCape Canaveral\\nSpaceX CRS-5\\nSpaceX CRS-5\\nLEO\\nNASA\\nSuccess\\nFailure \\n15\\n11 February 2015\\n23:03\\nF9 v1.1\\nCape Canaveral\\nDSCOVR\\nDSCOVR\\nHEO\\nUSAF\\nSuccess\\n\\nControlled\\n16\\n2 March 2015\\n03:50\\nF9 v1.1\\nCape Canaveral\\nABS-3A\\nABS-3A\\nGTO\\nABS\\nSuccess\\n\\nNo attempt\\n17\\n14 April 2015\\n20:10\\nF9 v1.1\\nCape Canaveral\\nSpaceX CRS-6\\nSpaceX CRS-6\\nLEO\\nNASA\\nSuccess\\n\\nFailure\\n18\\n27 April 2015\\n23:03\\nF9 v1.1\\nCape Canaveral\\nT\\u00fcrkmen\\u00c4lem 52\\u00b0E / MonacoSAT\\nT\\u00fcrkmen\\u00c4lem 52\\u00b0E / MonacoSAT\\nGTO\\nNone\\nSuccess\\n\\nNo attempt\\n19\\n28 June 2015\\n14:21\\nF9 v1.1\\nCape Canaveral\\nSpaceX CRS-7\\nSpaceX CRS-7\\nLEO\\nNASA\\nFailure\\nPrecluded\\n20\\n22 December 2015\\n01:29\\nF9 FT\\nCape Canaveral\\nOrbcomm-OG2\\nOrbcomm-OG2\\nLEO\\nOrbcomm\\nSuccess\\n\\nSuccess\\n21\\n17 January 2016\\n18:42\\nF9 v1.1\\nVAFB\\nJason-3\\nJason-3\\nLEO\\nNASA\\nSuccess\\n\\nFailure\\n22\\n4 March 2016\\n23:35\\nF9 FT\\nCape Canaveral\\nSES-9\\nSES-9\\nGTO\\nSES\\nSuccess\\n\\nFailure\\n23\\n8 April 2016\\n20:43\\nF9 FT\\nCape Canaveral\\nSpaceX CRS-8\\nSpaceX CRS-8\\nLEO\\nNASA\\nSuccess\\nSuccess\\n24\\n6 May 2016\\n05:21\\nF9 FT\\nCape Canaveral\\nJCSAT-14\\nJCSAT-14\\nGTO\\nSKY Perfect JSAT Group\\nSuccess\\n\\nSuccess\\n25\\n27 May 2016\\n21:39\\nF9 FT\\nCape Canaveral\\nThaicom 8\\nThaicom 8\\nGTO\\nThaicom\\nSuccess\\n\\nSuccess\\n26\\n15 June 2016\\n14:29\\nF9 FT\\nCape Canaveral\\nABS-2A\\nABS-2A\\nGTO\\nABS\\nSuccess\\n\\nFailure\\n27\\n18 July 2016\\n04:45\\nF9 FT\\nCape Canaveral\\nSpaceX CRS-9\\nSpaceX CRS-9\\nLEO\\nNASA\\nSuccess\\n\\nSuccess\\n28\\n14 August 2016\\n05:26\\nF9 FT\\nCape Canaveral\\nJCSAT-16\\nJCSAT-16\\nGTO\\nSKY Perfect JSAT Group\\nSuccess\\n\\nSuccess\\n29\\n14 January 2017\\n17:54\\nF9 FT\\nVAFB\\nIridium NEXT\\nIridium NEXT\\nPolar\\nIridium Communications\\nSuccess\\n\\nSuccess\\n30\\n19 February 2017\\n14:39\\nF9 FT\\nKSC\\nSpaceX CRS-10\\nSpaceX CRS-10\\nLEO\\nNASA\\nSuccess\\n\\nSuccess\\n31\\n16 March 2017\\n06:00\\nF9 FT\\nKSC\\nEchoStar 23\\nEchoStar 23\\nGTO\\nEchoStar\\nSuccess\\n\\nNo attempt\\n32\\n30 March 2017\\n22:27\\nF9 FT\\u267a\\nKSC\\nSES-10\\nSES-10\\nGTO\\nSES\\nSuccess\\nSuccess\\n33\\n1 May 2017\\n11:15\\nF9 FT\\nKSC\\nNROL-76\\nNROL-76\\nLEO\\nNRO\\nSuccess\\n\\nSuccess\\n34\\n15 May 2017\\n23:21\\nF9 FT\\nKSC\\nInmarsat-5 F4\\nInmarsat-5 F4\\nGTO\\nInmarsat\\nSuccess\\n\\nNo attempt\\n35\\n3 June 2017\\n21:07\\nF9 FT\\nKSC\\nSpaceX CRS-11\\nSpaceX CRS-11\\nLEO\\nNASA\\nSuccess\\n\\nSuccess\\n36\\n23 June 2017\\n19:10\\nF9 FTB1029.2\\nKSC\\nBulgariaSat-1\\nBulgariaSat-1\\nGTO\\nBulsatcom\\nSuccess\\n\\nSuccess\\n37\\n25 June 2017\\n20:25\\nF9 FT\\nVAFB\\nIridium NEXT\\nIridium NEXT\\nLEO\\nIridium Communications\\nSuccess\\n\\nSuccess\\n38\\n5 July 2017\\n23:38\\nF9 FT\\nKSC\\nIntelsat 35e\\nIntelsat 35e\\nGTO\\nIntelsat\\nSuccess\\n\\nNo attempt\\n39\\n14 August 2017\\n16:31\\nF9 B4\\nKSC\\nSpaceX CRS-12\\nSpaceX CRS-12\\nLEO\\nNASA\\nSuccess\\n\\nSuccess\\n40\\n24 August 2017\\n18:51\\nF9 FT\\nVAFB\\nFormosat-5\\nFormosat-5\\nSSO\\nNSPO\\nSuccess\\n\\nSuccess\\n41\\n7 September 2017\\n14:00\\nF9 B4\\nKSC\\nBoeing X-37B\\nBoeing X-37B\\nLEO\\nUSAF\\nSuccess\\n\\nSuccess\\n42\\n9 October 2017\\n12:37\\nF9 B4\\nVAFB\\nIridium NEXT\\nIridium NEXT\\nPolar\\nIridium Communications\\nSuccess\\n\\nSuccess\\n43\\n11 October 2017\\n22:53:00\\nF9 FTB1031.2\\nKSC\\nSES-11\\nSES-11\\nGTO\\nSES S.A.\\nSuccess\\n\\nSuccess\\n44\\n30 October 2017\\n19:34\\nF9 B4\\nKSC\\nKoreasat 5A\\nKoreasat 5A\\nGTO\\nKT Corporation\\nSuccess\\n\\nSuccess\\n45\\n15 December 2017\\n15:36\\nF9 FTB1035.2\\nCape Canaveral\\nSpaceX CRS-13\\nSpaceX CRS-13\\nLEO\\nNASA\\nSuccess\\n\\nSuccess\\n46\\n23 December 2017\\n01:27\\nF9 FTB1036.2\\nVAFB\\nIridium NEXT\\nIridium NEXT\\nPolar\\nIridium Communications\\nSuccess\\nControlled\\n47\\n8 January 2018\\n01:00\\nF9 B4\\nCCAFS\\nZuma\\nZuma\\nLEO\\nNorthrop Grumman\\nSuccess\\nSuccess\\n48\\n31 January 2018\\n21:25\\nF9 FTB1032.2\\nCCAFS\\nGovSat-1\\nGovSat-1\\nGTO\\nSES\\nSuccess\\nControlled\\n49\\n22 February 2018\\n14:17\\nF9 FTB1038.2\\nVAFB\\nPaz\\nPaz\\nSSO\\nHisdesat\\nSuccess\\nNo attempt\\n50\\n6 March 2018\\n05:33\\nF9 B4\\nCCAFS\\nHispasat 30W-6\\nHispasat 30W-6\\nGTO\\nHispasat\\nSuccess\\nNo attempt\\n51\\n30 March 2018\\n14:14\\nF9 B4B1041.2\\nVAFB\\nIridium NEXT\\nIridium NEXT\\nPolar\\nIridium Communications\\nSuccess\\nNo attempt\\n52\\n2 April 2018\\n20:30\\nF9 B4B1039.2\\nCCAFS\\nSpaceX CRS-14\\nSpaceX CRS-14\\nLEO\\nNASA\\nSuccess\\nNo attempt\\n53\\n18 April 2018\\n22:51\\nF9 B4\\nCCAFS\\nTransiting Exoplanet Survey Satellite\\nTransiting Exoplanet Survey Satellite\\nHEO\\nNASA\\nSuccess\\nSuccess\\n54\\n11 May 2018\\n20:14\\nF9 B5B1046.1\\nKSC\\nBangabandhu-1\\nBangabandhu-1\\nGTO\\nThales-Alenia\\nSuccess\\nSuccess\\n55\\n22 May 2018\\n19:47\\nF9 B4B1043.2\\nVAFB\\nIridium NEXT\\nIridium NEXT\\nPolar\\nIridium Communications\\nSuccess\\nNo attempt\\n56\\n4 June 2018\\n04:45\\nF9 B4B1040.2\\nCCAFS\\nSES-12\\nSES-12\\nGTO\\nSES\\nSuccess\\nNo attempt\\n57\\n29 June 2018\\n09:42\\nF9 B4B1045.2\\nCCAFS\\nSpaceX CRS-15\\nSpaceX CRS-15\\nLEO\\nNASA\\nSuccess\\nNo attempt\\n58\\n22 July 2018\\n05:50\\nF9 B5\\nCCAFS\\nTelstar 19V\\nTelstar 19V\\nGTO\\nTelesat\\nSuccess\\nSuccess\\n59\\n25 July 2018\\n11:39\\nF9 B5B1048\\nVAFB\\nIridium NEXT\\nIridium NEXT\\nPolar\\nIridium Communications\\nSuccess\\nSuccess\\n60\\n7 August 2018\\n05:18\\nF9 B5B1046.2\\nCCAFS\\nMerah Putih\\nMerah Putih\\nGTO\\nTelkom Indonesia\\nSuccess\\nSuccess\\n61\\n10 September 2018\\n04:45\\nF9 B5\\nCCAFS\\nTelstar 18V\\nTelstar 18V\\nGTO\\nTelesat\\nSuccess\\nSuccess\\n62\\n8 October 2018\\n02:22\\nF9 B5B1048.2\\nVAFB\\nSAOCOM 1A\\nSAOCOM 1A\\nSSO\\nCONAE\\nSuccess\\nSuccess\\n63\\n15 November 2018\\n20:46\\nF9 B5B1047.2\\nKSC\\nEs'hail 2\\nEs'hail 2\\nGTO\\nEs'hailSat\\nSuccess\\nSuccess\\n64\\n3 December 2018\\n18:34:05\\nF9 B5B1046.3\\nVAFB\\nSSO-A\\nSSO-A\\nSSO\\nSpaceflight Industries\\nSuccess\\nSuccess\\n65\\n5 December 2018\\n18:16\\nF9 B5\\nCCAFS\\nSpaceX CRS-16\\nSpaceX CRS-16\\nLEO\\nNASA\\nSuccess\\n\\nFailure\\n66\\n23 December 2018\\n13:51\\nF9 B5\\nCCAFS\\nGPS III\\nGPS III\\nMEO\\nUSAF\\nSuccess\\nNo attempt\\n67\\n11 January 2019\\n15:31\\nF9 B5B1049.2\\nVAFB\\nIridium NEXT\\nIridium NEXT\\nPolar\\nIridium Communications\\nSuccess\\n\\nSuccess\\n68\\n22 February 2019\\n01:45\\nF9 B5B1048.3\\nCCAFS\\nNusantara Satu\\nNusantara Satu\\nGTO\\nPSN\\nSuccess\\n\\nSuccess\\n69\\n2 March 2019\\n07:49\\nF9 B5[268]\\nKSC\\nCrew Dragon Demo-1\\nCrew Dragon Demo-1\\nLEO\\nNASA\\nSuccess\\n\\nSuccess\\n70\\n4 May 2019\\n06:48\\nF9 B5\\nCCAFS\\nSpaceX CRS-17\\nSpaceX CRS-17\\nLEO\\nNASA\\nSuccess\\n\\nSuccess\\n71\\n24 May 2019\\n02:30\\nF9 B5B1049.3\\nCCAFS\\nStarlink\\nStarlink\\nLEO\\nSpaceX\\nSuccess\\n\\nSuccess\\n72\\n12 June 2019\\n14:17\\nF9 B5B1051.2\\nVAFB\\nRADARSAT Constellation\\nRADARSAT Constellation\\nSSO\\nCanadian Space Agency\\nSuccess\\n\\nSuccess\\n73\\n25 July 2019\\n22:01\\nF9 B5B1056.2\\nCCAFS\\nSpaceX CRS-18\\nSpaceX CRS-18\\nLEO\\nNASA\\nSuccess\\n\\nSuccess\\n74\\n6 August 2019\\n23:23\\nF9 B5B1047.3\\nCCAFS\\nAMOS-17\\nAMOS-17\\nGTO\\nSpacecom\\nSuccess\\n\\nNo attempt\\n75\\n11 November 2019\\n14:56\\nF9 B5\\nCCAFS\\nStarlink\\nStarlink\\nLEO\\nSpaceX\\nSuccess\\n\\nSuccess\\n76\\n5 December 2019\\n17:29\\nF9 B5\\nCCAFS\\nSpaceX CRS-19\\nSpaceX CRS-19\\nLEO\\nNASA\\nSuccess\\n\\nSuccess\\n77\\n17 December 2019\\n00:10\\nF9 B5B1056.3\\nCCAFS\\nJCSat-18\\nJCSat-18\\nGTO\\nSky Perfect JSAT\\nSuccess\\n\\nSuccess\\n78\\n7 January 2020\\n02:19:21\\nF9 B5\\nCCAFS\\nStarlink\\nStarlink\\nLEO\\nSpaceX\\nSuccess\\n\\nSuccess\\n79\\n19 January 2020\\n15:30\\nF9 B5\\nKSC\\nCrew Dragon in-flight abort test\\nCrew Dragon in-flight abort test\\nSub-orbital\\nNASA\\nSuccess\\n\\nNo attempt\\n\\n80\\n29 January 2020\\n14:07\\nF9 B5\\nCCAFS\\nStarlink\\nStarlink\\nLEO\\nSpaceX\\nSuccess\\n\\nSuccess\\n81\\n17 February 2020\\n15:05\\nF9 B5\\nCCAFS\\nStarlink\\nStarlink\\nLEO\\nSpaceX\\nSuccess\\n\\nFailure\\n82\\n7 March 2020\\n04:50\\nF9 B5\\nCCAFS\\nSpaceX CRS-20\\nSpaceX CRS-20\\nLEO\\nNASA\\nSuccess\\n\\nSuccess\\n83\\n18 March 2020\\n12:16\\nF9 B5\\nKSC\\nStarlink\\nStarlink\\nLEO\\nSpaceX\\nSuccess\\n\\nFailure\\n84\\n22 April 2020\\n19:30\\nF9 B5\\nKSC\\nStarlink\\nStarlink\\nLEO\\nSpaceX\\nSuccess\\n\\nSuccess\\n85\\n30 May 2020\\n19:22\\nF9 B5\\nKSC\\nCrew Dragon Demo-2\\nCrew Dragon Demo-2\\nLEO\\nNASA\\nSuccess\\n\\nSuccess\\n86\\n4 June 2020\\n01:25\\nF9 B5\\nCCAFS\\nStarlink\\nStarlink\\nLEO\\nSpaceX\\nSuccess\\n\\nSuccess\\n87\\n13 June 2020\\n09:21\\nF9 B5\\nCCAFS\\nStarlink\\nStarlink\\nLEO\\nSpaceX\\nSuccess\\n\\nSuccess\\n88\\n30 June 2020\\n20:10:46\\nF9 B5\\nCCAFS\\nGPS III\\nGPS III\\nMEO\\nU.S. Space Force\\nSuccess\\n\\nSuccess\\n89\\n20 July 2020\\n21:30\\nF9 B5B1058.2\\nCCAFS\\nANASIS-II\\nANASIS-II\\nGTO\\nRepublic of Korea Army\\nSuccess\\n\\nSuccess\\n90\\n7 August 2020\\n05:12\\nF9 B5\\nKSC\\nStarlink\\nStarlink\\nLEO\\nSpaceX\\nSuccess\\n\\nSuccess\\n91\\n18 August 2020\\n14:31\\nF9 B5B1049.6\\nCCAFS\\nStarlink\\nStarlink\\nLEO\\nSpaceX\\nSuccess\\n\\nSuccess\\n92\\n30 August 2020\\n23:18\\nF9 B5\\nCCAFS\\nSAOCOM 1B\\nSAOCOM 1B\\nSSO\\nCONAE\\nSuccess\\n\\nSuccess\\n93\\n3 September 2020\\n12:46:14\\nF9 B5B1060.2\\nKSC\\nStarlink\\nStarlink\\nLEO\\nSpaceX\\nSuccess\\n\\nSuccess\\n94\\n6 October 2020\\n11:29:34\\nF9 B5B1058.3\\nKSC\\nStarlink\\nStarlink\\nLEO\\nSpaceX\\nSuccess\\n\\nSuccess\\n95\\n18 October 2020\\n12:25:57\\nF9 B5B1051.6\\nKSC\\nStarlink\\nStarlink\\nLEO\\nSpaceX\\nSuccess\\n\\nSuccess\\n96\\n24 October 2020\\n15:31:34\\nF9 B5\\nCCAFS\\nStarlink\\nStarlink\\nLEO\\nSpaceX\\nSuccess\\n\\nSuccess\\n97\\n5 November 2020\\n23:24:23\\nF9 B5\\nCCAFS\\nGPS III\\nGPS III\\nMEO\\nUSSF\\nSuccess\\n\\nSuccess\\n98\\n16 November 2020\\n00:27\\nF9 B5\\nKSC\\nCrew-1\\nCrew-1\\nLEO\\nNASA\\nSuccess\\n\\nSuccess\\n99\\n21 November 2020\\n17:17:08\\nF9 B5\\nVAFB\\nSentinel-6 Michael Freilich (Jason-CS A)\\nSentinel-6 Michael Freilich (Jason-CS A)\\nLEO\\nNASA\\nSuccess\\n\\nSuccess\\n100\\n25 November 2020\\n02:13\\nF9 B5 \\u267a\\nCCAFS\\nStarlink\\nStarlink\\nLEO\\nSpaceX\\nSuccess\\n\\nSuccess\\n101\\n6 December 2020\\n16:17:08\\nF9 B5 \\u267a\\nKSC\\nSpaceX CRS-21\\nSpaceX CRS-21\\nLEO\\nNASA\\nSuccess\\n\\nSuccess\\n102\\n13 December 2020\\n17:30:00\\nF9 B5 \\u267a\\nCCSFS\\nSXM-7\\nSXM-7\\nGTO\\nSirius XM\\nSuccess\\n\\nSuccess\\n103\\n19 December 2020\\n14:00:00\\nF9 B5 \\u267a\\nKSC\\nNROL-108\\nNROL-108\\nLEO\\nNRO\\nSuccess\\n\\nSuccess\\n104\\n8 January 2021\\n02:15\\nF9 B5\\nCCSFS\\nT\\u00fcrksat 5A\\nT\\u00fcrksat 5A\\nGTO\\nT\\u00fcrksat\\nSuccess\\n\\nSuccess\\n105\\n20 January 2021\\n13:02\\nF9 B5B1051.8\\nKSC\\nStarlink\\nStarlink\\nLEO\\nSpaceX\\nSuccess\\n\\nSuccess\\n106\\n24 January 2021\\n15:00\\nF9 B5B1058.5\\nCCSFS\\nTransporter-1\\nTransporter-1\\nSSO\\nVarious\\n\\nSuccess\\n\\nSuccess\\n107\\n4 February 2021\\n06:19\\nF9 B5 \\u267a\\nCCSFS\\nStarlink\\nStarlink\\nLEO\\nSpaceX\\nSuccess\\n\\nSuccess\\n108\\n16 February 2021\\n03:59:37\\nF9 B5 \\u267a\\nCCSFS\\nStarlink\\nStarlink\\nLEO\\nSpaceX\\nSuccess\\n\\nFailure\\n109\\n4 March 2021\\n08:24\\nF9 B5 \\u267a\\nKSC\\nStarlink\\nStarlink\\nLEO\\nSpaceX\\nSuccess\\n\\nSuccess\\n110\\n11 March 2021\\n08:13:29\\nF9 B5 \\u267a\\nCCSFS\\nStarlink\\nStarlink\\nLEO\\nSpaceX\\nSuccess\\n\\nSuccess\\n111\\n14 March 2021\\n10:01\\nF9 B5 \\u267a\\nKSC\\nStarlink\\nStarlink\\nLEO\\nSpaceX\\nSuccess\\n\\nSuccess\\n112\\n24 March 2021\\n08:28\\nF9 B5B1060.6\\nCCSFS\\nStarlink\\nStarlink\\nLEO\\nSpaceX\\nSuccess\\n\\nSuccess\\n113\\n7 April 2021\\n16:34\\nF9 B5 \\u267a\\nCCSFS\\nStarlink\\nStarlink\\nLEO\\nSpaceX\\nSuccess\\n\\nSuccess\\n114\\n23 April 2021\\n9:49\\nF9 B5B1061.2\\nKSC\\nCrew-2\\nCrew-2\\nLEO\\nNASA\\nSuccess\\n\\nSuccess\\n115\\n29 April 2021\\n03:44\\nF9 B5B1060.7\\nCCSFS\\nStarlink\\nStarlink\\nLEO\\nSpaceX\\nSuccess\\n\\nSuccess\\n116\\n4 May 2021\\n19:01\\nF9 B5B1049.9\\nKSC\\nStarlink\\nStarlink\\nLEO\\nSpaceX\\nSuccess\\n\\nSuccess\\n117\\n9 May 2021\\n06:42\\nF9 B5B1051.10\\nCCSFS\\nStarlink\\nStarlink\\nLEO\\nSpaceX\\nSuccess\\n\\nSuccess\\n118\\n15 May 2021\\n22:56\\nF9 B5B1058.8\\nKSC\\nStarlink\\nStarlink\\nLEO\\nSpaceX\\nSuccess\\n\\nSuccess\\n119\\n26 May 2021\\n18:59\\nF9 B5B1063.2\\nCCSFS\\nStarlink\\nStarlink\\nLEO\\nSpaceX\\nSuccess\\n\\nSuccess\\n120\\n3 June 2021\\n17:29\\nF9 B5B1067.1\\nKSC\\nSpaceX CRS-22\\nSpaceX CRS-22\\nLEO\\nNASA\\nSuccess\\n\\nSuccess\\n121\\n6 June 2021\\n04:26\\nF9 B5\\nCCSFS\\nSXM-8\\nSXM-8\\nGTO\\nSirius XM\\nSuccess\\n\\nSuccess\\n\", \"name\": \"stdout\"}]}, {\"metadata\": {}, \"cell_type\": \"markdown\", \"source\": \"After you have fill in the parsed launch record values into `launch_dict`, you can create a dataframe from it.\\n\"}, {\"metadata\": {}, \"cell_type\": \"code\", \"source\": \"df=pd.DataFrame(launch_dict)\", \"execution_count\": 30, \"outputs\": []}, {\"metadata\": {}, \"cell_type\": \"code\", \"source\": \"df\", \"execution_count\": 31, \"outputs\": [{\"output_type\": \"execute_result\", \"execution_count\": 31, \"data\": {\"text/plain\": \"    Flight No. Launch site                               Payload Payload mass  \\\\\\n0            1       CCAFS  Dragon Spacecraft Qualification Unit            0   \\n1            2       CCAFS                                Dragon            0   \\n2            3       CCAFS                                Dragon       525 kg   \\n3            4       CCAFS                          SpaceX CRS-1     4,700 kg   \\n4            5       CCAFS                          SpaceX CRS-2     4,877 kg   \\n..         ...         ...                                   ...          ...   \\n116        117       CCSFS                              Starlink    15,600 kg   \\n117        118         KSC                              Starlink   ~14,000 kg   \\n118        119       CCSFS                              Starlink    15,600 kg   \\n119        120         KSC                         SpaceX CRS-22     3,328 kg   \\n120        121       CCSFS                                 SXM-8     7,000 kg   \\n\\n    Orbit   Customer Launch outcome Version Booster Booster landing  \\\\\\n0     LEO     SpaceX      Success\\\\n  F9 v1.0B0003.1         Failure   \\n1     LEO       NASA        Success  F9 v1.0B0004.1         Failure   \\n2     LEO       NASA        Success  F9 v1.0B0005.1    No attempt\\\\n   \\n3     LEO       NASA      Success\\\\n  F9 v1.0B0006.1      No attempt   \\n4     LEO       NASA      Success\\\\n  F9 v1.0B0007.1    No attempt\\\\n   \\n..    ...        ...            ...             ...             ...   \\n116   LEO     SpaceX      Success\\\\n   F9 B5B1051.10         Success   \\n117   LEO     SpaceX      Success\\\\n    F9 B5B1058.8         Success   \\n118   LEO     SpaceX      Success\\\\n    F9 B5B1063.2         Success   \\n119   LEO       NASA      Success\\\\n    F9 B5B1067.1         Success   \\n120   GTO  Sirius XM      Success\\\\n           F9 B5         Success   \\n\\n                Date   Time  \\n0        4 June 2010  18:45  \\n1    8 December 2010  15:43  \\n2        22 May 2012  07:44  \\n3     8 October 2012  00:35  \\n4       1 March 2013  15:10  \\n..               ...    ...  \\n116       9 May 2021  06:42  \\n117      15 May 2021  22:56  \\n118      26 May 2021  18:59  \\n119      3 June 2021  17:29  \\n120      6 June 2021  04:26  \\n\\n[121 rows x 11 columns]\", \"text/html\": \"\u003cdiv\u003e\\n\u003cstyle scoped\u003e\\n    .dataframe tbody tr th:only-of-type {\\n        vertical-align: middle;\\n    }\\n\\n    .dataframe tbody tr th {\\n        vertical-align: top;\\n    }\\n\\n    .dataframe thead th {\\n        text-align: right;\\n    }\\n\u003c/style\u003e\\n\u003ctable border=\\\"1\\\" class=\\\"dataframe\\\"\u003e\\n  \u003cthead\u003e\\n    \u003ctr style=\\\"text-align: right;\\\"\u003e\\n      \u003cth\u003e\u003c/th\u003e\\n      \u003cth\u003eFlight No.\u003c/th\u003e\\n      \u003cth\u003eLaunch site\u003c/th\u003e\\n      \u003cth\u003ePayload\u003c/th\u003e\\n      \u003cth\u003ePayload mass\u003c/th\u003e\\n      \u003cth\u003eOrbit\u003c/th\u003e\\n      \u003cth\u003eCustomer\u003c/th\u003e\\n      \u003cth\u003eLaunch outcome\u003c/th\u003e\\n      \u003cth\u003eVersion Booster\u003c/th\u003e\\n      \u003cth\u003eBooster landing\u003c/th\u003e\\n      \u003cth\u003eDate\u003c/th\u003e\\n      \u003cth\u003eTime\u003c/th\u003e\\n    \u003c/tr\u003e\\n  \u003c/thead\u003e\\n  \u003ctbody\u003e\\n    \u003ctr\u003e\\n      \u003cth\u003e0\u003c/th\u003e\\n      \u003ctd\u003e1\u003c/td\u003e\\n      \u003ctd\u003eCCAFS\u003c/td\u003e\\n      \u003ctd\u003eDragon Spacecraft Qualification Unit\u003c/td\u003e\\n      \u003ctd\u003e0\u003c/td\u003e\\n      \u003ctd\u003eLEO\u003c/td\u003e\\n      \u003ctd\u003eSpaceX\u003c/td\u003e\\n      \u003ctd\u003eSuccess\\\\n\u003c/td\u003e\\n      \u003ctd\u003eF9 v1.0B0003.1\u003c/td\u003e\\n      \u003ctd\u003eFailure\u003c/td\u003e\\n      \u003ctd\u003e4 June 2010\u003c/td\u003e\\n      \u003ctd\u003e18:45\u003c/td\u003e\\n    \u003c/tr\u003e\\n    \u003ctr\u003e\\n      \u003cth\u003e1\u003c/th\u003e\\n      \u003ctd\u003e2\u003c/td\u003e\\n      \u003ctd\u003eCCAFS\u003c/td\u003e\\n      \u003ctd\u003eDragon\u003c/td\u003e\\n      \u003ctd\u003e0\u003c/td\u003e\\n      \u003ctd\u003eLEO\u003c/td\u003e\\n      \u003ctd\u003eNASA\u003c/td\u003e\\n      \u003ctd\u003eSuccess\u003c/td\u003e\\n      \u003ctd\u003eF9 v1.0B0004.1\u003c/td\u003e\\n      \u003ctd\u003eFailure\u003c/td\u003e\\n      \u003ctd\u003e8 December 2010\u003c/td\u003e\\n      \u003ctd\u003e15:43\u003c/td\u003e\\n    \u003c/tr\u003e\\n    \u003ctr\u003e\\n      \u003cth\u003e2\u003c/th\u003e\\n      \u003ctd\u003e3\u003c/td\u003e\\n      \u003ctd\u003eCCAFS\u003c/td\u003e\\n      \u003ctd\u003eDragon\u003c/td\u003e\\n      \u003ctd\u003e525 kg\u003c/td\u003e\\n      \u003ctd\u003eLEO\u003c/td\u003e\\n      \u003ctd\u003eNASA\u003c/td\u003e\\n      \u003ctd\u003eSuccess\u003c/td\u003e\\n      \u003ctd\u003eF9 v1.0B0005.1\u003c/td\u003e\\n      \u003ctd\u003eNo attempt\\\\n\u003c/td\u003e\\n      \u003ctd\u003e22 May 2012\u003c/td\u003e\\n      \u003ctd\u003e07:44\u003c/td\u003e\\n    \u003c/tr\u003e\\n    \u003ctr\u003e\\n      \u003cth\u003e3\u003c/th\u003e\\n      \u003ctd\u003e4\u003c/td\u003e\\n      \u003ctd\u003eCCAFS\u003c/td\u003e\\n      \u003ctd\u003eSpaceX CRS-1\u003c/td\u003e\\n      \u003ctd\u003e4,700 kg\u003c/td\u003e\\n      \u003ctd\u003eLEO\u003c/td\u003e\\n      \u003ctd\u003eNASA\u003c/td\u003e\\n      \u003ctd\u003eSuccess\\\\n\u003c/td\u003e\\n      \u003ctd\u003eF9 v1.0B0006.1\u003c/td\u003e\\n      \u003ctd\u003eNo attempt\u003c/td\u003e\\n      \u003ctd\u003e8 October 2012\u003c/td\u003e\\n      \u003ctd\u003e00:35\u003c/td\u003e\\n    \u003c/tr\u003e\\n    \u003ctr\u003e\\n      \u003cth\u003e4\u003c/th\u003e\\n      \u003ctd\u003e5\u003c/td\u003e\\n      \u003ctd\u003eCCAFS\u003c/td\u003e\\n      \u003ctd\u003eSpaceX CRS-2\u003c/td\u003e\\n      \u003ctd\u003e4,877 kg\u003c/td\u003e\\n      \u003ctd\u003eLEO\u003c/td\u003e\\n      \u003ctd\u003eNASA\u003c/td\u003e\\n      \u003ctd\u003eSuccess\\\\n\u003c/td\u003e\\n      \u003ctd\u003eF9 v1.0B0007.1\u003c/td\u003e\\n      \u003ctd\u003eNo attempt\\\\n\u003c/td\u003e\\n      \u003ctd\u003e1 March 2013\u003c/td\u003e\\n      \u003ctd\u003e15:10\u003c/td\u003e\\n    \u003c/tr\u003e\\n    \u003ctr\u003e\\n      \u003cth\u003e...\u003c/th\u003e\\n      \u003ctd\u003e...\u003c/td\u003e\\n      \u003ctd\u003e...\u003c/td\u003e\\n      \u003ctd\u003e...\u003c/td\u003e\\n      \u003ctd\u003e...\u003c/td\u003e\\n      \u003ctd\u003e...\u003c/td\u003e\\n      \u003ctd\u003e...\u003c/td\u003e\\n      \u003ctd\u003e...\u003c/td\u003e\\n      \u003ctd\u003e...\u003c/td\u003e\\n      \u003ctd\u003e...\u003c/td\u003e\\n      \u003ctd\u003e...\u003c/td\u003e\\n      \u003ctd\u003e...\u003c/td\u003e\\n    \u003c/tr\u003e\\n    \u003ctr\u003e\\n      \u003cth\u003e116\u003c/th\u003e\\n      \u003ctd\u003e117\u003c/td\u003e\\n      \u003ctd\u003eCCSFS\u003c/td\u003e\\n      \u003ctd\u003eStarlink\u003c/td\u003e\\n      \u003ctd\u003e15,600 kg\u003c/td\u003e\\n      \u003ctd\u003eLEO\u003c/td\u003e\\n      \u003ctd\u003eSpaceX\u003c/td\u003e\\n      \u003ctd\u003eSuccess\\\\n\u003c/td\u003e\\n      \u003ctd\u003eF9 B5B1051.10\u003c/td\u003e\\n      \u003ctd\u003eSuccess\u003c/td\u003e\\n      \u003ctd\u003e9 May 2021\u003c/td\u003e\\n      \u003ctd\u003e06:42\u003c/td\u003e\\n    \u003c/tr\u003e\\n    \u003ctr\u003e\\n      \u003cth\u003e117\u003c/th\u003e\\n      \u003ctd\u003e118\u003c/td\u003e\\n      \u003ctd\u003eKSC\u003c/td\u003e\\n      \u003ctd\u003eStarlink\u003c/td\u003e\\n      \u003ctd\u003e~14,000 kg\u003c/td\u003e\\n      \u003ctd\u003eLEO\u003c/td\u003e\\n      \u003ctd\u003eSpaceX\u003c/td\u003e\\n      \u003ctd\u003eSuccess\\\\n\u003c/td\u003e\\n      \u003ctd\u003eF9 B5B1058.8\u003c/td\u003e\\n      \u003ctd\u003eSuccess\u003c/td\u003e\\n      \u003ctd\u003e15 May 2021\u003c/td\u003e\\n      \u003ctd\u003e22:56\u003c/td\u003e\\n    \u003c/tr\u003e\\n    \u003ctr\u003e\\n      \u003cth\u003e118\u003c/th\u003e\\n      \u003ctd\u003e119\u003c/td\u003e\\n      \u003ctd\u003eCCSFS\u003c/td\u003e\\n      \u003ctd\u003eStarlink\u003c/td\u003e\\n      \u003ctd\u003e15,600 kg\u003c/td\u003e\\n      \u003ctd\u003eLEO\u003c/td\u003e\\n      \u003ctd\u003eSpaceX\u003c/td\u003e\\n      \u003ctd\u003eSuccess\\\\n\u003c/td\u003e\\n      \u003ctd\u003eF9 B5B1063.2\u003c/td\u003e\\n      \u003ctd\u003eSuccess\u003c/td\u003e\\n      \u003ctd\u003e26 May 2021\u003c/td\u003e\\n      \u003ctd\u003e18:59\u003c/td\u003e\\n    \u003c/tr\u003e\\n    \u003ctr\u003e\\n      \u003cth\u003e119\u003c/th\u003e\\n      \u003ctd\u003e120\u003c/td\u003e\\n      \u003ctd\u003eKSC\u003c/td\u003e\\n      \u003ctd\u003eSpaceX CRS-22\u003c/td\u003e\\n      \u003ctd\u003e3,328 kg\u003c/td\u003e\\n      \u003ctd\u003eLEO\u003c/td\u003e\\n      \u003ctd\u003eNASA\u003c/td\u003e\\n      \u003ctd\u003eSuccess\\\\n\u003c/td\u003e\\n      \u003ctd\u003eF9 B5B1067.1\u003c/td\u003e\\n      \u003ctd\u003eSuccess\u003c/td\u003e\\n      \u003ctd\u003e3 June 2021\u003c/td\u003e\\n      \u003ctd\u003e17:29\u003c/td\u003e\\n    \u003c/tr\u003e\\n    \u003ctr\u003e\\n      \u003cth\u003e120\u003c/th\u003e\\n      \u003ctd\u003e121\u003c/td\u003e\\n      \u003ctd\u003eCCSFS\u003c/td\u003e\\n      \u003ctd\u003eSXM-8\u003c/td\u003e\\n      \u003ctd\u003e7,000 kg\u003c/td\u003e\\n      \u003ctd\u003eGTO\u003c/td\u003e\\n      \u003ctd\u003eSirius XM\u003c/td\u003e\\n      \u003ctd\u003eSuccess\\\\n\u003c/td\u003e\\n      \u003ctd\u003eF9 B5\u003c/td\u003e\\n      \u003ctd\u003eSuccess\u003c/td\u003e\\n      \u003ctd\u003e6 June 2021\u003c/td\u003e\\n      \u003ctd\u003e04:26\u003c/td\u003e\\n    \u003c/tr\u003e\\n  \u003c/tbody\u003e\\n\u003c/table\u003e\\n\u003cp\u003e121 rows \\u00d7 11 columns\u003c/p\u003e\\n\u003c/div\u003e\"}, \"metadata\": {}}]}, {\"metadata\": {}, \"cell_type\": \"markdown\", \"source\": \"We can now export it to a \u003cb\u003eCSV\u003c/b\u003e for the next section, but to make the answers consistent and in case you have difficulties finishing this lab.\\n\\nFollowing labs will be using a provided dataset to make each lab independent.\\n\"}, {\"metadata\": {}, \"cell_type\": \"markdown\", \"source\": \"\u003ccode\u003edf.to_csv('spacex_web_scraped.csv', index=False)\u003c/code\u003e\\n\"}, {\"metadata\": {}, \"cell_type\": \"markdown\", \"source\": \"## Authors\\n\"}, {\"metadata\": {}, \"cell_type\": \"markdown\", \"source\": \"\u003ca href=\\\"https://www.linkedin.com/in/yan-luo-96288783/?utm_medium=Exinfluencer\u0026utm_source=Exinfluencer\u0026utm_content=000026UJ\u0026utm_term=10006555\u0026utm_id=NA-SkillsNetwork-Channel-SkillsNetworkCoursesIBMDS0321ENSkillsNetwork26802033-2021-01-01\\\"\u003eYan Luo\u003c/a\u003e\\n\"}, {\"metadata\": {}, \"cell_type\": \"markdown\", \"source\": \"\u003ca href=\\\"https://www.linkedin.com/in/nayefaboutayoun/?utm_medium=Exinfluencer\u0026utm_source=Exinfluencer\u0026utm_content=000026UJ\u0026utm_term=10006555\u0026utm_id=NA-SkillsNetwork-Channel-SkillsNetworkCoursesIBMDS0321ENSkillsNetwork26802033-2021-01-01\\\"\u003eNayef Abou Tayoun\u003c/a\u003e\\n\"}, {\"metadata\": {}, \"cell_type\": \"markdown\", \"source\": \"## Change Log\\n\"}, {\"metadata\": {}, \"cell_type\": \"markdown\", \"source\": \"| Date (YYYY-MM-DD) | Version | Changed By | Change Description          |\\n| ----------------- | ------- | ---------- | --------------------------- |\\n| 2021-06-09        | 1.0     | Yan Luo    | Tasks updates               |\\n| 2020-11-10        | 1.0     | Nayef      | Created the initial version |\\n\"}, {\"metadata\": {}, \"cell_type\": \"markdown\", \"source\": \"Copyright \\u00a9 2021 IBM Corporation. All rights reserved.\\n\"}], \"metadata\": {\"kernelspec\": {\"name\": \"python3\", \"display_name\": \"Python 3.8\", \"language\": \"python\"}, \"language_info\": {\"name\": \"python\", \"version\": \"3.8.12\", \"mimetype\": \"text/x-python\", \"codemirror_mode\": {\"name\": \"ipython\", \"version\": 3}, \"pygments_lexer\": \"ipython3\", \"nbconvert_exporter\": \"python\", \"file_extension\": \".py\"}}, \"nbformat\": 4, \"nbformat_minor\": 4}","colorizedLines":null,"stylingDirectives":null,"csv":null,"csvError":null,"dependabotInfo":{"showConfigurationBanner":false,"configFilePath":null,"networkDependabotPath":"/EveThan/IBM-Applied-Data-Science-Capstone-Project/network/updates","dismissConfigurationNoticePath":"/settings/dismiss-notice/dependabot_configuration_notice","configurationNoticeDismissed":false,"repoAlertsPath":"/EveThan/IBM-Applied-Data-Science-Capstone-Project/security/dependabot","repoSecurityAndAnalysisPath":"/EveThan/IBM-Applied-Data-Science-Capstone-Project/settings/security_analysis","repoOwnerIsOrg":false,"currentUserCanAdminRepo":false},"displayName":"2_Data Collection with Web Scraping.ipynb","displayUrl":"https://notebooks.githubusercontent.com/view/ipynb?browser=chrome\u0026bypass_fastly=true\u0026color_mode=auto\u0026commit=e72f4ba0bdc1b0a41fd3c52772229b3f458825b6\u0026device=unknown_device\u0026docs_host=https%3A%2F%2Fdocs.github.com\u0026enc_url=68747470733a2f2f7261772e67697468756275736572636f6e74656e742e636f6d2f4576655468616e2f49424d2d4170706c6965642d446174612d536369656e63652d43617073746f6e652d50726f6a6563742f653732663462613062646331623061343166643363353237373232323962336634353838323562362f325f44617461253230436f6c6c656374696f6e253230776974682532305765622532305363726170696e672e6970796e62\u0026logged_in=true\u0026nwo=EveThan%2FIBM-Applied-Data-Science-Capstone-Project\u0026path=2_Data+Collection+with+Web+Scraping.ipynb\u0026platform=windows\u0026repository_id=456360803\u0026repository_type=Repository\u0026version=114","headerInfo":{"blobSize":"57.1 KB","deleteInfo":{"deletePath":"https://github.com/EveThan/IBM-Applied-Data-Science-Capstone-Project/delete/main/2_Data%20Collection%20with%20Web%20Scraping.ipynb","deleteTooltip":"Fork this repository and delete the file"},"editInfo":{"editTooltip":"Fork this repository and edit the file"},"ghDesktopPath":"https://desktop.github.com","gitLfsPath":null,"onBranch":true,"shortPath":"6e65dbe","siteNavLoginPath":"/login?return_to=https%3A%2F%2Fgithub.com%2FEveThan%2FIBM-Applied-Data-Science-Capstone-Project%2Fblob%2Fmain%2F2_Data%2520Collection%2520with%2520Web%2520Scraping.ipynb","isCSV":false,"isRichtext":false,"toc":null,"lineInfo":{"truncatedLoc":"1","truncatedSloc":"1"},"mode":"file"},"image":false,"isCodeownersFile":null,"isValidLegacyIssueTemplate":false,"issueTemplateHelpUrl":"https://docs.github.com/articles/about-issue-and-pull-request-templates","issueTemplate":null,"discussionTemplate":null,"language":"Jupyter Notebook","large":false,"loggedIn":true,"newDiscussionPath":"/EveThan/IBM-Applied-Data-Science-Capstone-Project/discussions/new","newIssuePath":"/EveThan/IBM-Applied-Data-Science-Capstone-Project/issues/new","planSupportInfo":{"repoIsFork":null,"repoOwnedByCurrentUser":null,"requestFullPath":"/EveThan/IBM-Applied-Data-Science-Capstone-Project/blob/main/2_Data%20Collection%20with%20Web%20Scraping.ipynb","showFreeOrgGatedFeatureMessage":null,"showPlanSupportBanner":null,"upgradeDataAttributes":null,"upgradePath":null},"publishBannersInfo":{"dismissActionNoticePath":"/settings/dismiss-notice/publish_action_from_dockerfile","dismissStackNoticePath":"/settings/dismiss-notice/publish_stack_from_file","releasePath":"/EveThan/IBM-Applied-Data-Science-Capstone-Project/releases/new?marketplace=true","showPublishActionBanner":false,"showPublishStackBanner":false},"renderImageOrRaw":false,"richText":null,"renderedFileInfo":{"identityUUID":"a9b95282-1568-4400-b313-7411dfaf2b1e","renderFileType":"ipynb","size":58436},"tabSize":8,"topBannersInfo":{"overridingGlobalFundingFile":false,"globalPreferredFundingPath":null,"repoOwner":"EveThan","repoName":"IBM-Applied-Data-Science-Capstone-Project","showInvalidCitationWarning":false,"citationHelpUrl":"https://docs.github.com/en/github/creating-cloning-and-archiving-repositories/creating-a-repository-on-github/about-citation-files","showDependabotConfigurationBanner":false,"actionsOnboardingTip":null},"truncated":false,"viewable":true,"workflowRedirectUrl":null,"symbols":{"timedOut":false,"notAnalyzed":true,"symbols":[]}},"csrf_tokens":{"/EveThan/IBM-Applied-Data-Science-Capstone-Project/branches":{"post":"HxXfn361-YQQWMFbQ_vDnvUEjxep21BsJFkW-HDbflnBI5uyh_GHoxIXINrSBsTkcTBrjPYODTyO4TgUL5wteA"}}},"title":"IBM-Applied-Data-Science-Capstone-Project/2_Data Collection with Web Scraping.ipynb at main · EveThan/IBM-Applied-Data-Science-Capstone-Project","locale":"en","appPayload":{"helpUrl":"https://docs.github.com","findFileWorkerPath":"/assets-cdn/worker/find-file-worker-848bb9a5da17.js","findInFileWorkerPath":"/assets-cdn/worker/find-in-file-worker-a07dd72b5d73.js","githubDevUrl":"https://github.dev/","enabled_features":{"virtualize_file_tree":true,"react_repos_overview":false,"repos_new_shortcut_enabled":true,"blob_navigation_cursor":true,"code_nav_ui_events":false,"ref_selector_v2":false,"codeview_codemirror_next":false,"blob_firefox_separate_characters":false,"copilot_conversational_ux":false}}}</script>
  <div data-target="react-app.reactRoot"></div>
</react-app>
</turbo-frame>



  </div>

</turbo-frame>

    </main>
  </div>

  </div>

          <footer class="footer width-full container-xl p-responsive" role="contentinfo">
  <h2 class='sr-only'>Footer</h2>

  <div class="position-relative d-flex flex-items-center pb-2 f6 color-fg-muted border-top color-border-muted flex-column-reverse flex-lg-row flex-wrap flex-lg-nowrap mt-6 pt-6">
    <div class="list-style-none d-flex flex-wrap col-0 col-lg-2 flex-justify-start flex-lg-justify-between mb-2 mb-lg-0">
      <div class="mt-2 mt-lg-0 d-flex flex-items-center">
        <a aria-label="Homepage" title="GitHub" class="footer-octicon mr-2" href="https://github.com">
          <svg aria-hidden="true" height="24" viewBox="0 0 16 16" version="1.1" width="24" data-view-component="true" class="octicon octicon-mark-github">
    <path d="M8 0c4.42 0 8 3.58 8 8a8.013 8.013 0 0 1-5.45 7.59c-.4.08-.55-.17-.55-.38 0-.27.01-1.13.01-2.2 0-.75-.25-1.23-.54-1.48 1.78-.2 3.65-.88 3.65-3.95 0-.88-.31-1.59-.82-2.15.08-.2.36-1.02-.08-2.12 0 0-.67-.22-2.2.82-.64-.18-1.32-.27-2-.27-.68 0-1.36.09-2 .27-1.53-1.03-2.2-.82-2.2-.82-.44 1.1-.16 1.92-.08 2.12-.51.56-.82 1.28-.82 2.15 0 3.06 1.86 3.75 3.64 3.95-.23.2-.44.55-.51 1.07-.46.21-1.61.55-2.33-.66-.15-.24-.6-.83-1.23-.82-.67.01-.27.38.01.53.34.19.73.9.82 1.13.16.45.68 1.31 2.69.94 0 .67.01 1.3.01 1.49 0 .21-.15.45-.55.38A7.995 7.995 0 0 1 0 8c0-4.42 3.58-8 8-8Z"></path>
</svg>
</a>        <span>
        &copy; 2023 GitHub, Inc.
        </span>
      </div>
    </div>

    <nav aria-label='Footer' class="col-12 col-lg-8">
      <h3 class='sr-only' id='sr-footer-heading'>Footer navigation</h3>
      <ul class="list-style-none d-flex flex-wrap col-12 flex-justify-center flex-lg-justify-between mb-2 mb-lg-0" aria-labelledby='sr-footer-heading'>
          <li class="mr-3 mr-lg-0"><a href="https://docs.github.com/site-policy/github-terms/github-terms-of-service" data-analytics-event="{&quot;category&quot;:&quot;Footer&quot;,&quot;action&quot;:&quot;go to terms&quot;,&quot;label&quot;:&quot;text:terms&quot;}">Terms</a></li>
          <li class="mr-3 mr-lg-0"><a href="https://docs.github.com/site-policy/privacy-policies/github-privacy-statement" data-analytics-event="{&quot;category&quot;:&quot;Footer&quot;,&quot;action&quot;:&quot;go to privacy&quot;,&quot;label&quot;:&quot;text:privacy&quot;}">Privacy</a></li>
          <li class="mr-3 mr-lg-0"><a data-analytics-event="{&quot;category&quot;:&quot;Footer&quot;,&quot;action&quot;:&quot;go to security&quot;,&quot;label&quot;:&quot;text:security&quot;}" href="https://github.com/security">Security</a></li>
          <li class="mr-3 mr-lg-0"><a href="https://www.githubstatus.com/" data-analytics-event="{&quot;category&quot;:&quot;Footer&quot;,&quot;action&quot;:&quot;go to status&quot;,&quot;label&quot;:&quot;text:status&quot;}">Status</a></li>
          <li class="mr-3 mr-lg-0"><a data-ga-click="Footer, go to help, text:Docs" href="https://docs.github.com">Docs</a></li>
          <li class="mr-3 mr-lg-0"><a href="https://support.github.com?tags=dotcom-footer" data-analytics-event="{&quot;category&quot;:&quot;Footer&quot;,&quot;action&quot;:&quot;go to contact&quot;,&quot;label&quot;:&quot;text:contact&quot;}">Contact GitHub</a></li>
          <li class="mr-3 mr-lg-0"><a href="https://github.com/pricing" data-analytics-event="{&quot;category&quot;:&quot;Footer&quot;,&quot;action&quot;:&quot;go to Pricing&quot;,&quot;label&quot;:&quot;text:Pricing&quot;}">Pricing</a></li>
        <li class="mr-3 mr-lg-0"><a href="https://docs.github.com" data-analytics-event="{&quot;category&quot;:&quot;Footer&quot;,&quot;action&quot;:&quot;go to api&quot;,&quot;label&quot;:&quot;text:api&quot;}">API</a></li>
        <li class="mr-3 mr-lg-0"><a href="https://services.github.com" data-analytics-event="{&quot;category&quot;:&quot;Footer&quot;,&quot;action&quot;:&quot;go to training&quot;,&quot;label&quot;:&quot;text:training&quot;}">Training</a></li>
          <li class="mr-3 mr-lg-0"><a href="https://github.blog" data-analytics-event="{&quot;category&quot;:&quot;Footer&quot;,&quot;action&quot;:&quot;go to blog&quot;,&quot;label&quot;:&quot;text:blog&quot;}">Blog</a></li>
          <li><a data-ga-click="Footer, go to about, text:about" href="https://github.com/about">About</a></li>
      </ul>
    </nav>
  </div>

  <div class="d-flex flex-justify-center pb-6">
    <span class="f6 color-fg-muted"></span>
  </div>
</footer>




  <div id="ajax-error-message" class="ajax-error-message flash flash-error" hidden>
    <svg aria-hidden="true" height="16" viewBox="0 0 16 16" version="1.1" width="16" data-view-component="true" class="octicon octicon-alert">
    <path d="M6.457 1.047c.659-1.234 2.427-1.234 3.086 0l6.082 11.378A1.75 1.75 0 0 1 14.082 15H1.918a1.75 1.75 0 0 1-1.543-2.575Zm1.763.707a.25.25 0 0 0-.44 0L1.698 13.132a.25.25 0 0 0 .22.368h12.164a.25.25 0 0 0 .22-.368Zm.53 3.996v2.5a.75.75 0 0 1-1.5 0v-2.5a.75.75 0 0 1 1.5 0ZM9 11a1 1 0 1 1-2 0 1 1 0 0 1 2 0Z"></path>
</svg>
    <button type="button" class="flash-close js-ajax-error-dismiss" aria-label="Dismiss error">
      <svg aria-hidden="true" height="16" viewBox="0 0 16 16" version="1.1" width="16" data-view-component="true" class="octicon octicon-x">
    <path d="M3.72 3.72a.75.75 0 0 1 1.06 0L8 6.94l3.22-3.22a.749.749 0 0 1 1.275.326.749.749 0 0 1-.215.734L9.06 8l3.22 3.22a.749.749 0 0 1-.326 1.275.749.749 0 0 1-.734-.215L8 9.06l-3.22 3.22a.751.751 0 0 1-1.042-.018.751.751 0 0 1-.018-1.042L6.94 8 3.72 4.78a.75.75 0 0 1 0-1.06Z"></path>
</svg>
    </button>
    You can’t perform that action at this time.
  </div>

    <template id="site-details-dialog">
  <details class="details-reset details-overlay details-overlay-dark lh-default color-fg-default hx_rsm" open>
    <summary role="button" aria-label="Close dialog"></summary>
    <details-dialog class="Box Box--overlay d-flex flex-column anim-fade-in fast hx_rsm-dialog hx_rsm-modal">
      <button class="Box-btn-octicon m-0 btn-octicon position-absolute right-0 top-0" type="button" aria-label="Close dialog" data-close-dialog>
        <svg aria-hidden="true" height="16" viewBox="0 0 16 16" version="1.1" width="16" data-view-component="true" class="octicon octicon-x">
    <path d="M3.72 3.72a.75.75 0 0 1 1.06 0L8 6.94l3.22-3.22a.749.749 0 0 1 1.275.326.749.749 0 0 1-.215.734L9.06 8l3.22 3.22a.749.749 0 0 1-.326 1.275.749.749 0 0 1-.734-.215L8 9.06l-3.22 3.22a.751.751 0 0 1-1.042-.018.751.751 0 0 1-.018-1.042L6.94 8 3.72 4.78a.75.75 0 0 1 0-1.06Z"></path>
</svg>
      </button>
      <div class="octocat-spinner my-6 js-details-dialog-spinner"></div>
    </details-dialog>
  </details>
</template>

    <div class="Popover js-hovercard-content position-absolute" style="display: none; outline: none;" tabindex="0">
  <div class="Popover-message Popover-message--bottom-left Popover-message--large Box color-shadow-large" style="width:360px;">
  </div>
</div>

    <template id="snippet-clipboard-copy-button">
  <div class="zeroclipboard-container position-absolute right-0 top-0">
    <clipboard-copy aria-label="Copy" class="ClipboardButton btn js-clipboard-copy m-2 p-0 tooltipped-no-delay" data-copy-feedback="Copied!" data-tooltip-direction="w">
      <svg aria-hidden="true" height="16" viewBox="0 0 16 16" version="1.1" width="16" data-view-component="true" class="octicon octicon-copy js-clipboard-copy-icon m-2">
    <path d="M0 6.75C0 5.784.784 5 1.75 5h1.5a.75.75 0 0 1 0 1.5h-1.5a.25.25 0 0 0-.25.25v7.5c0 .138.112.25.25.25h7.5a.25.25 0 0 0 .25-.25v-1.5a.75.75 0 0 1 1.5 0v1.5A1.75 1.75 0 0 1 9.25 16h-7.5A1.75 1.75 0 0 1 0 14.25Z"></path><path d="M5 1.75C5 .784 5.784 0 6.75 0h7.5C15.216 0 16 .784 16 1.75v7.5A1.75 1.75 0 0 1 14.25 11h-7.5A1.75 1.75 0 0 1 5 9.25Zm1.75-.25a.25.25 0 0 0-.25.25v7.5c0 .138.112.25.25.25h7.5a.25.25 0 0 0 .25-.25v-7.5a.25.25 0 0 0-.25-.25Z"></path>
</svg>
      <svg aria-hidden="true" height="16" viewBox="0 0 16 16" version="1.1" width="16" data-view-component="true" class="octicon octicon-check js-clipboard-check-icon color-fg-success d-none m-2">
    <path d="M13.78 4.22a.75.75 0 0 1 0 1.06l-7.25 7.25a.75.75 0 0 1-1.06 0L2.22 9.28a.751.751 0 0 1 .018-1.042.751.751 0 0 1 1.042-.018L6 10.94l6.72-6.72a.75.75 0 0 1 1.06 0Z"></path>
</svg>
    </clipboard-copy>
  </div>
</template>
<template id="snippet-clipboard-copy-button-unpositioned">
  <div class="zeroclipboard-container">
    <clipboard-copy aria-label="Copy" class="ClipboardButton btn btn-invisible js-clipboard-copy m-2 p-0 tooltipped-no-delay d-flex flex-justify-center flex-items-center" data-copy-feedback="Copied!" data-tooltip-direction="w">
      <svg aria-hidden="true" height="16" viewBox="0 0 16 16" version="1.1" width="16" data-view-component="true" class="octicon octicon-copy js-clipboard-copy-icon">
    <path d="M0 6.75C0 5.784.784 5 1.75 5h1.5a.75.75 0 0 1 0 1.5h-1.5a.25.25 0 0 0-.25.25v7.5c0 .138.112.25.25.25h7.5a.25.25 0 0 0 .25-.25v-1.5a.75.75 0 0 1 1.5 0v1.5A1.75 1.75 0 0 1 9.25 16h-7.5A1.75 1.75 0 0 1 0 14.25Z"></path><path d="M5 1.75C5 .784 5.784 0 6.75 0h7.5C15.216 0 16 .784 16 1.75v7.5A1.75 1.75 0 0 1 14.25 11h-7.5A1.75 1.75 0 0 1 5 9.25Zm1.75-.25a.25.25 0 0 0-.25.25v7.5c0 .138.112.25.25.25h7.5a.25.25 0 0 0 .25-.25v-7.5a.25.25 0 0 0-.25-.25Z"></path>
</svg>
      <svg aria-hidden="true" height="16" viewBox="0 0 16 16" version="1.1" width="16" data-view-component="true" class="octicon octicon-check js-clipboard-check-icon color-fg-success d-none">
    <path d="M13.78 4.22a.75.75 0 0 1 0 1.06l-7.25 7.25a.75.75 0 0 1-1.06 0L2.22 9.28a.751.751 0 0 1 .018-1.042.751.751 0 0 1 1.042-.018L6 10.94l6.72-6.72a.75.75 0 0 1 1.06 0Z"></path>
</svg>
    </clipboard-copy>
  </div>
</template>


    <style>
      .user-mention[href$="/Emad-eldeen-Elsayed"] {
        color: var(--color-user-mention-fg);
        background-color: var(--color-user-mention-bg);
        border-radius: 2px;
        margin-left: -2px;
        margin-right: -2px;
        padding: 0 2px;
      }
    </style>


    </div>

    <div id="js-global-screen-reader-notice" class="sr-only" aria-live="polite" ></div>
  </body>
</html>

